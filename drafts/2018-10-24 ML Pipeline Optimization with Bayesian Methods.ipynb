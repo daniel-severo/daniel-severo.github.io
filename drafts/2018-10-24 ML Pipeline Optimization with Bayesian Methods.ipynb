{
 "cells": [
  {
   "cell_type": "markdown",
   "metadata": {},
   "source": [
    "Improving the performance of an ML model via hyperparameter optimization is common amongst practitioners of the field. While objects such as `sklearn.GridSearchCV` provide easy interfaces for such tasks, commiting to `sklearn`'s API and exploration strategy is not always possible. With `skopt` we can create a more flexible framework and, most importantly, reduce our optimization time by orders of magnitude with Bayesian regression."
   ]
  },
  {
   "cell_type": "code",
   "execution_count": 61,
   "metadata": {},
   "outputs": [],
   "source": [
    "%matplotlib inline"
   ]
  },
  {
   "cell_type": "code",
   "execution_count": 62,
   "metadata": {},
   "outputs": [],
   "source": [
    "import warnings\n",
    "warnings.filterwarnings(\"ignore\",category=DeprecationWarning)\n",
    "warnings.filterwarnings(\"ignore\",category=FutureWarning)"
   ]
  },
  {
   "cell_type": "code",
   "execution_count": 63,
   "metadata": {},
   "outputs": [],
   "source": [
    "import numpy as np\n",
    "import pandas as pd\n",
    "import seaborn as sns\n",
    "import matplotlib.pyplot as plt\n",
    "\n",
    "from sklearn.model_selection import (GridSearchCV, ShuffleSplit,\n",
    "                                     cross_val_score, cross_validate)\n",
    "from sklearn.tree import DecisionTreeRegressor\n",
    "from sklearn.datasets import make_regression\n",
    "from sklearn.gaussian_process import GaussianProcessRegressor\n",
    "from sklearn.gaussian_process.kernels import RBF, ConstantKernel as C\n",
    "\n",
    "from skopt import gp_minimize, BayesSearchCV\n",
    "from skopt.space import Integer\n",
    "from skopt.utils import use_named_args\n",
    "\n",
    "sns.set(style=\"darkgrid\")\n",
    "pd.set_option('display.max_rows', 5)\n",
    "pd.set_option('display.max_columns', 5)\n",
    "pd.set_option('display.precision', 2)\n",
    "pd.set_option('display.max_colwidth', 20)"
   ]
  },
  {
   "cell_type": "markdown",
   "metadata": {},
   "source": [
    "Here we will go through the process of solving a simple task of linear regression on a `1000x100` dataset `X` with target `y`. We start off with the simplest approach possible with no hyperparameter optimization. As we progress we transition to the Bayesian approach incrementaly.\n",
    "\n",
    "We've chosen to use the `sklearn.tree.DecisionTreeRegressor` model for the sake of simplicity."
   ]
  },
  {
   "cell_type": "code",
   "execution_count": 64,
   "metadata": {},
   "outputs": [],
   "source": [
    "X, y = make_regression(n_samples=1_000)\n",
    "model = DecisionTreeRegressor(random_state=0)"
   ]
  },
  {
   "cell_type": "markdown",
   "metadata": {},
   "source": [
    "`ShuffleSplit` is used as the cross-validation strategy instead of the usual `KFold`. The rationale behind this decision is beyond our current scope. It will suffice to understand that the former constructs the training and testing data by randomly drawing rows from `X` and the corresponding target value from `y`."
   ]
  },
  {
   "cell_type": "code",
   "execution_count": 65,
   "metadata": {},
   "outputs": [
    {
     "data": {
      "image/png": "[encoded data removed]",
      "text/plain": [
       "<Figure size 432x288 with 1 Axes>"
      ]
     },
     "metadata": {},
     "output_type": "display_data"
    }
   ],
   "source": [
    "cv = ShuffleSplit(n_splits=100, test_size=0.4, random_state=0)\n",
    "\n",
    "cv_results = cross_validate(model, X, y, scoring='r2', cv=cv,\n",
    "                            n_jobs=-1, return_train_score=False)\n",
    "\n",
    "plt.hist(cv_results['test_score']);"
   ]
  },
  {
   "cell_type": "markdown",
   "metadata": {},
   "source": [
    "The histogram shows the distribution of `100` R squared test scores calculated from train/test pairs generated with the aforementioned strategy."
   ]
  },
  {
   "cell_type": "markdown",
   "metadata": {},
   "source": [
    "We will now apply the same procedure with the added complexity of varying one hyperparameter: `min_samples_split`. How it affects our model is of no interest to us at this time. \n",
    "\n",
    "To do so, we employ `GridSearchCV` to explore `30` values of `min_samples_split` between from `10` to `100`. Hence, since our cross-validation strategy is the same as before, this gives us a total of `30 * 100 = 3000` instances."
   ]
  },
  {
   "cell_type": "code",
   "execution_count": 66,
   "metadata": {},
   "outputs": [],
   "source": [
    "param_grid = {\n",
    "    'min_samples_split': np.linspace(start=10, stop=100, num=30, dtype=int)\n",
    "}\n",
    "\n",
    "opt = GridSearchCV(model,\n",
    "                   param_grid,\n",
    "                   scoring='r2',\n",
    "                   cv=cv,\n",
    "                   return_train_score=True,\n",
    "                   n_jobs=-1)\n",
    "\n",
    "opt.fit(X, y);"
   ]
  },
  {
   "cell_type": "markdown",
   "metadata": {},
   "source": [
    "`opt.cv_results` allows us to gain some insight with respect to our optimization strategy. With a bit of manipulation, we can generate a dataframe containing all our test scores, with each column representing a single value of `min_samples_split`."
   ]
  },
  {
   "cell_type": "code",
   "execution_count": 67,
   "metadata": {
    "scrolled": true
   },
   "outputs": [
    {
     "data": {
      "text/html": [
       "<div>\n",
       "<style scoped>\n",
       "    .dataframe tbody tr th:only-of-type {\n",
       "        vertical-align: middle;\n",
       "    }\n",
       "\n",
       "    .dataframe tbody tr th {\n",
       "        vertical-align: top;\n",
       "    }\n",
       "\n",
       "    .dataframe thead th {\n",
       "        text-align: right;\n",
       "    }\n",
       "</style>\n",
       "<table border=\"1\" class=\"dataframe\">\n",
       "  <thead>\n",
       "    <tr style=\"text-align: right;\">\n",
       "      <th>param_min_samples_split</th>\n",
       "      <th>10</th>\n",
       "      <th>13</th>\n",
       "      <th>...</th>\n",
       "      <th>96</th>\n",
       "      <th>100</th>\n",
       "    </tr>\n",
       "  </thead>\n",
       "  <tbody>\n",
       "    <tr>\n",
       "      <th>split0_test_score</th>\n",
       "      <td>0.52</td>\n",
       "      <td>0.54</td>\n",
       "      <td>...</td>\n",
       "      <td>0.54</td>\n",
       "      <td>0.52</td>\n",
       "    </tr>\n",
       "    <tr>\n",
       "      <th>split1_test_score</th>\n",
       "      <td>0.54</td>\n",
       "      <td>0.55</td>\n",
       "      <td>...</td>\n",
       "      <td>0.55</td>\n",
       "      <td>0.55</td>\n",
       "    </tr>\n",
       "    <tr>\n",
       "      <th>...</th>\n",
       "      <td>...</td>\n",
       "      <td>...</td>\n",
       "      <td>...</td>\n",
       "      <td>...</td>\n",
       "      <td>...</td>\n",
       "    </tr>\n",
       "    <tr>\n",
       "      <th>split98_test_score</th>\n",
       "      <td>0.57</td>\n",
       "      <td>0.58</td>\n",
       "      <td>...</td>\n",
       "      <td>0.56</td>\n",
       "      <td>0.56</td>\n",
       "    </tr>\n",
       "    <tr>\n",
       "      <th>split99_test_score</th>\n",
       "      <td>0.60</td>\n",
       "      <td>0.60</td>\n",
       "      <td>...</td>\n",
       "      <td>0.54</td>\n",
       "      <td>0.54</td>\n",
       "    </tr>\n",
       "  </tbody>\n",
       "</table>\n",
       "<p>100 rows × 30 columns</p>\n",
       "</div>"
      ],
      "text/plain": [
       "param_min_samples_split   10    13   ...    96    100\n",
       "split0_test_score        0.52  0.54  ...   0.54  0.52\n",
       "split1_test_score        0.54  0.55  ...   0.55  0.55\n",
       "...                       ...   ...  ...    ...   ...\n",
       "split98_test_score       0.57  0.58  ...   0.56  0.56\n",
       "split99_test_score       0.60  0.60  ...   0.54  0.54\n",
       "\n",
       "[100 rows x 30 columns]"
      ]
     },
     "execution_count": 67,
     "metadata": {},
     "output_type": "execute_result"
    }
   ],
   "source": [
    "results = pd.DataFrame(opt.cv_results_)\n",
    "\n",
    "split_test_score_columns = [c for c in results.columns \n",
    "                            if c.startswith('split') and c.endswith('test_score')]\n",
    "\n",
    "splits = (results\n",
    "          .set_index('param_min_samples_split')\n",
    "          [split_test_score_columns]\n",
    "          .transpose())\n",
    "\n",
    "splits"
   ]
  },
  {
   "cell_type": "code",
   "execution_count": 68,
   "metadata": {},
   "outputs": [
    {
     "data": {
      "image/png": "[encoded data removed]",
      "text/plain": [
       "<Figure size 864x864 with 30 Axes>"
      ]
     },
     "metadata": {},
     "output_type": "display_data"
    }
   ],
   "source": [
    "splits.hist(figsize=(12,12), sharex=True, sharey=True);"
   ]
  },
  {
   "cell_type": "code",
   "execution_count": 69,
   "metadata": {},
   "outputs": [
    {
     "data": {
      "image/png": "[encoded data removed]",
      "text/plain": [
       "<Figure size 864x360 with 1 Axes>"
      ]
     },
     "metadata": {},
     "output_type": "display_data"
    }
   ],
   "source": [
    "splits.boxplot(figsize=(12,5));"
   ]
  },
  {
   "cell_type": "markdown",
   "metadata": {},
   "source": [
    "Notice how the median test scores vary smoothly. For a given value of `min_samples_split` neighboring points will have similar test scores. \n",
    "\n",
    "`GridSearchCV` does **not** take this into account, for we simply tell it to explore our parameter space almost exhaustively. \n",
    "\n",
    "Can we do better? Aye! The trick is to somehow *transfer* the knowledge we gain upon running our model for some value of `min_samples_split` to nearby points. The closer these points are to our current value, the better we can garuantee the similarity in performance. So, instead of treating each point independently, we will assume their distributions (loosely speaking, the histograms) are correlated.\n",
    "\n",
    "We can easily do this with `skopt`, an optimization library built on top of `scikit-learn`."
   ]
  },
  {
   "cell_type": "code",
   "execution_count": 84,
   "metadata": {},
   "outputs": [
    {
     "name": "stdout",
     "output_type": "stream",
     "text": [
      "{'min_samples_split': 63} -0.596537802343955\n",
      "{'min_samples_split': 86} -0.5633821374365953\n",
      "{'min_samples_split': 87} -0.5619990228203495\n",
      "{'min_samples_split': 86} -0.5633821374365953\n",
      "{'min_samples_split': 66} -0.5923319355092533\n",
      "{'min_samples_split': 45} -0.6112249370832981\n",
      "{'min_samples_split': 37} -0.6111518813525008\n",
      "{'min_samples_split': 15} -0.5468269564781781\n",
      "{'min_samples_split': 35} -0.6107370182674395\n",
      "{'min_samples_split': 53} -0.6061383402047038\n"
     ]
    }
   ],
   "source": [
    "dimensions = [Integer(10, 100, name='min_samples_split')]\n",
    "\n",
    "@use_named_args(dimensions)\n",
    "def objective(**params):\n",
    "    model = DecisionTreeRegressor(random_state=0, **params)\n",
    "    mean_loss = -cross_val_score(model, X, y, scoring='r2', n_jobs=-1, cv=cv).mean()\n",
    "    print(params, mean_loss)\n",
    "    return mean_loss\n",
    "\n",
    "res = gp_minimize(objective, dimensions, n_calls=10, n_jobs=-1, random_state=0)"
   ]
  },
  {
   "cell_type": "markdown",
   "metadata": {},
   "source": [
    "Instead of passing a `param_grid` like in `GridSearchCV`, we define our parameters as dimensions. Here we are saying that `min_sample_split` is an integer value that lies between `10` and `100`. Our `objective` function defines the optimization problem at hand. Here we specify what we want to **minimize**. In this case it is the average value of our test scores given a certain cross-validation strategy, negated.\n",
    "\n",
    "`gp_minimize` will call `objective` `10` times, changing the values each time for `min_samples_split` before-hand. This choice of which value to set is based on a strategy that draws inspiration from our previous analysis."
   ]
  }
 ],
 "metadata": {
  "kernelspec": {
   "display_name": "dsevero.com",
   "language": "python",
   "name": "dsevero.com"
  },
  "language_info": {
   "codemirror_mode": {
    "name": "ipython",
    "version": 3
   },
   "file_extension": ".py",
   "mimetype": "text/x-python",
   "name": "python",
   "nbconvert_exporter": "python",
   "pygments_lexer": "ipython3",
   "version": "3.7.0"
  }
 },
 "nbformat": 4,
 "nbformat_minor": 2
}
