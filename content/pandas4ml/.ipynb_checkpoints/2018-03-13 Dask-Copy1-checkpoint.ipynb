{
 "cells": [
  {
   "cell_type": "code",
   "execution_count": 1,
   "metadata": {},
   "outputs": [],
   "source": [
    "%matplotlib inline"
   ]
  },
  {
   "cell_type": "code",
   "execution_count": 2,
   "metadata": {},
   "outputs": [
    {
     "data": {
      "text/html": [
       "\n",
       "    <div class=\"bk-root\">\n",
       "        <a href=\"https://bokeh.pydata.org\" target=\"_blank\" class=\"bk-logo bk-logo-small bk-logo-notebook\"></a>\n",
       "        <span id=\"f926f3ed-e0f1-4dea-b866-699767995705\">Loading BokehJS ...</span>\n",
       "    </div>"
      ]
     },
     "metadata": {},
     "output_type": "display_data"
    },
    {
     "data": {
      "application/javascript": [
       "\n",
       "(function(root) {\n",
       "  function now() {\n",
       "    return new Date();\n",
       "  }\n",
       "\n",
       "  var force = true;\n",
       "\n",
       "  if (typeof (root._bokeh_onload_callbacks) === \"undefined\" || force === true) {\n",
       "    root._bokeh_onload_callbacks = [];\n",
       "    root._bokeh_is_loading = undefined;\n",
       "  }\n",
       "\n",
       "  var JS_MIME_TYPE = 'application/javascript';\n",
       "  var HTML_MIME_TYPE = 'text/html';\n",
       "  var EXEC_MIME_TYPE = 'application/vnd.bokehjs_exec.v0+json';\n",
       "  var CLASS_NAME = 'output_bokeh rendered_html';\n",
       "\n",
       "  /**\n",
       "   * Render data to the DOM node\n",
       "   */\n",
       "  function render(props, node) {\n",
       "    var script = document.createElement(\"script\");\n",
       "    node.appendChild(script);\n",
       "  }\n",
       "\n",
       "  /**\n",
       "   * Handle when an output is cleared or removed\n",
       "   */\n",
       "  function handleClearOutput(event, handle) {\n",
       "    var cell = handle.cell;\n",
       "\n",
       "    var id = cell.output_area._bokeh_element_id;\n",
       "    var server_id = cell.output_area._bokeh_server_id;\n",
       "    // Clean up Bokeh references\n",
       "    if (id !== undefined) {\n",
       "      Bokeh.index[id].model.document.clear();\n",
       "      delete Bokeh.index[id];\n",
       "    }\n",
       "\n",
       "    if (server_id !== undefined) {\n",
       "      // Clean up Bokeh references\n",
       "      var cmd = \"from bokeh.io.state import curstate; print(curstate().uuid_to_server['\" + server_id + \"'].get_sessions()[0].document.roots[0]._id)\";\n",
       "      cell.notebook.kernel.execute(cmd, {\n",
       "        iopub: {\n",
       "          output: function(msg) {\n",
       "            var element_id = msg.content.text.trim();\n",
       "            Bokeh.index[element_id].model.document.clear();\n",
       "            delete Bokeh.index[element_id];\n",
       "          }\n",
       "        }\n",
       "      });\n",
       "      // Destroy server and session\n",
       "      var cmd = \"import bokeh.io.notebook as ion; ion.destroy_server('\" + server_id + \"')\";\n",
       "      cell.notebook.kernel.execute(cmd);\n",
       "    }\n",
       "  }\n",
       "\n",
       "  /**\n",
       "   * Handle when a new output is added\n",
       "   */\n",
       "  function handleAddOutput(event, handle) {\n",
       "    var output_area = handle.output_area;\n",
       "    var output = handle.output;\n",
       "\n",
       "    // limit handleAddOutput to display_data with EXEC_MIME_TYPE content only\n",
       "    if ((output.output_type != \"display_data\") || (!output.data.hasOwnProperty(EXEC_MIME_TYPE))) {\n",
       "      return\n",
       "    }\n",
       "\n",
       "    var toinsert = output_area.element.find(\".\" + CLASS_NAME.split(' ')[0]);\n",
       "\n",
       "    if (output.metadata[EXEC_MIME_TYPE][\"id\"] !== undefined) {\n",
       "      toinsert[0].firstChild.textContent = output.data[JS_MIME_TYPE];\n",
       "      // store reference to embed id on output_area\n",
       "      output_area._bokeh_element_id = output.metadata[EXEC_MIME_TYPE][\"id\"];\n",
       "    }\n",
       "    if (output.metadata[EXEC_MIME_TYPE][\"server_id\"] !== undefined) {\n",
       "      var bk_div = document.createElement(\"div\");\n",
       "      bk_div.innerHTML = output.data[HTML_MIME_TYPE];\n",
       "      var script_attrs = bk_div.children[0].attributes;\n",
       "      for (var i = 0; i < script_attrs.length; i++) {\n",
       "        toinsert[0].firstChild.setAttribute(script_attrs[i].name, script_attrs[i].value);\n",
       "      }\n",
       "      // store reference to server id on output_area\n",
       "      output_area._bokeh_server_id = output.metadata[EXEC_MIME_TYPE][\"server_id\"];\n",
       "    }\n",
       "  }\n",
       "\n",
       "  function register_renderer(events, OutputArea) {\n",
       "\n",
       "    function append_mime(data, metadata, element) {\n",
       "      // create a DOM node to render to\n",
       "      var toinsert = this.create_output_subarea(\n",
       "        metadata,\n",
       "        CLASS_NAME,\n",
       "        EXEC_MIME_TYPE\n",
       "      );\n",
       "      this.keyboard_manager.register_events(toinsert);\n",
       "      // Render to node\n",
       "      var props = {data: data, metadata: metadata[EXEC_MIME_TYPE]};\n",
       "      render(props, toinsert[0]);\n",
       "      element.append(toinsert);\n",
       "      return toinsert\n",
       "    }\n",
       "\n",
       "    /* Handle when an output is cleared or removed */\n",
       "    events.on('clear_output.CodeCell', handleClearOutput);\n",
       "    events.on('delete.Cell', handleClearOutput);\n",
       "\n",
       "    /* Handle when a new output is added */\n",
       "    events.on('output_added.OutputArea', handleAddOutput);\n",
       "\n",
       "    /**\n",
       "     * Register the mime type and append_mime function with output_area\n",
       "     */\n",
       "    OutputArea.prototype.register_mime_type(EXEC_MIME_TYPE, append_mime, {\n",
       "      /* Is output safe? */\n",
       "      safe: true,\n",
       "      /* Index of renderer in `output_area.display_order` */\n",
       "      index: 0\n",
       "    });\n",
       "  }\n",
       "\n",
       "  // register the mime type if in Jupyter Notebook environment and previously unregistered\n",
       "  if (root.Jupyter !== undefined) {\n",
       "    var events = require('base/js/events');\n",
       "    var OutputArea = require('notebook/js/outputarea').OutputArea;\n",
       "\n",
       "    if (OutputArea.prototype.mime_types().indexOf(EXEC_MIME_TYPE) == -1) {\n",
       "      register_renderer(events, OutputArea);\n",
       "    }\n",
       "  }\n",
       "\n",
       "  \n",
       "  if (typeof (root._bokeh_timeout) === \"undefined\" || force === true) {\n",
       "    root._bokeh_timeout = Date.now() + 5000;\n",
       "    root._bokeh_failed_load = false;\n",
       "  }\n",
       "\n",
       "  var NB_LOAD_WARNING = {'data': {'text/html':\n",
       "     \"<div style='background-color: #fdd'>\\n\"+\n",
       "     \"<p>\\n\"+\n",
       "     \"BokehJS does not appear to have successfully loaded. If loading BokehJS from CDN, this \\n\"+\n",
       "     \"may be due to a slow or bad network connection. Possible fixes:\\n\"+\n",
       "     \"</p>\\n\"+\n",
       "     \"<ul>\\n\"+\n",
       "     \"<li>re-rerun `output_notebook()` to attempt to load from CDN again, or</li>\\n\"+\n",
       "     \"<li>use INLINE resources instead, as so:</li>\\n\"+\n",
       "     \"</ul>\\n\"+\n",
       "     \"<code>\\n\"+\n",
       "     \"from bokeh.resources import INLINE\\n\"+\n",
       "     \"output_notebook(resources=INLINE)\\n\"+\n",
       "     \"</code>\\n\"+\n",
       "     \"</div>\"}};\n",
       "\n",
       "  function display_loaded() {\n",
       "    var el = document.getElementById(\"f926f3ed-e0f1-4dea-b866-699767995705\");\n",
       "    if (el != null) {\n",
       "      el.textContent = \"BokehJS is loading...\";\n",
       "    }\n",
       "    if (root.Bokeh !== undefined) {\n",
       "      if (el != null) {\n",
       "        el.textContent = \"BokehJS \" + root.Bokeh.version + \" successfully loaded.\";\n",
       "      }\n",
       "    } else if (Date.now() < root._bokeh_timeout) {\n",
       "      setTimeout(display_loaded, 100)\n",
       "    }\n",
       "  }\n",
       "\n",
       "\n",
       "  function run_callbacks() {\n",
       "    try {\n",
       "      root._bokeh_onload_callbacks.forEach(function(callback) { callback() });\n",
       "    }\n",
       "    finally {\n",
       "      delete root._bokeh_onload_callbacks\n",
       "    }\n",
       "    console.info(\"Bokeh: all callbacks have finished\");\n",
       "  }\n",
       "\n",
       "  function load_libs(js_urls, callback) {\n",
       "    root._bokeh_onload_callbacks.push(callback);\n",
       "    if (root._bokeh_is_loading > 0) {\n",
       "      console.log(\"Bokeh: BokehJS is being loaded, scheduling callback at\", now());\n",
       "      return null;\n",
       "    }\n",
       "    if (js_urls == null || js_urls.length === 0) {\n",
       "      run_callbacks();\n",
       "      return null;\n",
       "    }\n",
       "    console.log(\"Bokeh: BokehJS not loaded, scheduling load and callback at\", now());\n",
       "    root._bokeh_is_loading = js_urls.length;\n",
       "    for (var i = 0; i < js_urls.length; i++) {\n",
       "      var url = js_urls[i];\n",
       "      var s = document.createElement('script');\n",
       "      s.src = url;\n",
       "      s.async = false;\n",
       "      s.onreadystatechange = s.onload = function() {\n",
       "        root._bokeh_is_loading--;\n",
       "        if (root._bokeh_is_loading === 0) {\n",
       "          console.log(\"Bokeh: all BokehJS libraries loaded\");\n",
       "          run_callbacks()\n",
       "        }\n",
       "      };\n",
       "      s.onerror = function() {\n",
       "        console.warn(\"failed to load library \" + url);\n",
       "      };\n",
       "      console.log(\"Bokeh: injecting script tag for BokehJS library: \", url);\n",
       "      document.getElementsByTagName(\"head\")[0].appendChild(s);\n",
       "    }\n",
       "  };var element = document.getElementById(\"f926f3ed-e0f1-4dea-b866-699767995705\");\n",
       "  if (element == null) {\n",
       "    console.log(\"Bokeh: ERROR: autoload.js configured with elementid 'f926f3ed-e0f1-4dea-b866-699767995705' but no matching script tag was found. \")\n",
       "    return false;\n",
       "  }\n",
       "\n",
       "  var js_urls = [\"https://cdn.pydata.org/bokeh/release/bokeh-0.12.14.min.js\", \"https://cdn.pydata.org/bokeh/release/bokeh-widgets-0.12.14.min.js\", \"https://cdn.pydata.org/bokeh/release/bokeh-tables-0.12.14.min.js\", \"https://cdn.pydata.org/bokeh/release/bokeh-gl-0.12.14.min.js\"];\n",
       "\n",
       "  var inline_js = [\n",
       "    function(Bokeh) {\n",
       "      Bokeh.set_log_level(\"info\");\n",
       "    },\n",
       "    \n",
       "    function(Bokeh) {\n",
       "      \n",
       "    },\n",
       "    function(Bokeh) {\n",
       "      console.log(\"Bokeh: injecting CSS: https://cdn.pydata.org/bokeh/release/bokeh-0.12.14.min.css\");\n",
       "      Bokeh.embed.inject_css(\"https://cdn.pydata.org/bokeh/release/bokeh-0.12.14.min.css\");\n",
       "      console.log(\"Bokeh: injecting CSS: https://cdn.pydata.org/bokeh/release/bokeh-widgets-0.12.14.min.css\");\n",
       "      Bokeh.embed.inject_css(\"https://cdn.pydata.org/bokeh/release/bokeh-widgets-0.12.14.min.css\");\n",
       "      console.log(\"Bokeh: injecting CSS: https://cdn.pydata.org/bokeh/release/bokeh-tables-0.12.14.min.css\");\n",
       "      Bokeh.embed.inject_css(\"https://cdn.pydata.org/bokeh/release/bokeh-tables-0.12.14.min.css\");\n",
       "    }\n",
       "  ];\n",
       "\n",
       "  function run_inline_js() {\n",
       "    \n",
       "    if ((root.Bokeh !== undefined) || (force === true)) {\n",
       "      for (var i = 0; i < inline_js.length; i++) {\n",
       "        inline_js[i].call(root, root.Bokeh);\n",
       "      }if (force === true) {\n",
       "        display_loaded();\n",
       "      }} else if (Date.now() < root._bokeh_timeout) {\n",
       "      setTimeout(run_inline_js, 100);\n",
       "    } else if (!root._bokeh_failed_load) {\n",
       "      console.log(\"Bokeh: BokehJS failed to load within specified timeout.\");\n",
       "      root._bokeh_failed_load = true;\n",
       "    } else if (force !== true) {\n",
       "      var cell = $(document.getElementById(\"f926f3ed-e0f1-4dea-b866-699767995705\")).parents('.cell').data().cell;\n",
       "      cell.output_area.append_execute_result(NB_LOAD_WARNING)\n",
       "    }\n",
       "\n",
       "  }\n",
       "\n",
       "  if (root._bokeh_is_loading === 0) {\n",
       "    console.log(\"Bokeh: BokehJS loaded, going straight to plotting\");\n",
       "    run_inline_js();\n",
       "  } else {\n",
       "    load_libs(js_urls, function() {\n",
       "      console.log(\"Bokeh: BokehJS plotting callback run at\", now());\n",
       "      run_inline_js();\n",
       "    });\n",
       "  }\n",
       "}(window));"
      ],
      "application/vnd.bokehjs_load.v0+json": "\n(function(root) {\n  function now() {\n    return new Date();\n  }\n\n  var force = true;\n\n  if (typeof (root._bokeh_onload_callbacks) === \"undefined\" || force === true) {\n    root._bokeh_onload_callbacks = [];\n    root._bokeh_is_loading = undefined;\n  }\n\n  \n\n  \n  if (typeof (root._bokeh_timeout) === \"undefined\" || force === true) {\n    root._bokeh_timeout = Date.now() + 5000;\n    root._bokeh_failed_load = false;\n  }\n\n  var NB_LOAD_WARNING = {'data': {'text/html':\n     \"<div style='background-color: #fdd'>\\n\"+\n     \"<p>\\n\"+\n     \"BokehJS does not appear to have successfully loaded. If loading BokehJS from CDN, this \\n\"+\n     \"may be due to a slow or bad network connection. Possible fixes:\\n\"+\n     \"</p>\\n\"+\n     \"<ul>\\n\"+\n     \"<li>re-rerun `output_notebook()` to attempt to load from CDN again, or</li>\\n\"+\n     \"<li>use INLINE resources instead, as so:</li>\\n\"+\n     \"</ul>\\n\"+\n     \"<code>\\n\"+\n     \"from bokeh.resources import INLINE\\n\"+\n     \"output_notebook(resources=INLINE)\\n\"+\n     \"</code>\\n\"+\n     \"</div>\"}};\n\n  function display_loaded() {\n    var el = document.getElementById(\"f926f3ed-e0f1-4dea-b866-699767995705\");\n    if (el != null) {\n      el.textContent = \"BokehJS is loading...\";\n    }\n    if (root.Bokeh !== undefined) {\n      if (el != null) {\n        el.textContent = \"BokehJS \" + root.Bokeh.version + \" successfully loaded.\";\n      }\n    } else if (Date.now() < root._bokeh_timeout) {\n      setTimeout(display_loaded, 100)\n    }\n  }\n\n\n  function run_callbacks() {\n    try {\n      root._bokeh_onload_callbacks.forEach(function(callback) { callback() });\n    }\n    finally {\n      delete root._bokeh_onload_callbacks\n    }\n    console.info(\"Bokeh: all callbacks have finished\");\n  }\n\n  function load_libs(js_urls, callback) {\n    root._bokeh_onload_callbacks.push(callback);\n    if (root._bokeh_is_loading > 0) {\n      console.log(\"Bokeh: BokehJS is being loaded, scheduling callback at\", now());\n      return null;\n    }\n    if (js_urls == null || js_urls.length === 0) {\n      run_callbacks();\n      return null;\n    }\n    console.log(\"Bokeh: BokehJS not loaded, scheduling load and callback at\", now());\n    root._bokeh_is_loading = js_urls.length;\n    for (var i = 0; i < js_urls.length; i++) {\n      var url = js_urls[i];\n      var s = document.createElement('script');\n      s.src = url;\n      s.async = false;\n      s.onreadystatechange = s.onload = function() {\n        root._bokeh_is_loading--;\n        if (root._bokeh_is_loading === 0) {\n          console.log(\"Bokeh: all BokehJS libraries loaded\");\n          run_callbacks()\n        }\n      };\n      s.onerror = function() {\n        console.warn(\"failed to load library \" + url);\n      };\n      console.log(\"Bokeh: injecting script tag for BokehJS library: \", url);\n      document.getElementsByTagName(\"head\")[0].appendChild(s);\n    }\n  };var element = document.getElementById(\"f926f3ed-e0f1-4dea-b866-699767995705\");\n  if (element == null) {\n    console.log(\"Bokeh: ERROR: autoload.js configured with elementid 'f926f3ed-e0f1-4dea-b866-699767995705' but no matching script tag was found. \")\n    return false;\n  }\n\n  var js_urls = [\"https://cdn.pydata.org/bokeh/release/bokeh-0.12.14.min.js\", \"https://cdn.pydata.org/bokeh/release/bokeh-widgets-0.12.14.min.js\", \"https://cdn.pydata.org/bokeh/release/bokeh-tables-0.12.14.min.js\", \"https://cdn.pydata.org/bokeh/release/bokeh-gl-0.12.14.min.js\"];\n\n  var inline_js = [\n    function(Bokeh) {\n      Bokeh.set_log_level(\"info\");\n    },\n    \n    function(Bokeh) {\n      \n    },\n    function(Bokeh) {\n      console.log(\"Bokeh: injecting CSS: https://cdn.pydata.org/bokeh/release/bokeh-0.12.14.min.css\");\n      Bokeh.embed.inject_css(\"https://cdn.pydata.org/bokeh/release/bokeh-0.12.14.min.css\");\n      console.log(\"Bokeh: injecting CSS: https://cdn.pydata.org/bokeh/release/bokeh-widgets-0.12.14.min.css\");\n      Bokeh.embed.inject_css(\"https://cdn.pydata.org/bokeh/release/bokeh-widgets-0.12.14.min.css\");\n      console.log(\"Bokeh: injecting CSS: https://cdn.pydata.org/bokeh/release/bokeh-tables-0.12.14.min.css\");\n      Bokeh.embed.inject_css(\"https://cdn.pydata.org/bokeh/release/bokeh-tables-0.12.14.min.css\");\n    }\n  ];\n\n  function run_inline_js() {\n    \n    if ((root.Bokeh !== undefined) || (force === true)) {\n      for (var i = 0; i < inline_js.length; i++) {\n        inline_js[i].call(root, root.Bokeh);\n      }if (force === true) {\n        display_loaded();\n      }} else if (Date.now() < root._bokeh_timeout) {\n      setTimeout(run_inline_js, 100);\n    } else if (!root._bokeh_failed_load) {\n      console.log(\"Bokeh: BokehJS failed to load within specified timeout.\");\n      root._bokeh_failed_load = true;\n    } else if (force !== true) {\n      var cell = $(document.getElementById(\"f926f3ed-e0f1-4dea-b866-699767995705\")).parents('.cell').data().cell;\n      cell.output_area.append_execute_result(NB_LOAD_WARNING)\n    }\n\n  }\n\n  if (root._bokeh_is_loading === 0) {\n    console.log(\"Bokeh: BokehJS loaded, going straight to plotting\");\n    run_inline_js();\n  } else {\n    load_libs(js_urls, function() {\n      console.log(\"Bokeh: BokehJS plotting callback run at\", now());\n      run_inline_js();\n    });\n  }\n}(window));"
     },
     "metadata": {},
     "output_type": "display_data"
    }
   ],
   "source": [
    "import pandas as pd\n",
    "import numpy as np\n",
    "import matplotlib.pyplot as plt\n",
    "import dask.dataframe as dd\n",
    "import dask.bag as db\n",
    "import dask.diagnostics as dg\n",
    "import dask\n",
    "from dask.multiprocessing import get as mp_scheduler\n",
    "from dask.multiprocessing import get as mt_scheduler\n",
    "from bokeh.io import output_notebook\n",
    "from typing import List\n",
    "\n",
    "output_notebook()\n",
    "plt.style.use('seaborn-whitegrid')"
   ]
  },
  {
   "cell_type": "code",
   "execution_count": 3,
   "metadata": {},
   "outputs": [],
   "source": [
    "MEGABYTES = 1024**2"
   ]
  },
  {
   "cell_type": "markdown",
   "metadata": {},
   "source": [
    "# Kaggle"
   ]
  },
  {
   "cell_type": "markdown",
   "metadata": {},
   "source": [
    "https://github.com/Kaggle/kaggle-api"
   ]
  },
  {
   "cell_type": "markdown",
   "metadata": {},
   "source": [
    "```bash\n",
    "pip install kaggle\n",
    "mkdir -p ~/.kaggle/\n",
    "cp ~/Downloads/kaggle.json ~/.kaggle/\n",
    "chmod 600 ~/.kaggle/kaggle.json\n",
    "kaggle competitions download -c web-traffic-time-series-forecasting\n",
    "```\n",
    "\n",
    "```bash\n",
    "DATA_HOME=~/.kaggle/competitions/web-traffic-time-series-forecasting\n",
    "for i in $(ls $DATA_HOME); do\n",
    "    unzip $DATA_HOME/$i -d $DATA_HOME/\n",
    "done\n",
    "```"
   ]
  },
  {
   "cell_type": "code",
   "execution_count": 4,
   "metadata": {},
   "outputs": [
    {
     "data": {
      "text/plain": [
       "{'key_1': '/home/severo/.kaggle/competitions/web-traffic-time-series-forecasting/key_1.csv',\n",
       " 'key_2': '/home/severo/.kaggle/competitions/web-traffic-time-series-forecasting/key_2.csv',\n",
       " 'sample_submission_1': '/home/severo/.kaggle/competitions/web-traffic-time-series-forecasting/sample_submission_1.csv',\n",
       " 'sample_submission_2': '/home/severo/.kaggle/competitions/web-traffic-time-series-forecasting/sample_submission_2.csv',\n",
       " 'train_1': '/home/severo/.kaggle/competitions/web-traffic-time-series-forecasting/train_1.csv',\n",
       " 'train_2': '/home/severo/.kaggle/competitions/web-traffic-time-series-forecasting/train_2.csv'}"
      ]
     },
     "execution_count": 4,
     "metadata": {},
     "output_type": "execute_result"
    }
   ],
   "source": [
    "home = '/home/severo/.kaggle/competitions/web-traffic-time-series-forecasting/'\n",
    "files = !ls {home}\n",
    "datasets = {f.split('.')[0]:home+f for f in files if f.endswith('.csv')}\n",
    "datasets"
   ]
  },
  {
   "cell_type": "markdown",
   "metadata": {},
   "source": [
    "# Pandas"
   ]
  },
  {
   "cell_type": "code",
   "execution_count": 5,
   "metadata": {},
   "outputs": [
    {
     "data": {
      "text/plain": [
       "6605.351316452026"
      ]
     },
     "execution_count": 5,
     "metadata": {},
     "output_type": "execute_result"
    }
   ],
   "source": [
    "sum(pd.read_csv(d).memory_usage(deep=True).sum() for d in datasets.values())/MEGABYTES"
   ]
  },
  {
   "cell_type": "code",
   "execution_count": 6,
   "metadata": {},
   "outputs": [
    {
     "data": {
      "text/html": [
       "<div>\n",
       "<style scoped>\n",
       "    .dataframe tbody tr th:only-of-type {\n",
       "        vertical-align: middle;\n",
       "    }\n",
       "\n",
       "    .dataframe tbody tr th {\n",
       "        vertical-align: top;\n",
       "    }\n",
       "\n",
       "    .dataframe thead th {\n",
       "        text-align: right;\n",
       "    }\n",
       "</style>\n",
       "<table border=\"1\" class=\"dataframe\">\n",
       "  <thead>\n",
       "    <tr style=\"text-align: right;\">\n",
       "      <th></th>\n",
       "      <th>Page</th>\n",
       "      <th>2015-07-01</th>\n",
       "      <th>2015-07-02</th>\n",
       "      <th>2015-07-03</th>\n",
       "      <th>2015-07-04</th>\n",
       "      <th>2015-07-05</th>\n",
       "      <th>2015-07-06</th>\n",
       "      <th>2015-07-07</th>\n",
       "      <th>2015-07-08</th>\n",
       "      <th>2015-07-09</th>\n",
       "      <th>...</th>\n",
       "      <th>2016-12-22</th>\n",
       "      <th>2016-12-23</th>\n",
       "      <th>2016-12-24</th>\n",
       "      <th>2016-12-25</th>\n",
       "      <th>2016-12-26</th>\n",
       "      <th>2016-12-27</th>\n",
       "      <th>2016-12-28</th>\n",
       "      <th>2016-12-29</th>\n",
       "      <th>2016-12-30</th>\n",
       "      <th>2016-12-31</th>\n",
       "    </tr>\n",
       "  </thead>\n",
       "  <tbody>\n",
       "    <tr>\n",
       "      <th>0</th>\n",
       "      <td>2NE1_zh.wikipedia.org_all-access_spider</td>\n",
       "      <td>18.0</td>\n",
       "      <td>11.0</td>\n",
       "      <td>5.0</td>\n",
       "      <td>13.0</td>\n",
       "      <td>14.0</td>\n",
       "      <td>9.0</td>\n",
       "      <td>9.0</td>\n",
       "      <td>22.0</td>\n",
       "      <td>26.0</td>\n",
       "      <td>...</td>\n",
       "      <td>32</td>\n",
       "      <td>63</td>\n",
       "      <td>15</td>\n",
       "      <td>26</td>\n",
       "      <td>14</td>\n",
       "      <td>20</td>\n",
       "      <td>22</td>\n",
       "      <td>19</td>\n",
       "      <td>18</td>\n",
       "      <td>20</td>\n",
       "    </tr>\n",
       "    <tr>\n",
       "      <th>1</th>\n",
       "      <td>2PM_zh.wikipedia.org_all-access_spider</td>\n",
       "      <td>11.0</td>\n",
       "      <td>14.0</td>\n",
       "      <td>15.0</td>\n",
       "      <td>18.0</td>\n",
       "      <td>11.0</td>\n",
       "      <td>13.0</td>\n",
       "      <td>22.0</td>\n",
       "      <td>11.0</td>\n",
       "      <td>10.0</td>\n",
       "      <td>...</td>\n",
       "      <td>17</td>\n",
       "      <td>42</td>\n",
       "      <td>28</td>\n",
       "      <td>15</td>\n",
       "      <td>9</td>\n",
       "      <td>30</td>\n",
       "      <td>52</td>\n",
       "      <td>45</td>\n",
       "      <td>26</td>\n",
       "      <td>20</td>\n",
       "    </tr>\n",
       "    <tr>\n",
       "      <th>2</th>\n",
       "      <td>3C_zh.wikipedia.org_all-access_spider</td>\n",
       "      <td>1.0</td>\n",
       "      <td>0.0</td>\n",
       "      <td>1.0</td>\n",
       "      <td>1.0</td>\n",
       "      <td>0.0</td>\n",
       "      <td>4.0</td>\n",
       "      <td>0.0</td>\n",
       "      <td>3.0</td>\n",
       "      <td>4.0</td>\n",
       "      <td>...</td>\n",
       "      <td>3</td>\n",
       "      <td>1</td>\n",
       "      <td>1</td>\n",
       "      <td>7</td>\n",
       "      <td>4</td>\n",
       "      <td>4</td>\n",
       "      <td>6</td>\n",
       "      <td>3</td>\n",
       "      <td>4</td>\n",
       "      <td>17</td>\n",
       "    </tr>\n",
       "    <tr>\n",
       "      <th>3</th>\n",
       "      <td>4minute_zh.wikipedia.org_all-access_spider</td>\n",
       "      <td>35.0</td>\n",
       "      <td>13.0</td>\n",
       "      <td>10.0</td>\n",
       "      <td>94.0</td>\n",
       "      <td>4.0</td>\n",
       "      <td>26.0</td>\n",
       "      <td>14.0</td>\n",
       "      <td>9.0</td>\n",
       "      <td>11.0</td>\n",
       "      <td>...</td>\n",
       "      <td>32</td>\n",
       "      <td>10</td>\n",
       "      <td>26</td>\n",
       "      <td>27</td>\n",
       "      <td>16</td>\n",
       "      <td>11</td>\n",
       "      <td>17</td>\n",
       "      <td>19</td>\n",
       "      <td>10</td>\n",
       "      <td>11</td>\n",
       "    </tr>\n",
       "    <tr>\n",
       "      <th>4</th>\n",
       "      <td>52_Hz_I_Love_You_zh.wikipedia.org_all-access_s...</td>\n",
       "      <td>NaN</td>\n",
       "      <td>NaN</td>\n",
       "      <td>NaN</td>\n",
       "      <td>NaN</td>\n",
       "      <td>NaN</td>\n",
       "      <td>NaN</td>\n",
       "      <td>NaN</td>\n",
       "      <td>NaN</td>\n",
       "      <td>NaN</td>\n",
       "      <td>...</td>\n",
       "      <td>48</td>\n",
       "      <td>9</td>\n",
       "      <td>25</td>\n",
       "      <td>13</td>\n",
       "      <td>3</td>\n",
       "      <td>11</td>\n",
       "      <td>27</td>\n",
       "      <td>13</td>\n",
       "      <td>36</td>\n",
       "      <td>10</td>\n",
       "    </tr>\n",
       "  </tbody>\n",
       "</table>\n",
       "<p>5 rows × 551 columns</p>\n",
       "</div>"
      ],
      "text/plain": [
       "                                                Page  2015-07-01  2015-07-02  \\\n",
       "0            2NE1_zh.wikipedia.org_all-access_spider        18.0        11.0   \n",
       "1             2PM_zh.wikipedia.org_all-access_spider        11.0        14.0   \n",
       "2              3C_zh.wikipedia.org_all-access_spider         1.0         0.0   \n",
       "3         4minute_zh.wikipedia.org_all-access_spider        35.0        13.0   \n",
       "4  52_Hz_I_Love_You_zh.wikipedia.org_all-access_s...         NaN         NaN   \n",
       "\n",
       "   2015-07-03  2015-07-04  2015-07-05  2015-07-06  2015-07-07  2015-07-08  \\\n",
       "0         5.0        13.0        14.0         9.0         9.0        22.0   \n",
       "1        15.0        18.0        11.0        13.0        22.0        11.0   \n",
       "2         1.0         1.0         0.0         4.0         0.0         3.0   \n",
       "3        10.0        94.0         4.0        26.0        14.0         9.0   \n",
       "4         NaN         NaN         NaN         NaN         NaN         NaN   \n",
       "\n",
       "   2015-07-09     ...      2016-12-22  2016-12-23  2016-12-24  2016-12-25  \\\n",
       "0        26.0     ...              32          63          15          26   \n",
       "1        10.0     ...              17          42          28          15   \n",
       "2         4.0     ...               3           1           1           7   \n",
       "3        11.0     ...              32          10          26          27   \n",
       "4         NaN     ...              48           9          25          13   \n",
       "\n",
       "   2016-12-26  2016-12-27  2016-12-28  2016-12-29  2016-12-30  2016-12-31  \n",
       "0          14          20          22          19          18          20  \n",
       "1           9          30          52          45          26          20  \n",
       "2           4           4           6           3           4          17  \n",
       "3          16          11          17          19          10          11  \n",
       "4           3          11          27          13          36          10  \n",
       "\n",
       "[5 rows x 551 columns]"
      ]
     },
     "execution_count": 6,
     "metadata": {},
     "output_type": "execute_result"
    }
   ],
   "source": [
    "pd.read_csv(datasets['train_1'], chunksize=5).get_chunk()"
   ]
  },
  {
   "cell_type": "code",
   "execution_count": 7,
   "metadata": {},
   "outputs": [
    {
     "data": {
      "text/html": [
       "<div>\n",
       "<style scoped>\n",
       "    .dataframe tbody tr th:only-of-type {\n",
       "        vertical-align: middle;\n",
       "    }\n",
       "\n",
       "    .dataframe tbody tr th {\n",
       "        vertical-align: top;\n",
       "    }\n",
       "\n",
       "    .dataframe thead th {\n",
       "        text-align: right;\n",
       "    }\n",
       "</style>\n",
       "<table border=\"1\" class=\"dataframe\">\n",
       "  <thead>\n",
       "    <tr style=\"text-align: right;\">\n",
       "      <th></th>\n",
       "      <th>Page</th>\n",
       "      <th>Id</th>\n",
       "    </tr>\n",
       "  </thead>\n",
       "  <tbody>\n",
       "    <tr>\n",
       "      <th>0</th>\n",
       "      <td>!vote_en.wikipedia.org_all-access_all-agents_2...</td>\n",
       "      <td>bf4edcf969af</td>\n",
       "    </tr>\n",
       "    <tr>\n",
       "      <th>1</th>\n",
       "      <td>!vote_en.wikipedia.org_all-access_all-agents_2...</td>\n",
       "      <td>929ed2bf52b9</td>\n",
       "    </tr>\n",
       "    <tr>\n",
       "      <th>2</th>\n",
       "      <td>!vote_en.wikipedia.org_all-access_all-agents_2...</td>\n",
       "      <td>ff29d0f51d5c</td>\n",
       "    </tr>\n",
       "    <tr>\n",
       "      <th>3</th>\n",
       "      <td>!vote_en.wikipedia.org_all-access_all-agents_2...</td>\n",
       "      <td>e98873359be6</td>\n",
       "    </tr>\n",
       "    <tr>\n",
       "      <th>4</th>\n",
       "      <td>!vote_en.wikipedia.org_all-access_all-agents_2...</td>\n",
       "      <td>fa012434263a</td>\n",
       "    </tr>\n",
       "  </tbody>\n",
       "</table>\n",
       "</div>"
      ],
      "text/plain": [
       "                                                Page            Id\n",
       "0  !vote_en.wikipedia.org_all-access_all-agents_2...  bf4edcf969af\n",
       "1  !vote_en.wikipedia.org_all-access_all-agents_2...  929ed2bf52b9\n",
       "2  !vote_en.wikipedia.org_all-access_all-agents_2...  ff29d0f51d5c\n",
       "3  !vote_en.wikipedia.org_all-access_all-agents_2...  e98873359be6\n",
       "4  !vote_en.wikipedia.org_all-access_all-agents_2...  fa012434263a"
      ]
     },
     "execution_count": 7,
     "metadata": {},
     "output_type": "execute_result"
    }
   ],
   "source": [
    "pd.read_csv(datasets['key_1'], chunksize=5).get_chunk()"
   ]
  },
  {
   "cell_type": "markdown",
   "metadata": {},
   "source": [
    "# Dask"
   ]
  },
  {
   "cell_type": "markdown",
   "metadata": {},
   "source": [
    "```bash\n",
    "jupyter labextension install jupyterlab_bokeh\n",
    "```"
   ]
  },
  {
   "cell_type": "code",
   "execution_count": 8,
   "metadata": {},
   "outputs": [
    {
     "data": {
      "text/html": [
       "<div>\n",
       "<style scoped>\n",
       "    .dataframe tbody tr th:only-of-type {\n",
       "        vertical-align: middle;\n",
       "    }\n",
       "\n",
       "    .dataframe tbody tr th {\n",
       "        vertical-align: top;\n",
       "    }\n",
       "\n",
       "    .dataframe thead th {\n",
       "        text-align: right;\n",
       "    }\n",
       "</style>\n",
       "<table border=\"1\" class=\"dataframe\">\n",
       "  <thead>\n",
       "    <tr style=\"text-align: right;\">\n",
       "      <th></th>\n",
       "      <th>Page</th>\n",
       "      <th>Id</th>\n",
       "    </tr>\n",
       "  </thead>\n",
       "  <tbody>\n",
       "    <tr>\n",
       "      <th>0</th>\n",
       "      <td>!vote_en.wikipedia.org_all-access_all-agents_2...</td>\n",
       "      <td>bf4edcf969af</td>\n",
       "    </tr>\n",
       "    <tr>\n",
       "      <th>1</th>\n",
       "      <td>!vote_en.wikipedia.org_all-access_all-agents_2...</td>\n",
       "      <td>929ed2bf52b9</td>\n",
       "    </tr>\n",
       "    <tr>\n",
       "      <th>2</th>\n",
       "      <td>!vote_en.wikipedia.org_all-access_all-agents_2...</td>\n",
       "      <td>ff29d0f51d5c</td>\n",
       "    </tr>\n",
       "    <tr>\n",
       "      <th>3</th>\n",
       "      <td>!vote_en.wikipedia.org_all-access_all-agents_2...</td>\n",
       "      <td>e98873359be6</td>\n",
       "    </tr>\n",
       "    <tr>\n",
       "      <th>4</th>\n",
       "      <td>!vote_en.wikipedia.org_all-access_all-agents_2...</td>\n",
       "      <td>fa012434263a</td>\n",
       "    </tr>\n",
       "  </tbody>\n",
       "</table>\n",
       "</div>"
      ],
      "text/plain": [
       "                                                Page            Id\n",
       "0  !vote_en.wikipedia.org_all-access_all-agents_2...  bf4edcf969af\n",
       "1  !vote_en.wikipedia.org_all-access_all-agents_2...  929ed2bf52b9\n",
       "2  !vote_en.wikipedia.org_all-access_all-agents_2...  ff29d0f51d5c\n",
       "3  !vote_en.wikipedia.org_all-access_all-agents_2...  e98873359be6\n",
       "4  !vote_en.wikipedia.org_all-access_all-agents_2...  fa012434263a"
      ]
     },
     "execution_count": 8,
     "metadata": {},
     "output_type": "execute_result"
    }
   ],
   "source": [
    "(\n",
    "    dd\n",
    "    .read_csv(datasets['key_1'])\n",
    "    .head()\n",
    ")"
   ]
  },
  {
   "cell_type": "code",
   "execution_count": 9,
   "metadata": {},
   "outputs": [
    {
     "name": "stdout",
     "output_type": "stream",
     "text": [
      "[########################################] | 100% Completed | 39.8s\n"
     ]
    },
    {
     "data": {
      "text/html": [
       "\n",
       "<div class=\"bk-root\">\n",
       "    <div class=\"bk-plotdiv\" id=\"62b96920-956c-4a34-8949-86ada127cca4\"></div>\n",
       "</div>"
      ]
     },
     "metadata": {},
     "output_type": "display_data"
    },
    {
     "data": {
      "application/javascript": [
       "(function(root) {\n",
       "  function embed_document(root) {\n",
       "    \n",
       "  var docs_json = {\"857535e0-e88a-4ad9-8e6f-088cf2bdad01\":{\"roots\":{\"references\":[{\"attributes\":{\"callback\":null,\"point_policy\":\"follow_mouse\",\"tooltips\":\"\\n    <div>\\n        <span style=\\\"font-size: 14px; font-weight: bold;\\\">Key:</span>&nbsp;\\n        <span style=\\\"font-size: 10px; font-family: Monaco, monospace;\\\">@key</span>\\n    </div>\\n    <div>\\n        <span style=\\\"font-size: 14px; font-weight: bold;\\\">Task:</span>&nbsp;\\n        <span style=\\\"font-size: 10px; font-family: Monaco, monospace;\\\">@function</span>\\n    </div>\\n    \"},\"id\":\"5c6a87e4-d765-421d-a991-007e40b73767\",\"type\":\"HoverTool\"},{\"attributes\":{},\"id\":\"8ab31225-bc11-4209-bd41-c87a4b552519\",\"type\":\"SaveTool\"},{\"attributes\":{},\"id\":\"9753e474-e974-495a-a28b-484e6f039978\",\"type\":\"ResetTool\"},{\"attributes\":{\"dimensions\":\"width\"},\"id\":\"8104c510-02a2-46ad-871b-8705d995970c\",\"type\":\"WheelZoomTool\"},{\"attributes\":{\"dimensions\":\"width\"},\"id\":\"1451ce07-d31f-4800-935e-7046569da01b\",\"type\":\"PanTool\"},{\"attributes\":{},\"id\":\"26be73f6-89c8-4fd5-8852-6fd498e14ea9\",\"type\":\"LinearScale\"},{\"attributes\":{\"label\":{\"value\":\"% CPU\"},\"renderers\":[{\"id\":\"736e886b-1244-407f-b19f-537f6f246839\",\"type\":\"GlyphRenderer\"}]},\"id\":\"7005989b-1d74-4aa7-9962-064ec19b4944\",\"type\":\"LegendItem\"},{\"attributes\":{},\"id\":\"8ee03b3e-170c-4479-8f09-b11deb66ab9c\",\"type\":\"LinearScale\"},{\"attributes\":{\"plot\":{\"id\":\"ddbb627d-dd5f-49a6-a71c-0fb56d0c4806\",\"subtype\":\"Figure\",\"type\":\"Plot\"},\"ticker\":{\"id\":\"e51e301c-0eb6-43cf-827c-6d51e12d5659\",\"type\":\"BasicTicker\"}},\"id\":\"a756f442-3d7f-471f-931f-5ba6ee49076e\",\"type\":\"Grid\"},{\"attributes\":{\"fill_color\":{\"field\":\"color\"},\"height\":{\"units\":\"data\",\"value\":1},\"line_color\":{\"value\":\"gray\"},\"width\":{\"field\":\"width\",\"units\":\"data\"},\"x\":{\"field\":\"x\"},\"y\":{\"field\":\"y\"}},\"id\":\"6ffeb47e-e349-4d4f-bf58-af7371ff57f8\",\"type\":\"Rect\"},{\"attributes\":{\"axis_label\":null,\"formatter\":{\"id\":\"41dd8dde-ed9c-4348-9289-88e4dff10d47\",\"type\":\"BasicTickFormatter\"},\"plot\":{\"id\":\"ddbb627d-dd5f-49a6-a71c-0fb56d0c4806\",\"subtype\":\"Figure\",\"type\":\"Plot\"},\"ticker\":{\"id\":\"e51e301c-0eb6-43cf-827c-6d51e12d5659\",\"type\":\"BasicTicker\"}},\"id\":\"f9275829-f609-4f1c-af82-f031013f9a61\",\"type\":\"LinearAxis\"},{\"attributes\":{},\"id\":\"e51e301c-0eb6-43cf-827c-6d51e12d5659\",\"type\":\"BasicTicker\"},{\"attributes\":{\"axis_label\":\"% CPU\",\"formatter\":{\"id\":\"ee5d6426-1c75-43f7-9b41-e5435c2c84b3\",\"type\":\"BasicTickFormatter\"},\"plot\":{\"id\":\"ddbb627d-dd5f-49a6-a71c-0fb56d0c4806\",\"subtype\":\"Figure\",\"type\":\"Plot\"},\"ticker\":{\"id\":\"d580a4c0-9006-4487-ae44-23de207c0b62\",\"type\":\"BasicTicker\"}},\"id\":\"dc432334-766c-4d16-9905-492a9886cf62\",\"type\":\"LinearAxis\"},{\"attributes\":{},\"id\":\"d580a4c0-9006-4487-ae44-23de207c0b62\",\"type\":\"BasicTicker\"},{\"attributes\":{\"dimension\":1,\"plot\":{\"id\":\"ddbb627d-dd5f-49a6-a71c-0fb56d0c4806\",\"subtype\":\"Figure\",\"type\":\"Plot\"},\"ticker\":{\"id\":\"d580a4c0-9006-4487-ae44-23de207c0b62\",\"type\":\"BasicTicker\"}},\"id\":\"4cd7c551-b40c-42c1-9e8f-aa3c16d73284\",\"type\":\"Grid\"},{\"attributes\":{},\"id\":\"1723b757-15bf-4aca-aea9-9bb54e7b1b2b\",\"type\":\"SaveTool\"},{\"attributes\":{\"data_source\":{\"id\":\"8c35378b-15e9-47c0-9d0e-dbc8a5998ad0\",\"type\":\"ColumnDataSource\"},\"glyph\":{\"id\":\"6ffeb47e-e349-4d4f-bf58-af7371ff57f8\",\"type\":\"Rect\"},\"hover_glyph\":null,\"muted_glyph\":null,\"nonselection_glyph\":{\"id\":\"5da90ebd-c4dc-4642-a823-8c96b1eb92fb\",\"type\":\"Rect\"},\"selection_glyph\":null,\"view\":{\"id\":\"95fe53fa-2f54-4f4a-8abe-740524f33fd6\",\"type\":\"CDSView\"}},\"id\":\"99c3c1b8-cc62-4d4e-9fe1-ab24a08413d2\",\"type\":\"GlyphRenderer\"},{\"attributes\":{\"toolbar\":{\"id\":\"979de512-b539-4b4d-83ed-fa080fe5ca9c\",\"type\":\"ProxyToolbar\"},\"toolbar_location\":\"above\"},\"id\":\"28d2972c-3ebd-418e-8dd0-619f56c17821\",\"type\":\"ToolbarBox\"},{\"attributes\":{\"fill_alpha\":{\"value\":0.1},\"fill_color\":{\"value\":\"#1f77b4\"},\"height\":{\"units\":\"data\",\"value\":1},\"line_alpha\":{\"value\":0.1},\"line_color\":{\"value\":\"#1f77b4\"},\"width\":{\"field\":\"width\",\"units\":\"data\"},\"x\":{\"field\":\"x\"},\"y\":{\"field\":\"y\"}},\"id\":\"5da90ebd-c4dc-4642-a823-8c96b1eb92fb\",\"type\":\"Rect\"},{\"attributes\":{\"axis_label\":\"Worker ID\",\"axis_line_color\":{\"value\":null},\"formatter\":{\"id\":\"3dbddef7-35bf-4ed0-8271-e984a13620a8\",\"type\":\"CategoricalTickFormatter\"},\"major_tick_line_color\":{\"value\":null},\"plot\":{\"id\":\"eda00955-50eb-4853-86f8-f658b472800b\",\"subtype\":\"Figure\",\"type\":\"Plot\"},\"ticker\":{\"id\":\"cea85982-1f6a-46f8-ad1a-9e8de543657f\",\"type\":\"CategoricalTicker\"}},\"id\":\"5d3ace87-f677-4fc4-bbfb-4ac339b23f6b\",\"type\":\"CategoricalAxis\"},{\"attributes\":{},\"id\":\"111d5515-e44a-41f6-a633-f13265898689\",\"type\":\"BasicTicker\"},{\"attributes\":{\"tools\":[{\"id\":\"1723b757-15bf-4aca-aea9-9bb54e7b1b2b\",\"type\":\"SaveTool\"},{\"id\":\"0ef7040a-e845-43d1-8abc-d23a593b544c\",\"type\":\"ResetTool\"},{\"id\":\"91eadc58-21d4-4444-a1de-d2b73fb50cb2\",\"type\":\"WheelZoomTool\"},{\"id\":\"a24d7c76-6a21-409a-b72e-7385e20d58b3\",\"type\":\"PanTool\"},{\"id\":\"5c6a87e4-d765-421d-a991-007e40b73767\",\"type\":\"HoverTool\"},{\"id\":\"8ab31225-bc11-4209-bd41-c87a4b552519\",\"type\":\"SaveTool\"},{\"id\":\"9753e474-e974-495a-a28b-484e6f039978\",\"type\":\"ResetTool\"},{\"id\":\"8104c510-02a2-46ad-871b-8705d995970c\",\"type\":\"WheelZoomTool\"},{\"id\":\"1451ce07-d31f-4800-935e-7046569da01b\",\"type\":\"PanTool\"}]},\"id\":\"979de512-b539-4b4d-83ed-fa080fe5ca9c\",\"type\":\"ProxyToolbar\"},{\"attributes\":{\"children\":[{\"id\":\"eda00955-50eb-4853-86f8-f658b472800b\",\"subtype\":\"Figure\",\"type\":\"Plot\"}]},\"id\":\"9ddf25f0-f52c-4f99-b337-8c8895fd51c8\",\"type\":\"Row\"},{\"attributes\":{},\"id\":\"0ef7040a-e845-43d1-8abc-d23a593b544c\",\"type\":\"ResetTool\"},{\"attributes\":{\"below\":[{\"id\":\"f9275829-f609-4f1c-af82-f031013f9a61\",\"type\":\"LinearAxis\"}],\"extra_y_ranges\":{\"memory\":{\"id\":\"ac4899e1-58d1-433f-aa3c-a8873d59b485\",\"type\":\"Range1d\"}},\"left\":[{\"id\":\"dc432334-766c-4d16-9905-492a9886cf62\",\"type\":\"LinearAxis\"}],\"min_border_bottom\":20,\"min_border_left\":75,\"min_border_right\":75,\"plot_height\":270,\"plot_width\":800,\"renderers\":[{\"id\":\"f9275829-f609-4f1c-af82-f031013f9a61\",\"type\":\"LinearAxis\"},{\"id\":\"a756f442-3d7f-471f-931f-5ba6ee49076e\",\"type\":\"Grid\"},{\"id\":\"dc432334-766c-4d16-9905-492a9886cf62\",\"type\":\"LinearAxis\"},{\"id\":\"4cd7c551-b40c-42c1-9e8f-aa3c16d73284\",\"type\":\"Grid\"},{\"id\":\"0ab83e69-d272-41c5-b071-e18cc8789757\",\"type\":\"Legend\"},{\"id\":\"736e886b-1244-407f-b19f-537f6f246839\",\"type\":\"GlyphRenderer\"},{\"id\":\"54bbf789-cd3f-478f-95b7-75619cd0f594\",\"type\":\"GlyphRenderer\"},{\"id\":\"460c09e2-617e-4c8f-ad44-247d9ba5d453\",\"type\":\"LinearAxis\"}],\"right\":[{\"id\":\"460c09e2-617e-4c8f-ad44-247d9ba5d453\",\"type\":\"LinearAxis\"}],\"title\":{\"id\":\"ba36e630-6e89-4740-9517-8957baec3002\",\"type\":\"Title\"},\"toolbar\":{\"id\":\"44e1a125-6634-4528-9e96-2d3333adbaa9\",\"type\":\"Toolbar\"},\"toolbar_location\":null,\"x_range\":{\"id\":\"1bbb6eb5-cde8-419e-9f3f-7a2a9f586f4f\",\"type\":\"Range1d\"},\"x_scale\":{\"id\":\"8ee03b3e-170c-4479-8f09-b11deb66ab9c\",\"type\":\"LinearScale\"},\"y_range\":{\"id\":\"0b843a5a-7af2-400d-96db-f3f50a2b99df\",\"type\":\"Range1d\"},\"y_scale\":{\"id\":\"26be73f6-89c8-4fd5-8852-6fd498e14ea9\",\"type\":\"LinearScale\"}},\"id\":\"ddbb627d-dd5f-49a6-a71c-0fb56d0c4806\",\"subtype\":\"Figure\",\"type\":\"Plot\"},{\"attributes\":{\"dimensions\":\"width\"},\"id\":\"91eadc58-21d4-4444-a1de-d2b73fb50cb2\",\"type\":\"WheelZoomTool\"},{\"attributes\":{\"children\":[{\"id\":\"28d2972c-3ebd-418e-8dd0-619f56c17821\",\"type\":\"ToolbarBox\"},{\"id\":\"3e7af846-32da-4b85-adcd-7b979141b668\",\"type\":\"Column\"}]},\"id\":\"2bdfa13a-c51b-4b22-aa56-4c93f8fe1579\",\"type\":\"Column\"},{\"attributes\":{\"dimensions\":\"width\"},\"id\":\"a24d7c76-6a21-409a-b72e-7385e20d58b3\",\"type\":\"PanTool\"},{\"attributes\":{\"children\":[{\"id\":\"24d67dfa-e1d3-4983-9b9f-247e045cc219\",\"type\":\"Row\"},{\"id\":\"9ddf25f0-f52c-4f99-b337-8c8895fd51c8\",\"type\":\"Row\"}]},\"id\":\"3e7af846-32da-4b85-adcd-7b979141b668\",\"type\":\"Column\"},{\"attributes\":{},\"id\":\"cea85982-1f6a-46f8-ad1a-9e8de543657f\",\"type\":\"CategoricalTicker\"},{\"attributes\":{\"plot\":null,\"text\":\"Profile Results\"},\"id\":\"ba36e630-6e89-4740-9517-8957baec3002\",\"type\":\"Title\"},{\"attributes\":{\"dimension\":1,\"grid_line_color\":{\"value\":null},\"plot\":{\"id\":\"eda00955-50eb-4853-86f8-f658b472800b\",\"subtype\":\"Figure\",\"type\":\"Plot\"},\"ticker\":{\"id\":\"cea85982-1f6a-46f8-ad1a-9e8de543657f\",\"type\":\"CategoricalTicker\"}},\"id\":\"f78c45a9-630a-42fa-ac35-495a79771385\",\"type\":\"Grid\"},{\"attributes\":{},\"id\":\"13fc12f4-5136-4264-ac2c-33e84e855b21\",\"type\":\"BasicTicker\"},{\"attributes\":{\"axis_label\":\"Time (s)\",\"axis_line_color\":{\"value\":null},\"formatter\":{\"id\":\"6ce253d5-c74b-40d9-a7c3-fcfe38071403\",\"type\":\"BasicTickFormatter\"},\"major_tick_line_color\":{\"value\":null},\"plot\":{\"id\":\"eda00955-50eb-4853-86f8-f658b472800b\",\"subtype\":\"Figure\",\"type\":\"Plot\"},\"ticker\":{\"id\":\"111d5515-e44a-41f6-a633-f13265898689\",\"type\":\"BasicTicker\"}},\"id\":\"bb38005f-143b-4d26-aba3-28918bbd6123\",\"type\":\"LinearAxis\"},{\"attributes\":{},\"id\":\"b64d4081-060b-4b00-9883-4121b161a4ee\",\"type\":\"BasicTickFormatter\"},{\"attributes\":{\"grid_line_color\":{\"value\":null},\"plot\":{\"id\":\"eda00955-50eb-4853-86f8-f658b472800b\",\"subtype\":\"Figure\",\"type\":\"Plot\"},\"ticker\":{\"id\":\"111d5515-e44a-41f6-a633-f13265898689\",\"type\":\"BasicTicker\"}},\"id\":\"b1e9638f-c7e4-4313-872f-04679aa97054\",\"type\":\"Grid\"},{\"attributes\":{},\"id\":\"6ce253d5-c74b-40d9-a7c3-fcfe38071403\",\"type\":\"BasicTickFormatter\"},{\"attributes\":{\"callback\":null,\"column_names\":[\"width\",\"x\",\"y\",\"function\",\"color\",\"key\"],\"data\":{\"color\":[\"#FDE724\",\"#FDE724\",\"#FDE724\",\"#FDE724\",\"#22A784\",\"#22A784\",\"#22A784\",\"#22A784\",\"#29788E\",\"#404387\",\"#FDE724\",\"#79D151\",\"#29788E\",\"#404387\",\"#29788E\",\"#404387\",\"#29788E\",\"#404387\",\"#29788E\",\"#404387\",\"#440154\"],\"function\":[\"read_block_from_file(*, *, *, *)\",\"read_block_from_file(*, *, *, *)\",\"read_block_from_file(*, *, *, *)\",\"read_block_from_file(*, *, *, *)\",\"pandas_read_text(*, _, *, dict(...), dict(...), [*, *, *, ...], enforce=*)\",\"pandas_read_text(*, _, *, dict(...), dict(...), [*, *, *, ...], enforce=*)\",\"pandas_read_text(*, _, *, dict(...), dict(...), [*, *, *, ...], enforce=*)\",\"pandas_read_text(*, _, *, dict(...), dict(...), [*, *, *, ...], enforce=*)\",\"check_meta(_, *, *)\",\"_reduction_chunk(_, aca_chunk=*, axis=*, skipna=*)\",\"read_block_from_file(*, *, *, *)\",\"pandas_read_text(..., ...)\",\"check_meta(_, *, *)\",\"_reduction_chunk(_, aca_chunk=*, axis=*, skipna=*)\",\"check_meta(_, *, *)\",\"_reduction_chunk(_, aca_chunk=*, axis=*, skipna=*)\",\"check_meta(_, *, *)\",\"_reduction_chunk(_, aca_chunk=*, axis=*, skipna=*)\",\"check_meta(_, *, *)\",\"_reduction_chunk(_, aca_chunk=*, axis=*, skipna=*)\",\"_reduction_aggregate(_concat(...), aca_aggregate=*, axis=*, skipna=*)\"],\"key\":[\"read-block-256000000-343d71fa50c14f8151874fb76e486dc0\",\"read-block-192000000-343d71fa50c14f8151874fb76e486dc0\",\"read-block-128000000-343d71fa50c14f8151874fb76e486dc0\",\"read-block-64000000-343d71fa50c14f8151874fb76e486dc0\",\"pandas_read_text-477d5cf49b50c3562d21f5682eed9782\",\"pandas_read_text-fe5e88eb0f9c16222c2113e8747b5551\",\"pandas_read_text-ccf6c4ce2ed364086b539ab7bb3ee5b9\",\"pandas_read_text-50e7e95a4fd220d6eb9d77cd114d947a\",\"('from-delayed-9bd214ad7f92797f940b9e9a387cc931', 4)\",\"('dataframe-sum-chunk-e2e3e61b6477081515c900cc27261859', 0, 4, 0)\",\"read-block-0-343d71fa50c14f8151874fb76e486dc0\",\"pandas_read_text-0c18568f1c7ec7394368627c50d1ab46\",\"('from-delayed-9bd214ad7f92797f940b9e9a387cc931', 2)\",\"('dataframe-sum-chunk-e2e3e61b6477081515c900cc27261859', 0, 2, 0)\",\"('from-delayed-9bd214ad7f92797f940b9e9a387cc931', 1)\",\"('dataframe-sum-chunk-e2e3e61b6477081515c900cc27261859', 0, 1, 0)\",\"('from-delayed-9bd214ad7f92797f940b9e9a387cc931', 3)\",\"('dataframe-sum-chunk-e2e3e61b6477081515c900cc27261859', 0, 3, 0)\",\"('from-delayed-9bd214ad7f92797f940b9e9a387cc931', 0)\",\"('dataframe-sum-chunk-e2e3e61b6477081515c900cc27261859', 0, 0, 0)\",\"('dataframe-sum-agg-e2e3e61b6477081515c900cc27261859', 0)\"],\"width\":[0.014175813994370401,0.049596103010117076,0.04837641199992504,0.035138334991643205,1.403008895998937,12.591239707006025,4.521970843998133,21.66028277600708,0.0047198469983413815,0.9065204680082388,0.014367109004524536,28.796136635006405,0.006488351005828008,7.868544090990326,0.004519009991781786,8.967758982005762,0.004544027004158124,8.688414816002478,0.004389006004203111,8.593012355995597,0.0764512960013235],\"x\":[0.0070879069971852005,0.025985871499869972,0.025783040007809177,0.01948286649712827,0.7156940189888701,6.332678139500786,2.3109612749831285,10.880927861988312,1.419564507494215,1.875188577992958,2.3356380074983463,16.740895307491883,4.575195891491603,8.512717906502075,12.630563204991631,17.116708107991144,21.713346288495813,26.059830370999407,31.14116352099518,35.4398684649932,39.774612984998384],\"y\":[4,1,2,3,4,3,2,1,4,4,4,4,2,2,2,3,2,3,1,2,3]}},\"id\":\"8c35378b-15e9-47c0-9d0e-dbc8a5998ad0\",\"type\":\"ColumnDataSource\"},{\"attributes\":{\"callback\":null,\"end\":39.93467187299393},\"id\":\"1bbb6eb5-cde8-419e-9f3f-7a2a9f586f4f\",\"type\":\"Range1d\"},{\"attributes\":{},\"id\":\"37cc5cec-344d-408a-88a4-3cc5745e4f53\",\"type\":\"CategoricalScale\"},{\"attributes\":{},\"id\":\"3dbddef7-35bf-4ed0-8271-e984a13620a8\",\"type\":\"CategoricalTickFormatter\"},{\"attributes\":{\"children\":[{\"id\":\"ddbb627d-dd5f-49a6-a71c-0fb56d0c4806\",\"subtype\":\"Figure\",\"type\":\"Plot\"}]},\"id\":\"24d67dfa-e1d3-4983-9b9f-247e045cc219\",\"type\":\"Row\"},{\"attributes\":{},\"id\":\"47498c75-e179-4b2b-9c04-69fa03182f63\",\"type\":\"LinearScale\"},{\"attributes\":{\"callback\":null,\"factors\":[\"0\",\"1\",\"2\",\"3\"]},\"id\":\"bc5bbd21-6676-4e87-87bb-72e31f563cac\",\"type\":\"FactorRange\"},{\"attributes\":{\"active_drag\":\"auto\",\"active_inspect\":\"auto\",\"active_scroll\":\"auto\",\"active_tap\":\"auto\",\"tools\":[{\"id\":\"5c6a87e4-d765-421d-a991-007e40b73767\",\"type\":\"HoverTool\"},{\"id\":\"8ab31225-bc11-4209-bd41-c87a4b552519\",\"type\":\"SaveTool\"},{\"id\":\"9753e474-e974-495a-a28b-484e6f039978\",\"type\":\"ResetTool\"},{\"id\":\"8104c510-02a2-46ad-871b-8705d995970c\",\"type\":\"WheelZoomTool\"},{\"id\":\"1451ce07-d31f-4800-935e-7046569da01b\",\"type\":\"PanTool\"}]},\"id\":\"35eaf241-6b46-4e37-b2a8-f3315288716c\",\"type\":\"Toolbar\"},{\"attributes\":{\"below\":[{\"id\":\"bb38005f-143b-4d26-aba3-28918bbd6123\",\"type\":\"LinearAxis\"}],\"left\":[{\"id\":\"5d3ace87-f677-4fc4-bbfb-4ac339b23f6b\",\"type\":\"CategoricalAxis\"}],\"min_border_left\":75,\"min_border_right\":75,\"min_border_top\":20,\"plot_height\":270,\"plot_width\":800,\"renderers\":[{\"id\":\"bb38005f-143b-4d26-aba3-28918bbd6123\",\"type\":\"LinearAxis\"},{\"id\":\"b1e9638f-c7e4-4313-872f-04679aa97054\",\"type\":\"Grid\"},{\"id\":\"5d3ace87-f677-4fc4-bbfb-4ac339b23f6b\",\"type\":\"CategoricalAxis\"},{\"id\":\"f78c45a9-630a-42fa-ac35-495a79771385\",\"type\":\"Grid\"},{\"id\":\"99c3c1b8-cc62-4d4e-9fe1-ab24a08413d2\",\"type\":\"GlyphRenderer\"}],\"title\":null,\"toolbar\":{\"id\":\"35eaf241-6b46-4e37-b2a8-f3315288716c\",\"type\":\"Toolbar\"},\"toolbar_location\":null,\"x_range\":{\"id\":\"1bbb6eb5-cde8-419e-9f3f-7a2a9f586f4f\",\"type\":\"Range1d\"},\"x_scale\":{\"id\":\"47498c75-e179-4b2b-9c04-69fa03182f63\",\"type\":\"LinearScale\"},\"y_range\":{\"id\":\"bc5bbd21-6676-4e87-87bb-72e31f563cac\",\"type\":\"FactorRange\"},\"y_scale\":{\"id\":\"37cc5cec-344d-408a-88a4-3cc5745e4f53\",\"type\":\"CategoricalScale\"}},\"id\":\"eda00955-50eb-4853-86f8-f658b472800b\",\"subtype\":\"Figure\",\"type\":\"Plot\"},{\"attributes\":{\"source\":{\"id\":\"8c35378b-15e9-47c0-9d0e-dbc8a5998ad0\",\"type\":\"ColumnDataSource\"}},\"id\":\"95fe53fa-2f54-4f4a-8abe-740524f33fd6\",\"type\":\"CDSView\"},{\"attributes\":{\"label\":{\"value\":\"Memory\"},\"renderers\":[{\"id\":\"54bbf789-cd3f-478f-95b7-75619cd0f594\",\"type\":\"GlyphRenderer\"}]},\"id\":\"60a3ba86-d96d-45db-93ce-f71c7ba84b05\",\"type\":\"LegendItem\"},{\"attributes\":{\"data_source\":{\"id\":\"a982f685-41e8-47a1-ab7e-3302e0928c9e\",\"type\":\"ColumnDataSource\"},\"glyph\":{\"id\":\"e142e471-fb47-43e1-a2f4-d7258a74d86c\",\"type\":\"Line\"},\"hover_glyph\":null,\"muted_glyph\":null,\"nonselection_glyph\":{\"id\":\"aadfd2a1-fe8e-42bf-a3df-5ad1430c40f7\",\"type\":\"Line\"},\"selection_glyph\":null,\"view\":{\"id\":\"1310c358-b711-4250-abdd-0ca8b8b26f17\",\"type\":\"CDSView\"},\"y_range_name\":\"memory\"},\"id\":\"54bbf789-cd3f-478f-95b7-75619cd0f594\",\"type\":\"GlyphRenderer\"},{\"attributes\":{\"source\":{\"id\":\"a982f685-41e8-47a1-ab7e-3302e0928c9e\",\"type\":\"ColumnDataSource\"}},\"id\":\"1310c358-b711-4250-abdd-0ca8b8b26f17\",\"type\":\"CDSView\"},{\"attributes\":{\"axis_label\":\"Memory (MB)\",\"formatter\":{\"id\":\"b64d4081-060b-4b00-9883-4121b161a4ee\",\"type\":\"BasicTickFormatter\"},\"plot\":{\"id\":\"ddbb627d-dd5f-49a6-a71c-0fb56d0c4806\",\"subtype\":\"Figure\",\"type\":\"Plot\"},\"ticker\":{\"id\":\"13fc12f4-5136-4264-ac2c-33e84e855b21\",\"type\":\"BasicTicker\"},\"y_range_name\":\"memory\"},\"id\":\"460c09e2-617e-4c8f-ad44-247d9ba5d453\",\"type\":\"LinearAxis\"},{\"attributes\":{\"callback\":null,\"column_names\":[\"x\",\"y\"],\"data\":{\"x\":[0.0,0.10049356499803253,0.20679986699542496,0.30715112599136773,0.40761701299925335,0.5080092909920495,0.6084276149922516,0.7088322439958574,0.8092692630016245,0.9096291859896155,1.0100546359899454,1.1105002849944867,1.2109290119988145,1.3114017009938834,1.4118288589961594,1.5122381979890633,1.6126375110034132,1.7130578159994911,1.813491063992842,1.9138468089950038,2.014219407996279,2.1146796499961056,2.215070709993597,2.315476627991302,2.4158790679939557,2.5163374609983293,2.6167523140029516,2.7171773070003837,2.817597005996504,2.918023338992498,3.0184466789942235,3.1188698269979795,3.2192189269990195,3.3196451289986726,3.420080757001415,3.5205156820011325,3.620891890997882,3.7213027629913995,3.8217007689963793,3.922052845999133,4.022427695002989,4.122892051993404,4.224452031994588,4.324907567992341,4.425346785996226,4.52577260399994,4.6262180949997855,4.726637428000686,4.827126987991505,4.927578249989892,5.028113851993112,5.12870119199215,5.2291495940007735,5.3295889269938925,5.430025705994922,5.530426211000304,5.6308090620004805,5.731185265001841,5.83164665599179,5.932090549002169,6.0324970739893615,6.133037965002586,6.233519054992939,6.334007083001779,6.43462013998942,6.535233028989751,6.6357519759912975,6.736346502992092,6.836939970991807,6.937561775994254,7.038171524996869,7.138837014994351,7.239424636994954,7.34009622099984,7.44075060999603,7.541454961989075,7.64212267199764,7.742939905001549,7.843913477001479,7.9455126660031965,8.046343780995812,8.146878432002268,8.247340571993846,8.347837426990736,8.448303005992784,8.548769554996397,8.649273242990603,8.749783439998282,8.850333433991182,8.951216392000788,9.05165950099763,9.152196253999136,9.252707064995775,9.353199662989937,9.453675021999516,9.554137451996212,9.654633972997544,9.755122350994498,9.855574168992462,9.956141994000063,10.056601745993248,10.15712140299729,10.257547975998023,10.358037846002844,10.45848127399222,10.558927092992235,10.659481454989873,10.760003988994868,10.860503192001488,10.960855778990663,11.061341527994955,11.161856765000266,11.262357889994746,11.36287597399496,11.463403200003086,11.563882788002957,11.664388791003148,11.764902574999724,11.865396301000146,11.965884395991452,12.066400964002241,12.166962279996369,12.267556411999976,12.368013425002573,12.468498581991298,12.568936826995923,12.669354197991197,12.769890149997082,12.870336524996674,12.97076479998941,13.07125252399419,13.171836330002407,13.27229974399961,13.372891152990633,13.473323272992275,13.573690860997885,13.674104129997431,13.774515539989807,13.874931183992885,13.97549363199505,14.075937560002785,14.176376589995925,14.27678672199545,14.377229949997854,14.477647273990442,14.578048308991129,14.678422124998178,14.778826049994677,14.879256416999851,14.979644699997152,15.08011537999846,15.180589436000446,15.2811536060035,15.381580710993148,15.482033615000546,15.582636200997513,15.68326796600013,15.78394734999165,15.884431896993192,15.984897645990713,16.08539759099949,16.186628497991478,16.28761726200173,16.388129245999153,16.488598954994814,16.589111526991474,16.689600694997353,16.790312730998266,16.891060822003055,16.991640501990332,17.092188551992876,17.192723082989687,17.293248086993117,17.39374300999043,17.494193450998864,17.59480399900349,17.695282828994095,17.795924190999358,17.89639632399485,17.996791204990586,18.097262647992466,18.19784497799992,18.298345310002333,18.398794269000064,18.499299520990462,18.599851790000685,18.70043356399401,18.800892074999865,18.901377191999927,19.001913129992317,19.102386498998385,19.202867246989626,19.30335170699982,19.403889617999084,19.50450928999635,19.605006143989158,19.705719614998088,19.806373599989456,19.9070812479913,20.00764266400074,20.108970998990117,20.209588149999036,20.310073806991568,20.410804376995657,20.511253855991527,20.611835638002958,20.712307483001496,20.81280458800029,20.91372132000106,21.014407959999517,21.114951412993832,21.215893364002113,21.316555261000758,21.41723069199361,21.517868561000796,21.618365378002636,21.718866903000162,21.819227539992426,21.919637511993642,22.020085437994567,22.12057398399338,22.221143656002823,22.321601470001042,22.42205014100182,22.522416057996452,22.62276055199618,22.723137426990434,22.823521041995264,22.923908176991972,23.02440198000113,23.124781106002047,23.225187591000577,23.325566892992356,23.42593499200302,23.526328754989663,23.626730814998155,23.727160109992838,23.82760823800345,23.928056482996908,24.028600278994418,24.129261378999217,24.229852723001386,24.330472442990867,24.431056083994918,24.531812793997233,24.632453323996742,24.733102815996972,24.833656308997888,24.934189720996073,25.03477009499329,25.13538547499047,25.235945840002387,25.336471246002475,25.436967690999154,25.53746032799245,25.637943861991516,25.73838928299665,25.838947975993506,25.939690643994254,26.040855219995137,26.141574490000494,26.24229040100181,26.342918023990933,26.44361364499491,26.544285083989962,26.644929520000005,26.745605049000005,26.846096647001104,26.946533202994033,27.047041320998687,27.14753319400188,27.248036136996234,27.348417682995205,27.44889895799861,27.549366587001714,27.6498066369968,27.750303741995594,27.850799851992633,27.95129813699168,28.051829060990713,28.15234587599116,28.25280997400114,28.353414109995356,28.453892965000705,28.554416742990725,28.654929203999927,28.755495099991094,28.855963698995765,28.958374697002,29.058879225995042,29.15939456700289,29.259971109000617,29.36085763000301,29.461278817994753,29.56190585299919,29.662473346994375,29.763360299999476,29.863971453989507,29.96847964898916,30.069252168992534,30.17018361299415,30.270720432992675,30.371256454993272,30.47178855400125,30.57225979299983,30.672857797995675,30.773297352992813,30.873734553999384,30.974100079998607,31.074547172000166,31.174966355989454,31.275363406995893,31.37578043898975,31.476438051002333,31.576900831001694,31.677473566989647,31.77795249898918,31.878398610992008,31.978885996999452,32.07930228399346,32.17974759999197,32.28025629000331,32.380985012001474,32.481646528991405,32.58222765800019,32.68285088399716,32.78342680899368,32.88395704799041,32.98450419899018,33.08525635499973,33.18601375599974,33.28647760099557,33.387463455990655,33.48810791799042,33.58875536899723,33.68933446500159,33.7898470969958,33.89087563099747,33.99145290799788,34.09237413298979,34.19307022499561,34.29376339400187,34.39443933599978,34.49549623198982,34.596324122991064,34.697003110995865,34.79786241399415,34.89859766399604,34.9995455689932,35.100296632997924,35.20148602199333,35.30308986399905,35.403641907993006,35.50422199199966,35.60504136599775,35.70563170599053,35.806187233989476,35.90674657099589,36.007735106002656,36.10863807499118,36.209222452991526,36.31002905599598,36.41063761599071,36.51196295399859,36.612698832002934,36.713641018999624,36.81408849499712,36.91461178199097,37.01532653499453,37.116112759991665,37.216736474001664,37.31749609299004,37.418178751991945,37.518885040990426,37.61952826099878,37.72019581698987,37.82083519999287,37.92149066399725,38.02215908799553,38.12286828599463,38.22347158899356,38.32419042199035,38.42479031399125,38.52547992799373,38.6261627030035,38.72684099400067,38.8275414499949,38.92823767400114,39.02888225999777,39.12960715299414,39.230344922994846,39.33099847000267,39.43174811299832,39.53242825399502,39.63304698799038,39.73367485399649,39.83419339900138,39.93467187299393],\"y\":[2509.84448,2510.610432,2891.28448,3015.274496,3033.10848,3054.870528,3075.13344,3097.092096,3111.817216,3131.35104,3149.733888,3167.494144,3185.139712,3203.887104,3212.51328,3285.725184,3396.005888,3477.87264,3515.67872,3515.67872,3515.846656,3515.846656,3515.846656,3515.846656,3516.387328,3320.68864,3335.286784,3350.4256,3365.691392,3381.100544,3396.030464,3411.275776,3425.615872,3442.532352,3459.989504,3475.812352,3492.061184,3513.008128,3531.390976,3552.301056,3569.446912,3577.823232,3584.851968,3595.935744,3615.90784,3641.860096,3742.347264,3703.590912,4001.234944,4195.721216,4362.543104,4232.265728,4335.104,4362.698752,4362.698752,4362.698752,4362.698752,4362.698752,4333.54752,4363.50976,4363.65312,4363.65312,4363.65312,4363.65312,4363.65312,4363.65312,4363.65312,4363.65312,4363.65312,4363.65312,4363.65312,4363.65312,4363.65312,4363.65312,4363.65312,4363.65312,4363.65312,4363.65312,4363.65312,4363.65312,4363.65312,4363.65312,4363.65312,4363.65312,4363.65312,4363.65312,4363.65312,4363.65312,4363.65312,4363.65312,4363.65312,4363.65312,4363.65312,4363.65312,4363.65312,4363.65312,4363.65312,4363.65312,4363.65312,4363.65312,4363.65312,4363.65312,4363.65312,4363.65312,4363.65312,4363.65312,4363.65312,4363.65312,4363.65312,4363.65312,4363.65312,4363.65312,4363.65312,4363.65312,4363.65312,4363.65312,4363.65312,4363.65312,4363.65312,4363.65312,4363.65312,4363.65312,4363.65312,4365.545472,4370.407424,3890.270208,3564.797952,3725.80352,3923.931136,4157.87008,4327.75168,4184.899584,4287.67232,4328.169472,4328.169472,4328.169472,4328.169472,4328.169472,4328.169472,4247.826432,4328.169472,4328.169472,4328.169472,4328.169472,4328.169472,4328.169472,4328.169472,4328.169472,4328.169472,4328.169472,4328.169472,4328.169472,4328.169472,4328.169472,4328.169472,4328.169472,4328.169472,4328.169472,4328.169472,4328.169472,4328.169472,4328.169472,4328.169472,4328.169472,4328.169472,4328.169472,4328.169472,4328.169472,4328.169472,4328.169472,4328.169472,4328.169472,4328.169472,4328.169472,4328.169472,4328.169472,4328.169472,4328.169472,4328.169472,4328.169472,4328.169472,4328.169472,4328.169472,4328.169472,4328.169472,4328.169472,4328.169472,4328.169472,4328.169472,4328.169472,4328.169472,4328.169472,4328.169472,4328.169472,4328.169472,4328.169472,4328.169472,4328.169472,4328.169472,4328.169472,4328.169472,4328.169472,4328.169472,4328.169472,4328.169472,4328.169472,4328.169472,4328.169472,4328.169472,4328.169472,4328.169472,4328.169472,4328.169472,4328.169472,4330.602496,4185.104384,3852.705792,3625.7792,3737.198592,3964.993536,4190.08512,4255.789056,4168.138752,4256.219136,4256.219136,4256.219136,4256.219136,4256.219136,4256.219136,4191.47776,4256.489472,4256.489472,4256.489472,4256.489472,4256.489472,4256.489472,4256.489472,4256.489472,4256.489472,4256.489472,4256.489472,4256.489472,4256.489472,4256.489472,4256.489472,4256.489472,4256.489472,4256.489472,4256.489472,4256.489472,4256.489472,4256.489472,4256.489472,4256.489472,4256.489472,4256.489472,4256.489472,4256.489472,4256.489472,4256.489472,4256.489472,4256.489472,4256.489472,4256.489472,4256.489472,4256.489472,4256.489472,4256.489472,4256.489472,4256.489472,4256.489472,4256.489472,4256.489472,4256.489472,4256.489472,4256.489472,4256.489472,4256.489472,4256.489472,4256.489472,4256.489472,4256.489472,4256.489472,4256.489472,4256.489472,4256.489472,4256.489472,4256.489472,4256.489472,4256.489472,4256.489472,4256.489472,4256.489472,4256.489472,4256.489472,4256.489472,4256.489472,4256.489472,4256.489472,4256.489472,4256.489472,4256.759808,4256.759808,3957.587968,3349.291008,3356.59008,3363.618816,3371.999232,3379.56864,3388.489728,3400.650752,3514.093568,3703.361536,3938.65216,4126.47424,3977.723904,4085.157888,4126.670848,4126.670848,4126.670848,4126.670848,4128.202752,4128.743424,4055.855104,4128.825344,4128.825344,4128.825344,4128.825344,4128.825344,4128.825344,4128.825344,4128.825344,4128.825344,4128.825344,4128.825344,4128.825344,4128.825344,4128.825344,4128.825344,4128.825344,4128.825344,4128.825344,4128.825344,4128.825344,4128.825344,4128.825344,4128.825344,4128.825344,4128.825344,4128.825344,4128.825344,4128.825344,4128.825344,4128.825344,4128.825344,4128.825344,4128.825344,4128.825344,4128.825344,4128.825344,4128.825344,4128.825344,4128.825344,4128.825344,4128.825344,4128.825344,4128.825344,4128.825344,4128.825344,4128.825344,4128.825344,4128.825344,4128.825344,4128.825344,4128.825344,4128.825344,4128.825344,4128.825344,4128.825344,4128.825344,4128.825344,4128.825344,4128.825344,4128.825344,4128.825344,4128.825344,4128.825344,4128.825344,4128.825344,4128.825344,4128.825344,4128.825344,4128.825344,4128.825344,4128.825344,4128.825344,3727.01184,3162.80832]}},\"id\":\"a982f685-41e8-47a1-ab7e-3302e0928c9e\",\"type\":\"ColumnDataSource\"},{\"attributes\":{\"callback\":null,\"end\":368.4},\"id\":\"0b843a5a-7af2-400d-96db-f3f50a2b99df\",\"type\":\"Range1d\"},{\"attributes\":{\"line_color\":\"#29788E\",\"line_width\":4,\"x\":{\"field\":\"x\"},\"y\":{\"field\":\"y\"}},\"id\":\"e142e471-fb47-43e1-a2f4-d7258a74d86c\",\"type\":\"Line\"},{\"attributes\":{\"active_drag\":\"auto\",\"active_inspect\":\"auto\",\"active_scroll\":\"auto\",\"active_tap\":\"auto\",\"tools\":[{\"id\":\"1723b757-15bf-4aca-aea9-9bb54e7b1b2b\",\"type\":\"SaveTool\"},{\"id\":\"0ef7040a-e845-43d1-8abc-d23a593b544c\",\"type\":\"ResetTool\"},{\"id\":\"91eadc58-21d4-4444-a1de-d2b73fb50cb2\",\"type\":\"WheelZoomTool\"},{\"id\":\"a24d7c76-6a21-409a-b72e-7385e20d58b3\",\"type\":\"PanTool\"}]},\"id\":\"44e1a125-6634-4528-9e96-2d3333adbaa9\",\"type\":\"Toolbar\"},{\"attributes\":{\"items\":[{\"id\":\"7005989b-1d74-4aa7-9962-064ec19b4944\",\"type\":\"LegendItem\"},{\"id\":\"60a3ba86-d96d-45db-93ce-f71c7ba84b05\",\"type\":\"LegendItem\"}],\"plot\":{\"id\":\"ddbb627d-dd5f-49a6-a71c-0fb56d0c4806\",\"subtype\":\"Figure\",\"type\":\"Plot\"}},\"id\":\"0ab83e69-d272-41c5-b071-e18cc8789757\",\"type\":\"Legend\"},{\"attributes\":{\"callback\":null,\"end\":4370.407424,\"start\":2509.84448},\"id\":\"ac4899e1-58d1-433f-aa3c-a8873d59b485\",\"type\":\"Range1d\"},{\"attributes\":{\"line_alpha\":0.1,\"line_color\":\"#1f77b4\",\"line_width\":4,\"x\":{\"field\":\"x\"},\"y\":{\"field\":\"y\"}},\"id\":\"aadfd2a1-fe8e-42bf-a3df-5ad1430c40f7\",\"type\":\"Line\"},{\"attributes\":{},\"id\":\"41dd8dde-ed9c-4348-9289-88e4dff10d47\",\"type\":\"BasicTickFormatter\"},{\"attributes\":{\"source\":{\"id\":\"d25602f2-6e99-4617-af6e-d8425e87addd\",\"type\":\"ColumnDataSource\"}},\"id\":\"a993e5e9-3311-46ac-ab63-b3cc3c71e836\",\"type\":\"CDSView\"},{\"attributes\":{\"data_source\":{\"id\":\"d25602f2-6e99-4617-af6e-d8425e87addd\",\"type\":\"ColumnDataSource\"},\"glyph\":{\"id\":\"5ad6ad03-dae5-4477-89e2-7033dd7dfd39\",\"type\":\"Line\"},\"hover_glyph\":null,\"muted_glyph\":null,\"nonselection_glyph\":{\"id\":\"8d4bf59a-bcae-4001-8daa-22605d480513\",\"type\":\"Line\"},\"selection_glyph\":null,\"view\":{\"id\":\"a993e5e9-3311-46ac-ab63-b3cc3c71e836\",\"type\":\"CDSView\"}},\"id\":\"736e886b-1244-407f-b19f-537f6f246839\",\"type\":\"GlyphRenderer\"},{\"attributes\":{\"line_alpha\":0.1,\"line_color\":\"#1f77b4\",\"line_width\":4,\"x\":{\"field\":\"x\"},\"y\":{\"field\":\"y\"}},\"id\":\"8d4bf59a-bcae-4001-8daa-22605d480513\",\"type\":\"Line\"},{\"attributes\":{\"line_color\":\"#440154\",\"line_width\":4,\"x\":{\"field\":\"x\"},\"y\":{\"field\":\"y\"}},\"id\":\"5ad6ad03-dae5-4477-89e2-7033dd7dfd39\",\"type\":\"Line\"},{\"attributes\":{},\"id\":\"ee5d6426-1c75-43f7-9b41-e5435c2c84b3\",\"type\":\"BasicTickFormatter\"},{\"attributes\":{\"callback\":null,\"column_names\":[\"x\",\"y\"],\"data\":{\"x\":[0.0,0.10049356499803253,0.20679986699542496,0.30715112599136773,0.40761701299925335,0.5080092909920495,0.6084276149922516,0.7088322439958574,0.8092692630016245,0.9096291859896155,1.0100546359899454,1.1105002849944867,1.2109290119988145,1.3114017009938834,1.4118288589961594,1.5122381979890633,1.6126375110034132,1.7130578159994911,1.813491063992842,1.9138468089950038,2.014219407996279,2.1146796499961056,2.215070709993597,2.315476627991302,2.4158790679939557,2.5163374609983293,2.6167523140029516,2.7171773070003837,2.817597005996504,2.918023338992498,3.0184466789942235,3.1188698269979795,3.2192189269990195,3.3196451289986726,3.420080757001415,3.5205156820011325,3.620891890997882,3.7213027629913995,3.8217007689963793,3.922052845999133,4.022427695002989,4.122892051993404,4.224452031994588,4.324907567992341,4.425346785996226,4.52577260399994,4.6262180949997855,4.726637428000686,4.827126987991505,4.927578249989892,5.028113851993112,5.12870119199215,5.2291495940007735,5.3295889269938925,5.430025705994922,5.530426211000304,5.6308090620004805,5.731185265001841,5.83164665599179,5.932090549002169,6.0324970739893615,6.133037965002586,6.233519054992939,6.334007083001779,6.43462013998942,6.535233028989751,6.6357519759912975,6.736346502992092,6.836939970991807,6.937561775994254,7.038171524996869,7.138837014994351,7.239424636994954,7.34009622099984,7.44075060999603,7.541454961989075,7.64212267199764,7.742939905001549,7.843913477001479,7.9455126660031965,8.046343780995812,8.146878432002268,8.247340571993846,8.347837426990736,8.448303005992784,8.548769554996397,8.649273242990603,8.749783439998282,8.850333433991182,8.951216392000788,9.05165950099763,9.152196253999136,9.252707064995775,9.353199662989937,9.453675021999516,9.554137451996212,9.654633972997544,9.755122350994498,9.855574168992462,9.956141994000063,10.056601745993248,10.15712140299729,10.257547975998023,10.358037846002844,10.45848127399222,10.558927092992235,10.659481454989873,10.760003988994868,10.860503192001488,10.960855778990663,11.061341527994955,11.161856765000266,11.262357889994746,11.36287597399496,11.463403200003086,11.563882788002957,11.664388791003148,11.764902574999724,11.865396301000146,11.965884395991452,12.066400964002241,12.166962279996369,12.267556411999976,12.368013425002573,12.468498581991298,12.568936826995923,12.669354197991197,12.769890149997082,12.870336524996674,12.97076479998941,13.07125252399419,13.171836330002407,13.27229974399961,13.372891152990633,13.473323272992275,13.573690860997885,13.674104129997431,13.774515539989807,13.874931183992885,13.97549363199505,14.075937560002785,14.176376589995925,14.27678672199545,14.377229949997854,14.477647273990442,14.578048308991129,14.678422124998178,14.778826049994677,14.879256416999851,14.979644699997152,15.08011537999846,15.180589436000446,15.2811536060035,15.381580710993148,15.482033615000546,15.582636200997513,15.68326796600013,15.78394734999165,15.884431896993192,15.984897645990713,16.08539759099949,16.186628497991478,16.28761726200173,16.388129245999153,16.488598954994814,16.589111526991474,16.689600694997353,16.790312730998266,16.891060822003055,16.991640501990332,17.092188551992876,17.192723082989687,17.293248086993117,17.39374300999043,17.494193450998864,17.59480399900349,17.695282828994095,17.795924190999358,17.89639632399485,17.996791204990586,18.097262647992466,18.19784497799992,18.298345310002333,18.398794269000064,18.499299520990462,18.599851790000685,18.70043356399401,18.800892074999865,18.901377191999927,19.001913129992317,19.102386498998385,19.202867246989626,19.30335170699982,19.403889617999084,19.50450928999635,19.605006143989158,19.705719614998088,19.806373599989456,19.9070812479913,20.00764266400074,20.108970998990117,20.209588149999036,20.310073806991568,20.410804376995657,20.511253855991527,20.611835638002958,20.712307483001496,20.81280458800029,20.91372132000106,21.014407959999517,21.114951412993832,21.215893364002113,21.316555261000758,21.41723069199361,21.517868561000796,21.618365378002636,21.718866903000162,21.819227539992426,21.919637511993642,22.020085437994567,22.12057398399338,22.221143656002823,22.321601470001042,22.42205014100182,22.522416057996452,22.62276055199618,22.723137426990434,22.823521041995264,22.923908176991972,23.02440198000113,23.124781106002047,23.225187591000577,23.325566892992356,23.42593499200302,23.526328754989663,23.626730814998155,23.727160109992838,23.82760823800345,23.928056482996908,24.028600278994418,24.129261378999217,24.229852723001386,24.330472442990867,24.431056083994918,24.531812793997233,24.632453323996742,24.733102815996972,24.833656308997888,24.934189720996073,25.03477009499329,25.13538547499047,25.235945840002387,25.336471246002475,25.436967690999154,25.53746032799245,25.637943861991516,25.73838928299665,25.838947975993506,25.939690643994254,26.040855219995137,26.141574490000494,26.24229040100181,26.342918023990933,26.44361364499491,26.544285083989962,26.644929520000005,26.745605049000005,26.846096647001104,26.946533202994033,27.047041320998687,27.14753319400188,27.248036136996234,27.348417682995205,27.44889895799861,27.549366587001714,27.6498066369968,27.750303741995594,27.850799851992633,27.95129813699168,28.051829060990713,28.15234587599116,28.25280997400114,28.353414109995356,28.453892965000705,28.554416742990725,28.654929203999927,28.755495099991094,28.855963698995765,28.958374697002,29.058879225995042,29.15939456700289,29.259971109000617,29.36085763000301,29.461278817994753,29.56190585299919,29.662473346994375,29.763360299999476,29.863971453989507,29.96847964898916,30.069252168992534,30.17018361299415,30.270720432992675,30.371256454993272,30.47178855400125,30.57225979299983,30.672857797995675,30.773297352992813,30.873734553999384,30.974100079998607,31.074547172000166,31.174966355989454,31.275363406995893,31.37578043898975,31.476438051002333,31.576900831001694,31.677473566989647,31.77795249898918,31.878398610992008,31.978885996999452,32.07930228399346,32.17974759999197,32.28025629000331,32.380985012001474,32.481646528991405,32.58222765800019,32.68285088399716,32.78342680899368,32.88395704799041,32.98450419899018,33.08525635499973,33.18601375599974,33.28647760099557,33.387463455990655,33.48810791799042,33.58875536899723,33.68933446500159,33.7898470969958,33.89087563099747,33.99145290799788,34.09237413298979,34.19307022499561,34.29376339400187,34.39443933599978,34.49549623198982,34.596324122991064,34.697003110995865,34.79786241399415,34.89859766399604,34.9995455689932,35.100296632997924,35.20148602199333,35.30308986399905,35.403641907993006,35.50422199199966,35.60504136599775,35.70563170599053,35.806187233989476,35.90674657099589,36.007735106002656,36.10863807499118,36.209222452991526,36.31002905599598,36.41063761599071,36.51196295399859,36.612698832002934,36.713641018999624,36.81408849499712,36.91461178199097,37.01532653499453,37.116112759991665,37.216736474001664,37.31749609299004,37.418178751991945,37.518885040990426,37.61952826099878,37.72019581698987,37.82083519999287,37.92149066399725,38.02215908799553,38.12286828599463,38.22347158899356,38.32419042199035,38.42479031399125,38.52547992799373,38.6261627030035,38.72684099400067,38.8275414499949,38.92823767400114,39.02888225999777,39.12960715299414,39.230344922994846,39.33099847000267,39.43174811299832,39.53242825399502,39.63304698799038,39.73367485399649,39.83419339900138,39.93467187299393],\"y\":[0.0,99.5,216.4,308.7,328.6,348.6,338.6,348.5,298.8,338.7,318.6,288.8,298.7,308.6,278.8,268.9,109.6,109.5,99.6,99.6,99.6,99.6,99.6,99.6,109.5,179.2,328.6,348.6,318.7,328.6,318.6,338.7,328.8,338.6,338.5,368.4,318.8,338.6,298.9,338.8,278.8,159.3,147.7,219.0,288.8,248.9,179.2,149.3,99.5,99.5,99.4,99.5,109.5,99.6,99.6,109.6,99.6,99.6,99.5,109.6,99.5,99.5,99.5,99.5,99.4,99.4,109.4,99.4,99.4,99.4,99.4,109.3,99.4,99.3,99.3,109.2,99.4,99.2,108.9,98.4,99.3,109.4,99.5,99.5,109.5,89.6,109.4,99.5,99.5,109.0,99.5,99.5,99.5,99.5,109.5,99.5,109.4,99.5,109.5,99.5,99.5,99.5,99.6,109.5,99.6,109.5,99.5,99.5,109.5,99.6,99.5,99.5,99.5,99.5,99.5,109.4,99.5,99.5,109.4,99.5,99.5,99.4,99.5,109.5,139.3,99.6,179.2,169.1,99.6,109.6,99.4,99.5,99.5,99.4,99.6,99.6,109.5,99.6,99.5,109.4,99.6,99.6,99.6,99.6,109.6,99.6,99.6,99.6,99.6,99.6,99.5,99.5,109.4,109.6,99.5,99.4,99.4,109.2,99.5,99.5,99.0,99.1,99.2,109.4,99.5,99.5,99.5,99.2,99.3,99.4,99.5,109.4,99.5,99.5,109.4,99.4,99.5,109.4,99.5,79.7,89.6,99.4,99.5,109.5,99.5,99.4,99.5,109.5,99.5,99.5,99.5,109.5,99.5,99.4,99.4,109.4,99.3,99.3,99.4,99.2,98.9,99.4,109.4,99.3,99.5,99.4,119.5,99.5,89.1,99.3,99.5,99.1,109.2,99.3,119.3,99.5,99.5,139.5,109.5,99.5,99.5,99.5,99.5,99.6,99.6,99.7,99.6,99.6,99.6,99.5,109.6,99.6,99.6,99.6,99.6,99.6,99.6,109.5,99.6,109.30000000000001,99.4,99.4,109.3,99.4,99.3,99.4,99.4,99.4,109.4,99.4,99.5,99.4,99.5,99.5,99.5,109.5,99.6,109.30000000000001,108.9,99.1,109.1,89.4,109.3,99.30000000000001,109.3,99.3,109.4,99.5,99.5,99.5,99.5,99.5,109.6,99.5,99.5,99.5,99.5,99.5,109.4,99.5,99.5,99.5,109.4,99.5,109.5,89.5,109.4,98.1,99.1,99.5,99.5,109.2,99.3,109.5,89.5,99.4,99.1,99.2,95.8,99.2,99.2,99.5,99.5,109.4,89.5,99.5,109.5,99.6,99.6,99.6,99.6,109.6,89.5,99.4,99.4,99.5,109.5,89.6,109.5,99.6,99.5,99.2,99.5,109.2,89.5,99.4,99.4,109.4,99.4,99.2,99.4,99.4,99.1,99.4,99.4,99.4,109.3,99.1,99.3,99.1,109.3,109.10000000000001,99.4,98.8,99.2,99.5,99.1,99.1,109.1,99.2,98.1,99.2,109.4,109.2,99.2,109.4,99.4,99.4,99.0,99.2,99.4,99.2,108.8,99.2,79.3,99.2,99.5,99.5,99.2,99.2,109.3,99.3,99.2,99.4,99.3,109.2,109.3,99.3,99.3,99.3,99.4,109.3,99.4,99.3,99.3,99.3,99.3,99.3,109.3,109.2,99.2,99.4,99.2,109.3,99.3,99.4,99.5,99.5]}},\"id\":\"d25602f2-6e99-4617-af6e-d8425e87addd\",\"type\":\"ColumnDataSource\"}],\"root_ids\":[\"2bdfa13a-c51b-4b22-aa56-4c93f8fe1579\"]},\"title\":\"Bokeh Application\",\"version\":\"0.12.14\"}};\n",
       "  var render_items = [{\"docid\":\"857535e0-e88a-4ad9-8e6f-088cf2bdad01\",\"elementid\":\"62b96920-956c-4a34-8949-86ada127cca4\",\"modelid\":\"2bdfa13a-c51b-4b22-aa56-4c93f8fe1579\"}];\n",
       "  root.Bokeh.embed.embed_items_notebook(docs_json, render_items);\n",
       "\n",
       "  }\n",
       "  if (root.Bokeh !== undefined) {\n",
       "    embed_document(root);\n",
       "  } else {\n",
       "    var attempts = 0;\n",
       "    var timer = setInterval(function(root) {\n",
       "      if (root.Bokeh !== undefined) {\n",
       "        embed_document(root);\n",
       "        clearInterval(timer);\n",
       "      }\n",
       "      attempts++;\n",
       "      if (attempts > 100) {\n",
       "        console.log(\"Bokeh: ERROR: Unable to run BokehJS code because BokehJS library is missing\")\n",
       "        clearInterval(timer);\n",
       "      }\n",
       "    }, 10, root)\n",
       "  }\n",
       "})(window);"
      ],
      "application/vnd.bokehjs_exec.v0+json": ""
     },
     "metadata": {
      "application/vnd.bokehjs_exec.v0+json": {
       "id": "2bdfa13a-c51b-4b22-aa56-4c93f8fe1579"
      }
     },
     "output_type": "display_data"
    },
    {
     "data": {
      "text/html": [
       "<div style=\"display: table;\"><div style=\"display: table-row;\"><div style=\"display: table-cell;\"><b title=\"bokeh.models.layouts.Column\">Column</b>(</div><div style=\"display: table-cell;\">id&nbsp;=&nbsp;'2bdfa13a-c51b-4b22-aa56-4c93f8fe1579', <span id=\"88bc1d9c-b171-49de-9a26-54caaa1dbdf1\" style=\"cursor: pointer;\">&hellip;)</span></div></div><div class=\"f10ea0d9-46a3-4cf3-b6a4-5126e7468b23\" style=\"display: none;\"><div style=\"display: table-cell;\"></div><div style=\"display: table-cell;\">children&nbsp;=&nbsp;[ToolbarBox(id='28d2972c-3ebd-418e-8dd0-619f56c17821', ...), Column(id='3e7af846-32da-4b85-adcd-7b979141b668', ...)],</div></div><div class=\"f10ea0d9-46a3-4cf3-b6a4-5126e7468b23\" style=\"display: none;\"><div style=\"display: table-cell;\"></div><div style=\"display: table-cell;\">css_classes&nbsp;=&nbsp;[],</div></div><div class=\"f10ea0d9-46a3-4cf3-b6a4-5126e7468b23\" style=\"display: none;\"><div style=\"display: table-cell;\"></div><div style=\"display: table-cell;\">disabled&nbsp;=&nbsp;False,</div></div><div class=\"f10ea0d9-46a3-4cf3-b6a4-5126e7468b23\" style=\"display: none;\"><div style=\"display: table-cell;\"></div><div style=\"display: table-cell;\">height&nbsp;=&nbsp;None,</div></div><div class=\"f10ea0d9-46a3-4cf3-b6a4-5126e7468b23\" style=\"display: none;\"><div style=\"display: table-cell;\"></div><div style=\"display: table-cell;\">js_event_callbacks&nbsp;=&nbsp;{},</div></div><div class=\"f10ea0d9-46a3-4cf3-b6a4-5126e7468b23\" style=\"display: none;\"><div style=\"display: table-cell;\"></div><div style=\"display: table-cell;\">js_property_callbacks&nbsp;=&nbsp;{},</div></div><div class=\"f10ea0d9-46a3-4cf3-b6a4-5126e7468b23\" style=\"display: none;\"><div style=\"display: table-cell;\"></div><div style=\"display: table-cell;\">name&nbsp;=&nbsp;None,</div></div><div class=\"f10ea0d9-46a3-4cf3-b6a4-5126e7468b23\" style=\"display: none;\"><div style=\"display: table-cell;\"></div><div style=\"display: table-cell;\">sizing_mode&nbsp;=&nbsp;'fixed',</div></div><div class=\"f10ea0d9-46a3-4cf3-b6a4-5126e7468b23\" style=\"display: none;\"><div style=\"display: table-cell;\"></div><div style=\"display: table-cell;\">subscribed_events&nbsp;=&nbsp;[],</div></div><div class=\"f10ea0d9-46a3-4cf3-b6a4-5126e7468b23\" style=\"display: none;\"><div style=\"display: table-cell;\"></div><div style=\"display: table-cell;\">tags&nbsp;=&nbsp;[],</div></div><div class=\"f10ea0d9-46a3-4cf3-b6a4-5126e7468b23\" style=\"display: none;\"><div style=\"display: table-cell;\"></div><div style=\"display: table-cell;\">width&nbsp;=&nbsp;None)</div></div></div>\n",
       "<script>\n",
       "(function() {\n",
       "  var expanded = false;\n",
       "  var ellipsis = document.getElementById(\"88bc1d9c-b171-49de-9a26-54caaa1dbdf1\");\n",
       "  ellipsis.addEventListener(\"click\", function() {\n",
       "    var rows = document.getElementsByClassName(\"f10ea0d9-46a3-4cf3-b6a4-5126e7468b23\");\n",
       "    for (var i = 0; i < rows.length; i++) {\n",
       "      var el = rows[i];\n",
       "      el.style.display = expanded ? \"none\" : \"table-row\";\n",
       "    }\n",
       "    ellipsis.innerHTML = expanded ? \"&hellip;)\" : \"&lsaquo;&lsaquo;&lsaquo;\";\n",
       "    expanded = !expanded;\n",
       "  });\n",
       "})();\n",
       "</script>\n"
      ],
      "text/plain": [
       "Column(id='2bdfa13a-c51b-4b22-aa56-4c93f8fe1579', ...)"
      ]
     },
     "execution_count": 9,
     "metadata": {},
     "output_type": "execute_result"
    }
   ],
   "source": [
    "with dg.ProgressBar(), dg.ResourceProfiler(dt=0.1) as rprof, dg.Profiler() as prof:\n",
    "    dag = (\n",
    "        dd\n",
    "        .read_csv(datasets['train_1'])\n",
    "        .sum()\n",
    "    )\n",
    "    \n",
    "    result = dag.compute()\n",
    "    \n",
    "dg.visualize([rprof, prof])"
   ]
  },
  {
   "cell_type": "code",
   "execution_count": 10,
   "metadata": {},
   "outputs": [
    {
     "name": "stdout",
     "output_type": "stream",
     "text": [
      "[########################################] | 100% Completed | 18.8s\n"
     ]
    },
    {
     "data": {
      "text/html": [
       "\n",
       "<div class=\"bk-root\">\n",
       "    <div class=\"bk-plotdiv\" id=\"4ea10751-d8e8-4579-b07d-f2c66532183c\"></div>\n",
       "</div>"
      ]
     },
     "metadata": {},
     "output_type": "display_data"
    },
    {
     "data": {
      "application/javascript": [
       "(function(root) {\n",
       "  function embed_document(root) {\n",
       "    \n",
       "  var docs_json = {\"76afc94b-8978-490f-a2e8-cab5b521c4b8\":{\"roots\":{\"references\":[{\"attributes\":{\"axis_label\":\"% CPU\",\"formatter\":{\"id\":\"7a0b30ae-7cdb-455b-8912-19643afb5c29\",\"type\":\"BasicTickFormatter\"},\"plot\":{\"id\":\"39a8d498-8156-4c85-a446-d28246f6f816\",\"subtype\":\"Figure\",\"type\":\"Plot\"},\"ticker\":{\"id\":\"35e2b48a-55e9-4d75-b437-6cb152b04cc9\",\"type\":\"BasicTicker\"}},\"id\":\"2f08b3ab-0b7d-4e6f-bb96-22289b428fdf\",\"type\":\"LinearAxis\"},{\"attributes\":{\"dimensions\":\"width\"},\"id\":\"3e55dc30-35b0-4d9f-8bde-1561157bb2e8\",\"type\":\"WheelZoomTool\"},{\"attributes\":{\"axis_label\":\"Worker ID\",\"axis_line_color\":{\"value\":null},\"formatter\":{\"id\":\"4dedbb85-fe73-4fcf-9c38-21d15cd3d326\",\"type\":\"CategoricalTickFormatter\"},\"major_tick_line_color\":{\"value\":null},\"plot\":{\"id\":\"0a0d1d56-f400-4824-be3d-9700d6d1db32\",\"subtype\":\"Figure\",\"type\":\"Plot\"},\"ticker\":{\"id\":\"3d039d8e-13ac-4348-b5cc-cdbf3d2daddf\",\"type\":\"CategoricalTicker\"}},\"id\":\"b3e01e2a-ae52-4b95-bd60-831b7f6010a9\",\"type\":\"CategoricalAxis\"},{\"attributes\":{\"dimension\":1,\"grid_line_color\":{\"value\":null},\"plot\":{\"id\":\"0a0d1d56-f400-4824-be3d-9700d6d1db32\",\"subtype\":\"Figure\",\"type\":\"Plot\"},\"ticker\":{\"id\":\"3d039d8e-13ac-4348-b5cc-cdbf3d2daddf\",\"type\":\"CategoricalTicker\"}},\"id\":\"0925bf1b-27f4-40b8-87fe-d57bfc73e820\",\"type\":\"Grid\"},{\"attributes\":{\"callback\":null,\"factors\":[\"0\",\"1\",\"2\",\"3\"]},\"id\":\"7682b982-e73c-4352-b96a-3e7e4426fdb5\",\"type\":\"FactorRange\"},{\"attributes\":{},\"id\":\"abb4bb0f-2f99-48c5-8a50-263bee684ea9\",\"type\":\"BasicTickFormatter\"},{\"attributes\":{\"callback\":null,\"column_names\":[\"width\",\"x\",\"y\",\"function\",\"color\",\"key\"],\"data\":{\"color\":[\"#FDE724\",\"#FDE724\",\"#FDE724\",\"#FDE724\",\"#22A784\",\"#22A784\",\"#22A784\",\"#22A784\",\"#29788E\",\"#404387\",\"#FDE724\",\"#22A784\",\"#29788E\",\"#404387\",\"#FDE724\",\"#22A784\",\"#29788E\",\"#404387\",\"#FDE724\",\"#22A784\",\"#29788E\",\"#404387\",\"#FDE724\",\"#22A784\",\"#29788E\",\"#404387\",\"#FDE724\",\"#22A784\",\"#29788E\",\"#404387\",\"#FDE724\",\"#22A784\",\"#29788E\",\"#404387\",\"#FDE724\",\"#22A784\",\"#29788E\",\"#404387\",\"#29788E\",\"#404387\",\"#FDE724\",\"#FDE724\",\"#22A784\",\"#22A784\",\"#29788E\",\"#404387\",\"#FDE724\",\"#22A784\",\"#29788E\",\"#404387\",\"#FDE724\",\"#22A784\",\"#29788E\",\"#404387\",\"#29788E\",\"#404387\",\"#FDE724\",\"#22A784\",\"#FDE724\",\"#22A784\",\"#29788E\",\"#404387\",\"#FDE724\",\"#22A784\",\"#29788E\",\"#404387\",\"#FDE724\",\"#22A784\",\"#29788E\",\"#404387\",\"#FDE724\",\"#22A784\",\"#29788E\",\"#404387\",\"#FDE724\",\"#22A784\",\"#29788E\",\"#404387\",\"#FDE724\",\"#22A784\",\"#29788E\",\"#404387\",\"#FDE724\",\"#22A784\",\"#29788E\",\"#404387\",\"#FDE724\",\"#22A784\",\"#29788E\",\"#404387\",\"#FDE724\",\"#22A784\",\"#29788E\",\"#404387\",\"#FDE724\",\"#22A784\",\"#29788E\",\"#404387\",\"#FDE724\",\"#79D151\",\"#29788E\",\"#404387\",\"#29788E\",\"#404387\",\"#29788E\",\"#404387\",\"#29788E\",\"#404387\",\"#440154\"],\"function\":[\"read_block_from_file(*, *, *, *)\",\"read_block_from_file(*, *, *, *)\",\"read_block_from_file(*, *, *, *)\",\"read_block_from_file(*, *, *, *)\",\"pandas_read_text(*, _, *, dict(...), dict(...), [*, *, *, ...], enforce=*)\",\"pandas_read_text(*, _, *, dict(...), dict(...), [*, *, *, ...], enforce=*)\",\"pandas_read_text(*, _, *, dict(...), dict(...), [*, *, *, ...], enforce=*)\",\"pandas_read_text(*, _, *, dict(...), dict(...), [*, *, *, ...], enforce=*)\",\"check_meta(_, *, *)\",\"_reduction_chunk(_, aca_chunk=*, axis=*, skipna=*)\",\"read_block_from_file(*, *, *, *)\",\"pandas_read_text(*, _, *, dict(...), dict(...), [*, *, *, ...], enforce=*)\",\"check_meta(_, *, *)\",\"_reduction_chunk(_, aca_chunk=*, axis=*, skipna=*)\",\"read_block_from_file(*, *, *, *)\",\"pandas_read_text(*, _, *, dict(...), dict(...), [*, *, *, ...], enforce=*)\",\"check_meta(_, *, *)\",\"_reduction_chunk(_, aca_chunk=*, axis=*, skipna=*)\",\"read_block_from_file(*, *, *, *)\",\"pandas_read_text(*, _, *, dict(...), dict(...), [*, *, *, ...], enforce=*)\",\"check_meta(_, *, *)\",\"_reduction_chunk(_, aca_chunk=*, axis=*, skipna=*)\",\"read_block_from_file(*, *, *, *)\",\"pandas_read_text(*, _, *, dict(...), dict(...), [*, *, *, ...], enforce=*)\",\"check_meta(_, *, *)\",\"_reduction_chunk(_, aca_chunk=*, axis=*, skipna=*)\",\"read_block_from_file(*, *, *, *)\",\"pandas_read_text(*, _, *, dict(...), dict(...), [*, *, *, ...], enforce=*)\",\"check_meta(_, *, *)\",\"_reduction_chunk(_, aca_chunk=*, axis=*, skipna=*)\",\"read_block_from_file(*, *, *, *)\",\"pandas_read_text(*, _, *, dict(...), dict(...), [*, *, *, ...], enforce=*)\",\"check_meta(_, *, *)\",\"_reduction_chunk(_, aca_chunk=*, axis=*, skipna=*)\",\"read_block_from_file(*, *, *, *)\",\"pandas_read_text(*, _, *, dict(...), dict(...), [*, *, *, ...], enforce=*)\",\"check_meta(_, *, *)\",\"_reduction_chunk(_, aca_chunk=*, axis=*, skipna=*)\",\"check_meta(_, *, *)\",\"_reduction_chunk(_, aca_chunk=*, axis=*, skipna=*)\",\"read_block_from_file(*, *, *, *)\",\"read_block_from_file(*, *, *, *)\",\"pandas_read_text(*, _, *, dict(...), dict(...), [*, *, *, ...], enforce=*)\",\"pandas_read_text(*, _, *, dict(...), dict(...), [*, *, *, ...], enforce=*)\",\"check_meta(_, *, *)\",\"_reduction_chunk(_, aca_chunk=*, axis=*, skipna=*)\",\"read_block_from_file(*, *, *, *)\",\"pandas_read_text(*, _, *, dict(...), dict(...), [*, *, *, ...], enforce=*)\",\"check_meta(_, *, *)\",\"_reduction_chunk(_, aca_chunk=*, axis=*, skipna=*)\",\"read_block_from_file(*, *, *, *)\",\"pandas_read_text(*, _, *, dict(...), dict(...), [*, *, *, ...], enforce=*)\",\"check_meta(_, *, *)\",\"_reduction_chunk(_, aca_chunk=*, axis=*, skipna=*)\",\"check_meta(_, *, *)\",\"_reduction_chunk(_, aca_chunk=*, axis=*, skipna=*)\",\"read_block_from_file(*, *, *, *)\",\"pandas_read_text(*, _, *, dict(...), dict(...), [*, *, *, ...], enforce=*)\",\"read_block_from_file(*, *, *, *)\",\"pandas_read_text(*, _, *, dict(...), dict(...), [*, *, *, ...], enforce=*)\",\"check_meta(_, *, *)\",\"_reduction_chunk(_, aca_chunk=*, axis=*, skipna=*)\",\"read_block_from_file(*, *, *, *)\",\"pandas_read_text(*, _, *, dict(...), dict(...), [*, *, *, ...], enforce=*)\",\"check_meta(_, *, *)\",\"_reduction_chunk(_, aca_chunk=*, axis=*, skipna=*)\",\"read_block_from_file(*, *, *, *)\",\"pandas_read_text(*, _, *, dict(...), dict(...), [*, *, *, ...], enforce=*)\",\"check_meta(_, *, *)\",\"_reduction_chunk(_, aca_chunk=*, axis=*, skipna=*)\",\"read_block_from_file(*, *, *, *)\",\"pandas_read_text(*, _, *, dict(...), dict(...), [*, *, *, ...], enforce=*)\",\"check_meta(_, *, *)\",\"_reduction_chunk(_, aca_chunk=*, axis=*, skipna=*)\",\"read_block_from_file(*, *, *, *)\",\"pandas_read_text(*, _, *, dict(...), dict(...), [*, *, *, ...], enforce=*)\",\"check_meta(_, *, *)\",\"_reduction_chunk(_, aca_chunk=*, axis=*, skipna=*)\",\"read_block_from_file(*, *, *, *)\",\"pandas_read_text(*, _, *, dict(...), dict(...), [*, *, *, ...], enforce=*)\",\"check_meta(_, *, *)\",\"_reduction_chunk(_, aca_chunk=*, axis=*, skipna=*)\",\"read_block_from_file(*, *, *, *)\",\"pandas_read_text(*, _, *, dict(...), dict(...), [*, *, *, ...], enforce=*)\",\"check_meta(_, *, *)\",\"_reduction_chunk(_, aca_chunk=*, axis=*, skipna=*)\",\"read_block_from_file(*, *, *, *)\",\"pandas_read_text(*, _, *, dict(...), dict(...), [*, *, *, ...], enforce=*)\",\"check_meta(_, *, *)\",\"_reduction_chunk(_, aca_chunk=*, axis=*, skipna=*)\",\"read_block_from_file(*, *, *, *)\",\"pandas_read_text(*, _, *, dict(...), dict(...), [*, *, *, ...], enforce=*)\",\"check_meta(_, *, *)\",\"_reduction_chunk(_, aca_chunk=*, axis=*, skipna=*)\",\"read_block_from_file(*, *, *, *)\",\"pandas_read_text(*, _, *, dict(...), dict(...), [*, *, *, ...], enforce=*)\",\"check_meta(_, *, *)\",\"_reduction_chunk(_, aca_chunk=*, axis=*, skipna=*)\",\"read_block_from_file(*, *, *, *)\",\"pandas_read_text(..., ...)\",\"check_meta(_, *, *)\",\"_reduction_chunk(_, aca_chunk=*, axis=*, skipna=*)\",\"check_meta(_, *, *)\",\"_reduction_chunk(_, aca_chunk=*, axis=*, skipna=*)\",\"check_meta(_, *, *)\",\"_reduction_chunk(_, aca_chunk=*, axis=*, skipna=*)\",\"check_meta(_, *, *)\",\"_reduction_chunk(_, aca_chunk=*, axis=*, skipna=*)\",\"_reduction_aggregate(_concat(...), aca_aggregate=*, axis=*, skipna=*)\"],\"key\":[\"read-block-272629760-5b99ad1e63a63c473f48bb61bd69b7fa\",\"read-block-262144000-5b99ad1e63a63c473f48bb61bd69b7fa\",\"read-block-251658240-5b99ad1e63a63c473f48bb61bd69b7fa\",\"read-block-241172480-5b99ad1e63a63c473f48bb61bd69b7fa\",\"pandas_read_text-e22ca72b72cc926798ea862148f98e0b\",\"pandas_read_text-470c25cda01293dc8cd6e0343cbc791b\",\"pandas_read_text-2c3af8dd3704f8ff7d0d3d105d40439c\",\"pandas_read_text-46dc9e6d4f6b974aa404837f101347ae\",\"('from-delayed-c3f016a2b16689a2606862857ad16e6a', 26)\",\"('dataframe-sum-chunk-3c9abfbf5ea13c7ad93f5728f5b60485', 0, 26, 0)\",\"read-block-230686720-5b99ad1e63a63c473f48bb61bd69b7fa\",\"pandas_read_text-e2006ff413410ac298a875699a18a4f2\",\"('from-delayed-c3f016a2b16689a2606862857ad16e6a', 25)\",\"('dataframe-sum-chunk-3c9abfbf5ea13c7ad93f5728f5b60485', 0, 25, 0)\",\"read-block-220200960-5b99ad1e63a63c473f48bb61bd69b7fa\",\"pandas_read_text-3532e86bde37bd8512619d2f9fc9aa05\",\"('from-delayed-c3f016a2b16689a2606862857ad16e6a', 24)\",\"('dataframe-sum-chunk-3c9abfbf5ea13c7ad93f5728f5b60485', 0, 24, 0)\",\"read-block-209715200-5b99ad1e63a63c473f48bb61bd69b7fa\",\"pandas_read_text-99ee08b44d520661702680cfbcba6026\",\"('from-delayed-c3f016a2b16689a2606862857ad16e6a', 23)\",\"('dataframe-sum-chunk-3c9abfbf5ea13c7ad93f5728f5b60485', 0, 23, 0)\",\"read-block-199229440-5b99ad1e63a63c473f48bb61bd69b7fa\",\"pandas_read_text-256e67f482f0c4a717f46fc681e722a4\",\"('from-delayed-c3f016a2b16689a2606862857ad16e6a', 22)\",\"('dataframe-sum-chunk-3c9abfbf5ea13c7ad93f5728f5b60485', 0, 22, 0)\",\"read-block-188743680-5b99ad1e63a63c473f48bb61bd69b7fa\",\"pandas_read_text-37e49b84336c164278bff07b164a050d\",\"('from-delayed-c3f016a2b16689a2606862857ad16e6a', 21)\",\"('dataframe-sum-chunk-3c9abfbf5ea13c7ad93f5728f5b60485', 0, 21, 0)\",\"read-block-178257920-5b99ad1e63a63c473f48bb61bd69b7fa\",\"pandas_read_text-e8ae565b260a987b69ca5caba0f0df8d\",\"('from-delayed-c3f016a2b16689a2606862857ad16e6a', 19)\",\"('dataframe-sum-chunk-3c9abfbf5ea13c7ad93f5728f5b60485', 0, 19, 0)\",\"read-block-167772160-5b99ad1e63a63c473f48bb61bd69b7fa\",\"pandas_read_text-aa20ba77ed7f5c7c67964748a1eac6bf\",\"('from-delayed-c3f016a2b16689a2606862857ad16e6a', 20)\",\"('dataframe-sum-chunk-3c9abfbf5ea13c7ad93f5728f5b60485', 0, 20, 0)\",\"('from-delayed-c3f016a2b16689a2606862857ad16e6a', 18)\",\"('dataframe-sum-chunk-3c9abfbf5ea13c7ad93f5728f5b60485', 0, 18, 0)\",\"read-block-157286400-5b99ad1e63a63c473f48bb61bd69b7fa\",\"read-block-146800640-5b99ad1e63a63c473f48bb61bd69b7fa\",\"pandas_read_text-1ad42dea44a3b503c98b2c04deca966f\",\"pandas_read_text-49b2d3722e91a78efd1316eb35200087\",\"('from-delayed-c3f016a2b16689a2606862857ad16e6a', 17)\",\"('dataframe-sum-chunk-3c9abfbf5ea13c7ad93f5728f5b60485', 0, 17, 0)\",\"read-block-136314880-5b99ad1e63a63c473f48bb61bd69b7fa\",\"pandas_read_text-9ae99746a4f8288a49091eb5548b5f78\",\"('from-delayed-c3f016a2b16689a2606862857ad16e6a', 16)\",\"('dataframe-sum-chunk-3c9abfbf5ea13c7ad93f5728f5b60485', 0, 16, 0)\",\"read-block-125829120-5b99ad1e63a63c473f48bb61bd69b7fa\",\"pandas_read_text-08b2774ff634785d0200b980b31d8cc1\",\"('from-delayed-c3f016a2b16689a2606862857ad16e6a', 15)\",\"('dataframe-sum-chunk-3c9abfbf5ea13c7ad93f5728f5b60485', 0, 15, 0)\",\"('from-delayed-c3f016a2b16689a2606862857ad16e6a', 14)\",\"('dataframe-sum-chunk-3c9abfbf5ea13c7ad93f5728f5b60485', 0, 14, 0)\",\"read-block-115343360-5b99ad1e63a63c473f48bb61bd69b7fa\",\"pandas_read_text-e0c572950b44c952d98d13567d4bf1cd\",\"read-block-104857600-5b99ad1e63a63c473f48bb61bd69b7fa\",\"pandas_read_text-39e97e58ec6a4a325d17b36e13bedbbd\",\"('from-delayed-c3f016a2b16689a2606862857ad16e6a', 13)\",\"('dataframe-sum-chunk-3c9abfbf5ea13c7ad93f5728f5b60485', 0, 13, 0)\",\"read-block-94371840-5b99ad1e63a63c473f48bb61bd69b7fa\",\"pandas_read_text-c9ea710f56472994ed67a8fe76dfeb98\",\"('from-delayed-c3f016a2b16689a2606862857ad16e6a', 12)\",\"('dataframe-sum-chunk-3c9abfbf5ea13c7ad93f5728f5b60485', 0, 12, 0)\",\"read-block-83886080-5b99ad1e63a63c473f48bb61bd69b7fa\",\"pandas_read_text-2a7165ad14e1beca6a4c84df1fc75ef7\",\"('from-delayed-c3f016a2b16689a2606862857ad16e6a', 10)\",\"('dataframe-sum-chunk-3c9abfbf5ea13c7ad93f5728f5b60485', 0, 10, 0)\",\"read-block-73400320-5b99ad1e63a63c473f48bb61bd69b7fa\",\"pandas_read_text-202cbce9290436c9835bb25868e86829\",\"('from-delayed-c3f016a2b16689a2606862857ad16e6a', 11)\",\"('dataframe-sum-chunk-3c9abfbf5ea13c7ad93f5728f5b60485', 0, 11, 0)\",\"read-block-62914560-5b99ad1e63a63c473f48bb61bd69b7fa\",\"pandas_read_text-940b251747f46945de2a41d7b7356c4e\",\"('from-delayed-c3f016a2b16689a2606862857ad16e6a', 9)\",\"('dataframe-sum-chunk-3c9abfbf5ea13c7ad93f5728f5b60485', 0, 9, 0)\",\"read-block-52428800-5b99ad1e63a63c473f48bb61bd69b7fa\",\"pandas_read_text-c8ea29bd409c1b77da60099d605655ae\",\"('from-delayed-c3f016a2b16689a2606862857ad16e6a', 7)\",\"('dataframe-sum-chunk-3c9abfbf5ea13c7ad93f5728f5b60485', 0, 7, 0)\",\"read-block-41943040-5b99ad1e63a63c473f48bb61bd69b7fa\",\"pandas_read_text-22036f942134c5c04151dde501cb2999\",\"('from-delayed-c3f016a2b16689a2606862857ad16e6a', 8)\",\"('dataframe-sum-chunk-3c9abfbf5ea13c7ad93f5728f5b60485', 0, 8, 0)\",\"read-block-31457280-5b99ad1e63a63c473f48bb61bd69b7fa\",\"pandas_read_text-4e3577590ce160ecbc1b74a6aa073033\",\"('from-delayed-c3f016a2b16689a2606862857ad16e6a', 6)\",\"('dataframe-sum-chunk-3c9abfbf5ea13c7ad93f5728f5b60485', 0, 6, 0)\",\"read-block-20971520-5b99ad1e63a63c473f48bb61bd69b7fa\",\"pandas_read_text-f60c6049a0eefae241a3d7c30d99996b\",\"('from-delayed-c3f016a2b16689a2606862857ad16e6a', 5)\",\"('dataframe-sum-chunk-3c9abfbf5ea13c7ad93f5728f5b60485', 0, 5, 0)\",\"read-block-10485760-5b99ad1e63a63c473f48bb61bd69b7fa\",\"pandas_read_text-60b16d50bdc34607cdf3f2a5bd051795\",\"('from-delayed-c3f016a2b16689a2606862857ad16e6a', 4)\",\"('dataframe-sum-chunk-3c9abfbf5ea13c7ad93f5728f5b60485', 0, 4, 0)\",\"read-block-0-5b99ad1e63a63c473f48bb61bd69b7fa\",\"pandas_read_text-3445b9e71bcf4ff54d1f6afc1f54c7c5\",\"('from-delayed-c3f016a2b16689a2606862857ad16e6a', 3)\",\"('dataframe-sum-chunk-3c9abfbf5ea13c7ad93f5728f5b60485', 0, 3, 0)\",\"('from-delayed-c3f016a2b16689a2606862857ad16e6a', 2)\",\"('dataframe-sum-chunk-3c9abfbf5ea13c7ad93f5728f5b60485', 0, 2, 0)\",\"('from-delayed-c3f016a2b16689a2606862857ad16e6a', 1)\",\"('dataframe-sum-chunk-3c9abfbf5ea13c7ad93f5728f5b60485', 0, 1, 0)\",\"('from-delayed-c3f016a2b16689a2606862857ad16e6a', 0)\",\"('dataframe-sum-chunk-3c9abfbf5ea13c7ad93f5728f5b60485', 0, 0, 0)\",\"('dataframe-sum-agg-3c9abfbf5ea13c7ad93f5728f5b60485', 0)\"],\"width\":[0.008895136998035014,0.03504450600303244,0.019743400000152178,0.019011277006939054,0.5975969760038424,2.325678762004827,1.64574577199528,1.1644761280040257,0.00536440200812649,0.3563224120007362,0.005773051991127431,2.2360726810002234,0.004093106996151619,0.34906954399775714,0.0034336000098846853,2.560348670987878,0.006148966000182554,0.5866655300051207,0.0030746050033485517,3.0314439960056916,0.005394072999479249,0.5461236650007777,0.003657939989352599,1.7900143479928374,0.004334780009230599,0.3789895920053823,0.0025951660063583404,1.812717380002141,0.010333425001590513,0.471888273008517,0.0041456679900875315,2.0229190350073623,0.004350453993538395,0.37546023400500417,0.002320031009730883,1.9279018259985605,0.003522623999742791,0.9043227670044871,0.004679317004047334,0.7568026499939151,0.0044653630029642954,0.003219235994038172,1.6683027320104884,1.5475664849946043,0.004317259008530527,0.28841207300138194,0.0028410020022420213,2.1291606839949964,0.005118524000863545,0.4283106049988419,0.011129450998851098,2.047748944009072,0.003722224006196484,0.5958175510022556,0.05464183598814998,0.5721509580034763,0.17344141700596083,1.9561343339883024,0.004340679995948449,1.3114080199884484,0.003854150010738522,0.28642831899924204,0.004351531999418512,1.861066491008387,0.004215884997393005,0.36493327100470196,0.0026832020084839314,2.5200255539966747,0.004531237995252013,0.3370712799951434,0.002543298003729433,1.5362023420020705,0.004061470986925997,0.39083330500579905,0.0023983830033103004,2.1419465399958426,0.006585732000530697,0.36729335600102786,0.0025049230025615543,2.113571359004709,0.005382960996939801,0.2993203529913444,0.002656459007994272,2.4287680330016883,0.00615798300714232,0.5140582489984808,0.002970551999169402,2.48146755999187,0.0041100759990513325,0.3680136759940069,0.0025046520022442564,2.9693788920121733,0.004475317997275852,0.592688194999937,0.003209176007658243,2.9811961950035766,0.004924672000925057,0.45092580099299084,0.0033729800052242354,2.8247459389967844,0.009647316997870803,0.7814266509958543,0.013826391994371079,0.6231184720090823,0.004260720990714617,0.5459801630058791,0.004223839001497254,0.49014057400927413,0.09699852699122857],\"x\":[0.004447568499017507,0.017876822981634177,0.010447914988617413,0.01034329149115365,0.3082590839912882,1.1827772020042175,0.8432072779978625,0.6178706799983047,0.6101989360031439,0.7912870079890126,0.9728324369934853,2.094015511494945,1.2032222514826572,1.3801130639913026,1.5566951819928363,2.8390353644936113,1.671963003987912,1.969061205003527,2.264161602492095,3.7816410239902325,2.349000009489828,2.624969903496094,2.9001736079953844,3.7972699999954784,3.21774949299288,3.409696565984632,3.603006560995709,4.51087246699899,4.1246754824969685,4.366068814488244,4.6055500880029285,5.619355717484723,4.694783234997885,4.884936268994352,5.0741001304850215,6.039524871986941,5.299383414996555,5.75372038250498,5.4426546414906625,5.823853445996065,6.20794422448671,6.207840365983429,7.043925224003033,6.987929480485036,6.633276878492325,6.779959850493469,6.9263500700035365,7.992676376001327,7.0065444559877506,7.223471447490738,7.444604389500455,8.474309934987104,7.764025330994627,8.064038687487482,8.070608792986604,8.533161133993417,8.449706597501063,9.582822774988017,8.821454702992924,9.479572992000612,9.059527164994506,9.20493866049219,9.350768812990282,10.283721957486705,9.500533723490662,9.685300387485768,9.871066156993038,11.132764285997837,10.137917211992317,10.309550293997745,10.47978877199057,11.249482150989934,10.563635765502113,10.76135650849028,10.958359397496679,12.030936885988922,11.217815828000312,11.405453047002084,11.591328401496867,12.649693244500668,12.02062998949259,12.173252483495162,12.324479433489614,13.540519332498661,12.39651141349168,12.656860307484749,12.915646049004863,14.158195750991581,13.10460979299387,13.290953069998068,13.476575823980966,14.9628295339935,13.708918661999633,14.007864626488299,14.306102852991899,15.79875536749023,14.757821516992408,14.986044119505095,15.213518163989647,16.627862507491955,15.403914832495502,15.799912969494471,16.45484412800579,16.776965103999828,17.291699826499098,17.567127359492588,18.042485160491196,18.289840803001425,18.583647998500965],\"y\":[4,1,2,3,4,3,2,1,4,4,4,4,1,1,1,1,2,2,2,2,3,3,3,3,4,4,4,4,1,1,1,1,3,3,3,3,2,2,4,4,4,2,2,4,1,1,1,1,3,3,3,3,4,4,2,2,4,4,2,2,1,1,1,1,3,3,3,3,2,2,2,2,4,4,4,4,1,1,1,1,2,2,2,2,3,3,3,3,4,4,4,4,1,1,1,1,2,2,2,2,3,3,3,4,3,4,1,3,4]}},\"id\":\"ab644cfd-758f-4078-9bf8-6a4c9169b305\",\"type\":\"ColumnDataSource\"},{\"attributes\":{\"children\":[{\"id\":\"d6149fbe-d59c-4c27-bc7b-f01c59929466\",\"type\":\"Row\"},{\"id\":\"8e060aba-8089-4342-ab7a-b4b34bff7c03\",\"type\":\"Row\"}]},\"id\":\"3c31335f-6b7d-4fc0-9601-085b0817fe37\",\"type\":\"Column\"},{\"attributes\":{},\"id\":\"53d60c0d-3f53-4295-aaab-c4d8bf3c3fa9\",\"type\":\"ResetTool\"},{\"attributes\":{},\"id\":\"905a2f04-1d14-4936-9438-b79021c34401\",\"type\":\"BasicTicker\"},{\"attributes\":{},\"id\":\"6079505c-6b9a-4106-b064-30fb6f400cdb\",\"type\":\"LinearScale\"},{\"attributes\":{\"dimensions\":\"width\"},\"id\":\"73fbf7f9-4be6-4392-8613-4f179b20ec8f\",\"type\":\"PanTool\"},{\"attributes\":{\"grid_line_color\":{\"value\":null},\"plot\":{\"id\":\"0a0d1d56-f400-4824-be3d-9700d6d1db32\",\"subtype\":\"Figure\",\"type\":\"Plot\"},\"ticker\":{\"id\":\"905a2f04-1d14-4936-9438-b79021c34401\",\"type\":\"BasicTicker\"}},\"id\":\"17923d42-d9f6-4266-85ee-44f6585c314c\",\"type\":\"Grid\"},{\"attributes\":{\"data_source\":{\"id\":\"4d2e7079-2a9d-45f4-8187-0d31c51adc3b\",\"type\":\"ColumnDataSource\"},\"glyph\":{\"id\":\"220d9a59-b58f-49b4-be14-79bbad305a6b\",\"type\":\"Line\"},\"hover_glyph\":null,\"muted_glyph\":null,\"nonselection_glyph\":{\"id\":\"168a5e67-12f2-4d71-8514-cc5fa48cd68d\",\"type\":\"Line\"},\"selection_glyph\":null,\"view\":{\"id\":\"120f11dd-8d42-40ae-81ca-a72c93df9d40\",\"type\":\"CDSView\"},\"y_range_name\":\"memory\"},\"id\":\"a1e13ab5-c7ab-49cf-bbcd-8af79aeff680\",\"type\":\"GlyphRenderer\"},{\"attributes\":{\"toolbar\":{\"id\":\"25179dcc-e8ef-436c-81a3-68fce4f3905e\",\"type\":\"ProxyToolbar\"},\"toolbar_location\":\"above\"},\"id\":\"ef59f3bb-8690-42ea-ac0c-3a349496e389\",\"type\":\"ToolbarBox\"},{\"attributes\":{\"plot\":null,\"text\":\"Profile Results\"},\"id\":\"b5c3c6d9-4c89-43f1-8c85-efaaccdb1365\",\"type\":\"Title\"},{\"attributes\":{},\"id\":\"4dedbb85-fe73-4fcf-9c38-21d15cd3d326\",\"type\":\"CategoricalTickFormatter\"},{\"attributes\":{\"dimensions\":\"width\"},\"id\":\"01b032ce-2577-4b9c-95af-72710841dfc9\",\"type\":\"WheelZoomTool\"},{\"attributes\":{},\"id\":\"a68a2c35-57f1-4200-9e8d-a577e23f41b4\",\"type\":\"CategoricalScale\"},{\"attributes\":{\"callback\":null,\"column_names\":[\"x\",\"y\"],\"data\":{\"x\":[0.0,0.10071437498845626,0.20138929499080405,0.30193298700032756,0.40250641499005724,0.5132181669905549,0.6135888719873037,0.7141065769974375,0.8147196149948286,0.9151330689928727,1.0155733279971173,1.1159684499871219,1.2163349819893483,1.3166997369989986,1.4170868739893194,1.5175349969940726,1.6178897809877526,1.7183199479914038,1.818688856990775,1.9192390279931715,2.019689691995154,2.120041192989447,2.2204645199963124,2.320971782988636,2.421433719995548,2.5218656059878413,2.6224005369876977,2.723208628987777,2.823705124988919,2.9241428919922328,3.024573329996201,3.1249615009874105,3.2253714929975104,3.325803306986927,3.426168081990909,3.5291421939909924,3.6296849279897287,3.730531509994762,3.8326792389998445,3.9333784339978592,4.0337747519952245,4.134179728993331,4.234568250991288,4.335677241993835,4.436147426997195,4.536715487993206,4.6371891149901785,4.73774944699835,4.838367709991871,4.939153700994211,5.039658081994276,5.140096201997949,5.240741912988597,5.341355094991741,5.44184701598715,5.542317625993746,5.642772074992536,5.743248151993612,5.843791573992348,5.944697371989605,6.0451415839925176,6.146125204992131,6.246565395995276,6.347420031001093,6.448032678992604,6.548475705989404,6.648967428991455,6.749303449993022,6.850435963991913,6.950884791993303,7.0513099870004226,7.151729760997114,7.252327592999791,7.3533428969967645,7.453833300998667,7.55513991699263,7.655599970996263,7.756526634999318,7.857945637995726,7.958927108993521,8.0610815359978,8.16150169399043,8.261911133988178,8.3623889679875,8.462825337992399,8.563317764987005,8.663926784996875,8.764377941988641,8.864828553996631,8.96527507599967,9.066127693993622,9.166631978994701,9.267108622996602,9.367631340996013,9.468074286996853,9.568509384989738,9.668947469996056,9.769345163993421,9.869868612993741,9.970703681989107,10.071542785997735,10.172537072998239,10.273028789990349,10.374356650994741,10.474844395997934,10.575261639998644,10.67571727799077,10.776143058988964,10.87669656900107,10.977203500995529,11.077558221993968,11.177903681993484,11.278305346000707,11.378698593995068,11.479091410990804,11.579516112993588,11.679929587990046,11.780369271989912,11.880881772987777,11.981311997995363,12.081730130987125,12.183485285000643,12.283996539990767,12.384434989988222,12.484918376998394,12.585424701988813,12.685788440998294,12.786229042991181,12.88660268500098,12.987019310996402,13.087447465994046,13.187872078997316,13.288480319999508,13.388787154995953,13.489137861994095,13.589534471990191,13.68991629598895,13.790396147000138,13.890839554995182,13.991320458997507,14.091685430001235,14.192119971994543,14.293260605991236,14.393701697990764,14.494157192995772,14.594715017999988,14.69519977598975,14.79563684599998,14.896018144994741,14.996434604996466,15.09684929899231,15.197654761999729,15.298185963998549,15.39865797299717,15.499154935998376,15.599609515993507,15.700111319994903,15.800629571996978,15.90113299099903,16.00212928999099,16.102518988991505,16.202917749993503,16.303551537988824,16.404020240996033,16.506025547991158,16.606488658988383,16.707116876990767,16.807778621994657,16.908253768997383,17.00867112999549,17.109439191990532,17.209897241991712,17.310366839999915,17.410926227996242,17.51150255498942,17.612017820996698,17.712450713996077,17.81291498299106,17.913515299995197,18.014430586990784,18.114909381998586,18.21555865398841,18.3186732979957,18.419129414993222,18.519522086993675,18.619928021988017,18.720377567995456,18.82083706399135,18.92126132598787,19.021703598991735,19.122108657000354,19.222672279996914],\"y\":[3704.553472,3704.819712,3704.819712,3704.819712,3704.868864,3705.008128,3705.729024,3705.729024,3705.729024,3705.729024,3705.73312,3705.73312,3749.66272,3754.799104,3754.799104,3705.9584,3705.995264,3706.208256,3771.052032,3771.052032,3771.052032,3706.44992,3706.44992,3796.529152,3796.529152,3796.60288,3796.60288,3796.60288,3706.687488,3795.173376,3858.173952,3858.202624,3857.985536,3857.985536,3790.04928,3737.305088,3737.305088,3737.305088,3794.067456,3794.30912,3794.30912,3737.694208,3737.432064,3737.432064,3737.432064,3737.464832,3737.464832,3776.647168,3809.431552,3809.431552,3809.431552,3737.882624,3737.882624,3801.083904,3801.227264,3801.227264,3738.329088,3738.329088,3738.333184,3812.560896,3825.80736,3825.80736,3884.949504,3884.949504,3884.949504,3884.949504,3884.949504,3738.750976,3738.750976,3738.750976,3738.755072,3738.755072,3795.21024,3795.279872,3756.498944,3739.672576,3801.849856,3801.931776,3801.931776,3763.929088,3739.549696,3739.549696,3739.549696,3739.643904,3817.771008,3817.771008,3817.771008,3817.771008,3800.10496,3812.810752,3812.810752,3812.810752,3812.810752,3740.033024,3740.033024,3740.033024,3793.543168,3793.543168,3788.5952,3740.360704,3771.711488,3802.800128,3802.800128,3802.800128,3740.725248,3740.725248,3740.725248,3798.30272,3798.30272,3798.30272,3740.954624,3807.678464,3807.678464,3807.678464,3782.975488,3741.032448,3741.032448,3762.925568,3805.638656,3805.638656,3805.638656,3741.343744,3741.343744,3741.343744,3741.343744,3774.574592,3797.01248,3797.01248,3741.609984,3889.840128,3896.528896,3866.005504,3866.005504,3866.005504,3743.490048,3743.490048,3809.148928,3809.148928,3809.148928,3801.7024,3743.768576,3743.842304,3808.763904,3808.763904,3808.763904,3808.763904,3808.763904,3809.017856,3744.268288,3744.268288,3744.268288,3744.268288,3744.268288,3802.7264,3802.7264,3802.7264,3802.7264,3744.350208,3744.350208,3818.590208,3843.514368,3843.514368,3843.514368,3843.514368,3843.514368,3843.514368,3819.794432,3767.627776,3767.631872,3767.631872,3836.628992,3836.628992,3836.628992,3836.628992,3836.628992,3812.265984,3767.963648,3767.963648,3821.207552,3821.207552,3821.207552,3821.207552,3821.207552,3768.123392,3768.123392,3818.123264,3846.508544,3846.508544,3846.508544,3846.508544,3768.418304,3768.15616]}},\"id\":\"4d2e7079-2a9d-45f4-8187-0d31c51adc3b\",\"type\":\"ColumnDataSource\"},{\"attributes\":{\"source\":{\"id\":\"4d2e7079-2a9d-45f4-8187-0d31c51adc3b\",\"type\":\"ColumnDataSource\"}},\"id\":\"120f11dd-8d42-40ae-81ca-a72c93df9d40\",\"type\":\"CDSView\"},{\"attributes\":{\"axis_label\":null,\"formatter\":{\"id\":\"88b5afc4-5692-470d-b824-bcea9920b26d\",\"type\":\"BasicTickFormatter\"},\"plot\":{\"id\":\"39a8d498-8156-4c85-a446-d28246f6f816\",\"subtype\":\"Figure\",\"type\":\"Plot\"},\"ticker\":{\"id\":\"2da8b6c1-53d5-4390-81a5-aa29e999df1c\",\"type\":\"BasicTicker\"}},\"id\":\"0f15dc1c-c81c-4cf8-b530-b8783191e285\",\"type\":\"LinearAxis\"},{\"attributes\":{\"tools\":[{\"id\":\"4574ca24-b510-4e20-83c1-19cee52ca29c\",\"type\":\"SaveTool\"},{\"id\":\"53d60c0d-3f53-4295-aaab-c4d8bf3c3fa9\",\"type\":\"ResetTool\"},{\"id\":\"3e55dc30-35b0-4d9f-8bde-1561157bb2e8\",\"type\":\"WheelZoomTool\"},{\"id\":\"73fbf7f9-4be6-4392-8613-4f179b20ec8f\",\"type\":\"PanTool\"},{\"id\":\"d4bf3ca2-bd09-4d2a-9ea7-1ef14e564c14\",\"type\":\"HoverTool\"},{\"id\":\"a5933cd2-fcca-41d0-8488-1ad882a29649\",\"type\":\"SaveTool\"},{\"id\":\"522684db-1cb5-407c-be78-f1db04f23637\",\"type\":\"ResetTool\"},{\"id\":\"01b032ce-2577-4b9c-95af-72710841dfc9\",\"type\":\"WheelZoomTool\"},{\"id\":\"49399d75-8f5f-4ce3-aea4-71637eb010af\",\"type\":\"PanTool\"}]},\"id\":\"25179dcc-e8ef-436c-81a3-68fce4f3905e\",\"type\":\"ProxyToolbar\"},{\"attributes\":{},\"id\":\"14c321c3-a3c2-4d75-8e08-ed79acff217b\",\"type\":\"LinearScale\"},{\"attributes\":{\"line_color\":\"#29788E\",\"line_width\":4,\"x\":{\"field\":\"x\"},\"y\":{\"field\":\"y\"}},\"id\":\"220d9a59-b58f-49b4-be14-79bbad305a6b\",\"type\":\"Line\"},{\"attributes\":{},\"id\":\"774348c0-5923-4a18-ad89-537ed6929ecf\",\"type\":\"BasicTickFormatter\"},{\"attributes\":{\"label\":{\"value\":\"Memory\"},\"renderers\":[{\"id\":\"a1e13ab5-c7ab-49cf-bbcd-8af79aeff680\",\"type\":\"GlyphRenderer\"}]},\"id\":\"55d65fd3-a6a7-499d-ac22-3957db65e32a\",\"type\":\"LegendItem\"},{\"attributes\":{},\"id\":\"3d039d8e-13ac-4348-b5cc-cdbf3d2daddf\",\"type\":\"CategoricalTicker\"},{\"attributes\":{\"source\":{\"id\":\"ab644cfd-758f-4078-9bf8-6a4c9169b305\",\"type\":\"ColumnDataSource\"}},\"id\":\"7d8fbefd-6ffb-4234-8f65-0e20095d8da8\",\"type\":\"CDSView\"},{\"attributes\":{\"items\":[{\"id\":\"b2085d89-2b70-4b64-8310-77a52406f815\",\"type\":\"LegendItem\"},{\"id\":\"55d65fd3-a6a7-499d-ac22-3957db65e32a\",\"type\":\"LegendItem\"}],\"plot\":{\"id\":\"39a8d498-8156-4c85-a446-d28246f6f816\",\"subtype\":\"Figure\",\"type\":\"Plot\"}},\"id\":\"8c9232e6-0b99-46e7-8a6b-0712c9bebad2\",\"type\":\"Legend\"},{\"attributes\":{\"children\":[{\"id\":\"39a8d498-8156-4c85-a446-d28246f6f816\",\"subtype\":\"Figure\",\"type\":\"Plot\"}]},\"id\":\"d6149fbe-d59c-4c27-bc7b-f01c59929466\",\"type\":\"Row\"},{\"attributes\":{\"source\":{\"id\":\"b30f9a8e-9d6f-4d8e-928e-bf610256629d\",\"type\":\"ColumnDataSource\"}},\"id\":\"bb0dfed8-177c-471b-af1b-45ab3107a32b\",\"type\":\"CDSView\"},{\"attributes\":{\"below\":[{\"id\":\"0f15dc1c-c81c-4cf8-b530-b8783191e285\",\"type\":\"LinearAxis\"}],\"extra_y_ranges\":{\"memory\":{\"id\":\"56b4d9f7-6f49-41f8-a7f9-bd3b0b066501\",\"type\":\"Range1d\"}},\"left\":[{\"id\":\"2f08b3ab-0b7d-4e6f-bb96-22289b428fdf\",\"type\":\"LinearAxis\"}],\"min_border_bottom\":20,\"min_border_left\":75,\"min_border_right\":75,\"plot_height\":270,\"plot_width\":800,\"renderers\":[{\"id\":\"0f15dc1c-c81c-4cf8-b530-b8783191e285\",\"type\":\"LinearAxis\"},{\"id\":\"1145444b-c1f0-4d64-8121-e8a19cdd1efd\",\"type\":\"Grid\"},{\"id\":\"2f08b3ab-0b7d-4e6f-bb96-22289b428fdf\",\"type\":\"LinearAxis\"},{\"id\":\"530159c4-94b5-44dd-b853-0e92f4cf583b\",\"type\":\"Grid\"},{\"id\":\"8c9232e6-0b99-46e7-8a6b-0712c9bebad2\",\"type\":\"Legend\"},{\"id\":\"900788bf-2b11-4321-8cde-be1baa0330da\",\"type\":\"GlyphRenderer\"},{\"id\":\"a1e13ab5-c7ab-49cf-bbcd-8af79aeff680\",\"type\":\"GlyphRenderer\"},{\"id\":\"15cf5fbe-f68a-4d08-b463-df8021382ff0\",\"type\":\"LinearAxis\"}],\"right\":[{\"id\":\"15cf5fbe-f68a-4d08-b463-df8021382ff0\",\"type\":\"LinearAxis\"}],\"title\":{\"id\":\"b5c3c6d9-4c89-43f1-8c85-efaaccdb1365\",\"type\":\"Title\"},\"toolbar\":{\"id\":\"08313e31-7957-4171-a164-ca04f2035496\",\"type\":\"Toolbar\"},\"toolbar_location\":null,\"x_range\":{\"id\":\"a351f3e2-9f00-47a8-aca5-534d2b79293d\",\"type\":\"Range1d\"},\"x_scale\":{\"id\":\"6079505c-6b9a-4106-b064-30fb6f400cdb\",\"type\":\"LinearScale\"},\"y_range\":{\"id\":\"48b17fc3-998b-4c97-b1b0-94fc4ede623d\",\"type\":\"Range1d\"},\"y_scale\":{\"id\":\"14c321c3-a3c2-4d75-8e08-ed79acff217b\",\"type\":\"LinearScale\"}},\"id\":\"39a8d498-8156-4c85-a446-d28246f6f816\",\"subtype\":\"Figure\",\"type\":\"Plot\"},{\"attributes\":{\"axis_label\":\"Memory (MB)\",\"formatter\":{\"id\":\"774348c0-5923-4a18-ad89-537ed6929ecf\",\"type\":\"BasicTickFormatter\"},\"plot\":{\"id\":\"39a8d498-8156-4c85-a446-d28246f6f816\",\"subtype\":\"Figure\",\"type\":\"Plot\"},\"ticker\":{\"id\":\"9652c75f-5588-482b-a484-60584dbad54e\",\"type\":\"BasicTicker\"},\"y_range_name\":\"memory\"},\"id\":\"15cf5fbe-f68a-4d08-b463-df8021382ff0\",\"type\":\"LinearAxis\"},{\"attributes\":{\"data_source\":{\"id\":\"ab644cfd-758f-4078-9bf8-6a4c9169b305\",\"type\":\"ColumnDataSource\"},\"glyph\":{\"id\":\"ba8ea6fa-df7f-43a7-83dd-7d22d0ee932e\",\"type\":\"Rect\"},\"hover_glyph\":null,\"muted_glyph\":null,\"nonselection_glyph\":{\"id\":\"fe254b3b-74e0-476e-acae-d08fe72184b9\",\"type\":\"Rect\"},\"selection_glyph\":null,\"view\":{\"id\":\"7d8fbefd-6ffb-4234-8f65-0e20095d8da8\",\"type\":\"CDSView\"}},\"id\":\"d36d3aaa-1302-41f7-bcd3-57362169b003\",\"type\":\"GlyphRenderer\"},{\"attributes\":{\"callback\":null,\"end\":3896.528896,\"start\":3704.553472},\"id\":\"56b4d9f7-6f49-41f8-a7f9-bd3b0b066501\",\"type\":\"Range1d\"},{\"attributes\":{},\"id\":\"abf1e815-812e-451b-8e49-a311506e9e86\",\"type\":\"LinearScale\"},{\"attributes\":{\"fill_alpha\":{\"value\":0.1},\"fill_color\":{\"value\":\"#1f77b4\"},\"height\":{\"units\":\"data\",\"value\":1},\"line_alpha\":{\"value\":0.1},\"line_color\":{\"value\":\"#1f77b4\"},\"width\":{\"field\":\"width\",\"units\":\"data\"},\"x\":{\"field\":\"x\"},\"y\":{\"field\":\"y\"}},\"id\":\"fe254b3b-74e0-476e-acae-d08fe72184b9\",\"type\":\"Rect\"},{\"attributes\":{\"fill_color\":{\"field\":\"color\"},\"height\":{\"units\":\"data\",\"value\":1},\"line_color\":{\"value\":\"gray\"},\"width\":{\"field\":\"width\",\"units\":\"data\"},\"x\":{\"field\":\"x\"},\"y\":{\"field\":\"y\"}},\"id\":\"ba8ea6fa-df7f-43a7-83dd-7d22d0ee932e\",\"type\":\"Rect\"},{\"attributes\":{\"callback\":null,\"end\":19.222672279996914},\"id\":\"a351f3e2-9f00-47a8-aca5-534d2b79293d\",\"type\":\"Range1d\"},{\"attributes\":{},\"id\":\"35e2b48a-55e9-4d75-b437-6cb152b04cc9\",\"type\":\"BasicTicker\"},{\"attributes\":{},\"id\":\"4574ca24-b510-4e20-83c1-19cee52ca29c\",\"type\":\"SaveTool\"},{\"attributes\":{\"line_alpha\":0.1,\"line_color\":\"#1f77b4\",\"line_width\":4,\"x\":{\"field\":\"x\"},\"y\":{\"field\":\"y\"}},\"id\":\"bdb5136f-ea20-43dd-bdd0-360cfd492941\",\"type\":\"Line\"},{\"attributes\":{\"callback\":null,\"end\":348.5},\"id\":\"48b17fc3-998b-4c97-b1b0-94fc4ede623d\",\"type\":\"Range1d\"},{\"attributes\":{\"callback\":null,\"point_policy\":\"follow_mouse\",\"tooltips\":\"\\n    <div>\\n        <span style=\\\"font-size: 14px; font-weight: bold;\\\">Key:</span>&nbsp;\\n        <span style=\\\"font-size: 10px; font-family: Monaco, monospace;\\\">@key</span>\\n    </div>\\n    <div>\\n        <span style=\\\"font-size: 14px; font-weight: bold;\\\">Task:</span>&nbsp;\\n        <span style=\\\"font-size: 10px; font-family: Monaco, monospace;\\\">@function</span>\\n    </div>\\n    \"},\"id\":\"d4bf3ca2-bd09-4d2a-9ea7-1ef14e564c14\",\"type\":\"HoverTool\"},{\"attributes\":{\"dimensions\":\"width\"},\"id\":\"49399d75-8f5f-4ce3-aea4-71637eb010af\",\"type\":\"PanTool\"},{\"attributes\":{\"line_color\":\"#440154\",\"line_width\":4,\"x\":{\"field\":\"x\"},\"y\":{\"field\":\"y\"}},\"id\":\"aa3a4f19-9d99-47de-bf1a-03cf729b0b63\",\"type\":\"Line\"},{\"attributes\":{\"children\":[{\"id\":\"ef59f3bb-8690-42ea-ac0c-3a349496e389\",\"type\":\"ToolbarBox\"},{\"id\":\"3c31335f-6b7d-4fc0-9601-085b0817fe37\",\"type\":\"Column\"}]},\"id\":\"2e1a05e8-7be7-4ddb-9a26-846e66ad4fa0\",\"type\":\"Column\"},{\"attributes\":{},\"id\":\"522684db-1cb5-407c-be78-f1db04f23637\",\"type\":\"ResetTool\"},{\"attributes\":{\"children\":[{\"id\":\"0a0d1d56-f400-4824-be3d-9700d6d1db32\",\"subtype\":\"Figure\",\"type\":\"Plot\"}]},\"id\":\"8e060aba-8089-4342-ab7a-b4b34bff7c03\",\"type\":\"Row\"},{\"attributes\":{\"dimension\":1,\"plot\":{\"id\":\"39a8d498-8156-4c85-a446-d28246f6f816\",\"subtype\":\"Figure\",\"type\":\"Plot\"},\"ticker\":{\"id\":\"35e2b48a-55e9-4d75-b437-6cb152b04cc9\",\"type\":\"BasicTicker\"}},\"id\":\"530159c4-94b5-44dd-b853-0e92f4cf583b\",\"type\":\"Grid\"},{\"attributes\":{\"active_drag\":\"auto\",\"active_inspect\":\"auto\",\"active_scroll\":\"auto\",\"active_tap\":\"auto\",\"tools\":[{\"id\":\"d4bf3ca2-bd09-4d2a-9ea7-1ef14e564c14\",\"type\":\"HoverTool\"},{\"id\":\"a5933cd2-fcca-41d0-8488-1ad882a29649\",\"type\":\"SaveTool\"},{\"id\":\"522684db-1cb5-407c-be78-f1db04f23637\",\"type\":\"ResetTool\"},{\"id\":\"01b032ce-2577-4b9c-95af-72710841dfc9\",\"type\":\"WheelZoomTool\"},{\"id\":\"49399d75-8f5f-4ce3-aea4-71637eb010af\",\"type\":\"PanTool\"}]},\"id\":\"1c9ed121-6a07-4a05-ba6e-b4b0e5c8cfe9\",\"type\":\"Toolbar\"},{\"attributes\":{\"plot\":{\"id\":\"39a8d498-8156-4c85-a446-d28246f6f816\",\"subtype\":\"Figure\",\"type\":\"Plot\"},\"ticker\":{\"id\":\"2da8b6c1-53d5-4390-81a5-aa29e999df1c\",\"type\":\"BasicTicker\"}},\"id\":\"1145444b-c1f0-4d64-8121-e8a19cdd1efd\",\"type\":\"Grid\"},{\"attributes\":{\"below\":[{\"id\":\"1940c44d-5450-4a15-afb3-3c48916519a0\",\"type\":\"LinearAxis\"}],\"left\":[{\"id\":\"b3e01e2a-ae52-4b95-bd60-831b7f6010a9\",\"type\":\"CategoricalAxis\"}],\"min_border_left\":75,\"min_border_right\":75,\"min_border_top\":20,\"plot_height\":270,\"plot_width\":800,\"renderers\":[{\"id\":\"1940c44d-5450-4a15-afb3-3c48916519a0\",\"type\":\"LinearAxis\"},{\"id\":\"17923d42-d9f6-4266-85ee-44f6585c314c\",\"type\":\"Grid\"},{\"id\":\"b3e01e2a-ae52-4b95-bd60-831b7f6010a9\",\"type\":\"CategoricalAxis\"},{\"id\":\"0925bf1b-27f4-40b8-87fe-d57bfc73e820\",\"type\":\"Grid\"},{\"id\":\"d36d3aaa-1302-41f7-bcd3-57362169b003\",\"type\":\"GlyphRenderer\"}],\"title\":null,\"toolbar\":{\"id\":\"1c9ed121-6a07-4a05-ba6e-b4b0e5c8cfe9\",\"type\":\"Toolbar\"},\"toolbar_location\":null,\"x_range\":{\"id\":\"a351f3e2-9f00-47a8-aca5-534d2b79293d\",\"type\":\"Range1d\"},\"x_scale\":{\"id\":\"abf1e815-812e-451b-8e49-a311506e9e86\",\"type\":\"LinearScale\"},\"y_range\":{\"id\":\"7682b982-e73c-4352-b96a-3e7e4426fdb5\",\"type\":\"FactorRange\"},\"y_scale\":{\"id\":\"a68a2c35-57f1-4200-9e8d-a577e23f41b4\",\"type\":\"CategoricalScale\"}},\"id\":\"0a0d1d56-f400-4824-be3d-9700d6d1db32\",\"subtype\":\"Figure\",\"type\":\"Plot\"},{\"attributes\":{\"callback\":null,\"column_names\":[\"x\",\"y\"],\"data\":{\"x\":[0.0,0.10071437498845626,0.20138929499080405,0.30193298700032756,0.40250641499005724,0.5132181669905549,0.6135888719873037,0.7141065769974375,0.8147196149948286,0.9151330689928727,1.0155733279971173,1.1159684499871219,1.2163349819893483,1.3166997369989986,1.4170868739893194,1.5175349969940726,1.6178897809877526,1.7183199479914038,1.818688856990775,1.9192390279931715,2.019689691995154,2.120041192989447,2.2204645199963124,2.320971782988636,2.421433719995548,2.5218656059878413,2.6224005369876977,2.723208628987777,2.823705124988919,2.9241428919922328,3.024573329996201,3.1249615009874105,3.2253714929975104,3.325803306986927,3.426168081990909,3.5291421939909924,3.6296849279897287,3.730531509994762,3.8326792389998445,3.9333784339978592,4.0337747519952245,4.134179728993331,4.234568250991288,4.335677241993835,4.436147426997195,4.536715487993206,4.6371891149901785,4.73774944699835,4.838367709991871,4.939153700994211,5.039658081994276,5.140096201997949,5.240741912988597,5.341355094991741,5.44184701598715,5.542317625993746,5.642772074992536,5.743248151993612,5.843791573992348,5.944697371989605,6.0451415839925176,6.146125204992131,6.246565395995276,6.347420031001093,6.448032678992604,6.548475705989404,6.648967428991455,6.749303449993022,6.850435963991913,6.950884791993303,7.0513099870004226,7.151729760997114,7.252327592999791,7.3533428969967645,7.453833300998667,7.55513991699263,7.655599970996263,7.756526634999318,7.857945637995726,7.958927108993521,8.0610815359978,8.16150169399043,8.261911133988178,8.3623889679875,8.462825337992399,8.563317764987005,8.663926784996875,8.764377941988641,8.864828553996631,8.96527507599967,9.066127693993622,9.166631978994701,9.267108622996602,9.367631340996013,9.468074286996853,9.568509384989738,9.668947469996056,9.769345163993421,9.869868612993741,9.970703681989107,10.071542785997735,10.172537072998239,10.273028789990349,10.374356650994741,10.474844395997934,10.575261639998644,10.67571727799077,10.776143058988964,10.87669656900107,10.977203500995529,11.077558221993968,11.177903681993484,11.278305346000707,11.378698593995068,11.479091410990804,11.579516112993588,11.679929587990046,11.780369271989912,11.880881772987777,11.981311997995363,12.081730130987125,12.183485285000643,12.283996539990767,12.384434989988222,12.484918376998394,12.585424701988813,12.685788440998294,12.786229042991181,12.88660268500098,12.987019310996402,13.087447465994046,13.187872078997316,13.288480319999508,13.388787154995953,13.489137861994095,13.589534471990191,13.68991629598895,13.790396147000138,13.890839554995182,13.991320458997507,14.091685430001235,14.192119971994543,14.293260605991236,14.393701697990764,14.494157192995772,14.594715017999988,14.69519977598975,14.79563684599998,14.896018144994741,14.996434604996466,15.09684929899231,15.197654761999729,15.298185963998549,15.39865797299717,15.499154935998376,15.599609515993507,15.700111319994903,15.800629571996978,15.90113299099903,16.00212928999099,16.102518988991505,16.202917749993503,16.303551537988824,16.404020240996033,16.506025547991158,16.606488658988383,16.707116876990767,16.807778621994657,16.908253768997383,17.00867112999549,17.109439191990532,17.209897241991712,17.310366839999915,17.410926227996242,17.51150255498942,17.612017820996698,17.712450713996077,17.81291498299106,17.913515299995197,18.014430586990784,18.114909381998586,18.21555865398841,18.3186732979957,18.419129414993222,18.519522086993675,18.619928021988017,18.720377567995456,18.82083706399135,18.92126132598787,19.021703598991735,19.122108657000354,19.222672279996914],\"y\":[0.0,99.3,99.4,99.5,109.4,99.4,209.1,198.9,298.3,328.7,318.6,278.9,169.4,109.6,109.6,119.5,328.8,239.0,179.1,109.5,99.6,139.5,219.0,199.0,109.5,89.6,109.3,99.3,149.3,149.3,99.6,109.6,109.6,99.6,119.5,262.2,248.5,188.6,156.4,99.4,109.5,109.6,229.1,257.1,228.7,119.4,99.6,158.8,109.5,99.2,109.4,99.5,159.0,109.4,109.5,109.5,159.2,268.6,169.2,109.0,109.5,108.9,109.5,99.2,99.4,109.5,99.5,119.6,306.5,318.6,318.7,189.2,109.3,108.9,89.6,187.6,109.5,108.9,108.5,97.9,217.8,348.5,229.1,129.4,99.6,99.5,109.3,99.5,109.5,109.5,99.1,109.5,99.5,119.4,308.6,258.9,119.5,109.5,109.5,277.7,148.7,118.8,109.5,108.5,278.7,298.8,179.2,109.5,109.4,99.5,159.4,139.6,99.6,109.6,109.6,318.7,288.8,139.3,109.5,99.6,109.5,245.7,199.0,258.9,139.3,129.4,99.6,109.5,149.5,99.6,109.5,109.4,99.5,99.7,179.3,298.9,139.5,109.4,99.5,109.5,288.9,268.9,118.6,99.6,119.4,49.7,49.8,99.6,169.4,199.2,199.2,208.2,119.4,99.5,99.5,109.5,89.5,139.3,139.2,118.9,109.6,89.6,99.4,99.5,98.0,89.6,109.2,129.2,169.3,99.5,119.1,99.6,99.5,89.5,99.4,99.5,169.2,139.3,109.3,99.2,89.5,109.4,87.3,99.6,99.6,109.5,89.6,109.5,99.6,109.5,89.6,49.7]}},\"id\":\"b30f9a8e-9d6f-4d8e-928e-bf610256629d\",\"type\":\"ColumnDataSource\"},{\"attributes\":{\"active_drag\":\"auto\",\"active_inspect\":\"auto\",\"active_scroll\":\"auto\",\"active_tap\":\"auto\",\"tools\":[{\"id\":\"4574ca24-b510-4e20-83c1-19cee52ca29c\",\"type\":\"SaveTool\"},{\"id\":\"53d60c0d-3f53-4295-aaab-c4d8bf3c3fa9\",\"type\":\"ResetTool\"},{\"id\":\"3e55dc30-35b0-4d9f-8bde-1561157bb2e8\",\"type\":\"WheelZoomTool\"},{\"id\":\"73fbf7f9-4be6-4392-8613-4f179b20ec8f\",\"type\":\"PanTool\"}]},\"id\":\"08313e31-7957-4171-a164-ca04f2035496\",\"type\":\"Toolbar\"},{\"attributes\":{},\"id\":\"a5933cd2-fcca-41d0-8488-1ad882a29649\",\"type\":\"SaveTool\"},{\"attributes\":{\"line_alpha\":0.1,\"line_color\":\"#1f77b4\",\"line_width\":4,\"x\":{\"field\":\"x\"},\"y\":{\"field\":\"y\"}},\"id\":\"168a5e67-12f2-4d71-8514-cc5fa48cd68d\",\"type\":\"Line\"},{\"attributes\":{\"label\":{\"value\":\"% CPU\"},\"renderers\":[{\"id\":\"900788bf-2b11-4321-8cde-be1baa0330da\",\"type\":\"GlyphRenderer\"}]},\"id\":\"b2085d89-2b70-4b64-8310-77a52406f815\",\"type\":\"LegendItem\"},{\"attributes\":{},\"id\":\"9652c75f-5588-482b-a484-60584dbad54e\",\"type\":\"BasicTicker\"},{\"attributes\":{},\"id\":\"88b5afc4-5692-470d-b824-bcea9920b26d\",\"type\":\"BasicTickFormatter\"},{\"attributes\":{},\"id\":\"7a0b30ae-7cdb-455b-8912-19643afb5c29\",\"type\":\"BasicTickFormatter\"},{\"attributes\":{\"data_source\":{\"id\":\"b30f9a8e-9d6f-4d8e-928e-bf610256629d\",\"type\":\"ColumnDataSource\"},\"glyph\":{\"id\":\"aa3a4f19-9d99-47de-bf1a-03cf729b0b63\",\"type\":\"Line\"},\"hover_glyph\":null,\"muted_glyph\":null,\"nonselection_glyph\":{\"id\":\"bdb5136f-ea20-43dd-bdd0-360cfd492941\",\"type\":\"Line\"},\"selection_glyph\":null,\"view\":{\"id\":\"bb0dfed8-177c-471b-af1b-45ab3107a32b\",\"type\":\"CDSView\"}},\"id\":\"900788bf-2b11-4321-8cde-be1baa0330da\",\"type\":\"GlyphRenderer\"},{\"attributes\":{\"axis_label\":\"Time (s)\",\"axis_line_color\":{\"value\":null},\"formatter\":{\"id\":\"abb4bb0f-2f99-48c5-8a50-263bee684ea9\",\"type\":\"BasicTickFormatter\"},\"major_tick_line_color\":{\"value\":null},\"plot\":{\"id\":\"0a0d1d56-f400-4824-be3d-9700d6d1db32\",\"subtype\":\"Figure\",\"type\":\"Plot\"},\"ticker\":{\"id\":\"905a2f04-1d14-4936-9438-b79021c34401\",\"type\":\"BasicTicker\"}},\"id\":\"1940c44d-5450-4a15-afb3-3c48916519a0\",\"type\":\"LinearAxis\"},{\"attributes\":{},\"id\":\"2da8b6c1-53d5-4390-81a5-aa29e999df1c\",\"type\":\"BasicTicker\"}],\"root_ids\":[\"2e1a05e8-7be7-4ddb-9a26-846e66ad4fa0\"]},\"title\":\"Bokeh Application\",\"version\":\"0.12.14\"}};\n",
       "  var render_items = [{\"docid\":\"76afc94b-8978-490f-a2e8-cab5b521c4b8\",\"elementid\":\"4ea10751-d8e8-4579-b07d-f2c66532183c\",\"modelid\":\"2e1a05e8-7be7-4ddb-9a26-846e66ad4fa0\"}];\n",
       "  root.Bokeh.embed.embed_items_notebook(docs_json, render_items);\n",
       "\n",
       "  }\n",
       "  if (root.Bokeh !== undefined) {\n",
       "    embed_document(root);\n",
       "  } else {\n",
       "    var attempts = 0;\n",
       "    var timer = setInterval(function(root) {\n",
       "      if (root.Bokeh !== undefined) {\n",
       "        embed_document(root);\n",
       "        clearInterval(timer);\n",
       "      }\n",
       "      attempts++;\n",
       "      if (attempts > 100) {\n",
       "        console.log(\"Bokeh: ERROR: Unable to run BokehJS code because BokehJS library is missing\")\n",
       "        clearInterval(timer);\n",
       "      }\n",
       "    }, 10, root)\n",
       "  }\n",
       "})(window);"
      ],
      "application/vnd.bokehjs_exec.v0+json": ""
     },
     "metadata": {
      "application/vnd.bokehjs_exec.v0+json": {
       "id": "2e1a05e8-7be7-4ddb-9a26-846e66ad4fa0"
      }
     },
     "output_type": "display_data"
    },
    {
     "data": {
      "text/html": [
       "<div style=\"display: table;\"><div style=\"display: table-row;\"><div style=\"display: table-cell;\"><b title=\"bokeh.models.layouts.Column\">Column</b>(</div><div style=\"display: table-cell;\">id&nbsp;=&nbsp;'2e1a05e8-7be7-4ddb-9a26-846e66ad4fa0', <span id=\"ff422e7d-5f5e-4677-9a21-81a100b5c70e\" style=\"cursor: pointer;\">&hellip;)</span></div></div><div class=\"2315c576-6d9a-4a35-9acd-237abc325ac8\" style=\"display: none;\"><div style=\"display: table-cell;\"></div><div style=\"display: table-cell;\">children&nbsp;=&nbsp;[ToolbarBox(id='ef59f3bb-8690-42ea-ac0c-3a349496e389', ...), Column(id='3c31335f-6b7d-4fc0-9601-085b0817fe37', ...)],</div></div><div class=\"2315c576-6d9a-4a35-9acd-237abc325ac8\" style=\"display: none;\"><div style=\"display: table-cell;\"></div><div style=\"display: table-cell;\">css_classes&nbsp;=&nbsp;[],</div></div><div class=\"2315c576-6d9a-4a35-9acd-237abc325ac8\" style=\"display: none;\"><div style=\"display: table-cell;\"></div><div style=\"display: table-cell;\">disabled&nbsp;=&nbsp;False,</div></div><div class=\"2315c576-6d9a-4a35-9acd-237abc325ac8\" style=\"display: none;\"><div style=\"display: table-cell;\"></div><div style=\"display: table-cell;\">height&nbsp;=&nbsp;None,</div></div><div class=\"2315c576-6d9a-4a35-9acd-237abc325ac8\" style=\"display: none;\"><div style=\"display: table-cell;\"></div><div style=\"display: table-cell;\">js_event_callbacks&nbsp;=&nbsp;{},</div></div><div class=\"2315c576-6d9a-4a35-9acd-237abc325ac8\" style=\"display: none;\"><div style=\"display: table-cell;\"></div><div style=\"display: table-cell;\">js_property_callbacks&nbsp;=&nbsp;{},</div></div><div class=\"2315c576-6d9a-4a35-9acd-237abc325ac8\" style=\"display: none;\"><div style=\"display: table-cell;\"></div><div style=\"display: table-cell;\">name&nbsp;=&nbsp;None,</div></div><div class=\"2315c576-6d9a-4a35-9acd-237abc325ac8\" style=\"display: none;\"><div style=\"display: table-cell;\"></div><div style=\"display: table-cell;\">sizing_mode&nbsp;=&nbsp;'fixed',</div></div><div class=\"2315c576-6d9a-4a35-9acd-237abc325ac8\" style=\"display: none;\"><div style=\"display: table-cell;\"></div><div style=\"display: table-cell;\">subscribed_events&nbsp;=&nbsp;[],</div></div><div class=\"2315c576-6d9a-4a35-9acd-237abc325ac8\" style=\"display: none;\"><div style=\"display: table-cell;\"></div><div style=\"display: table-cell;\">tags&nbsp;=&nbsp;[],</div></div><div class=\"2315c576-6d9a-4a35-9acd-237abc325ac8\" style=\"display: none;\"><div style=\"display: table-cell;\"></div><div style=\"display: table-cell;\">width&nbsp;=&nbsp;None)</div></div></div>\n",
       "<script>\n",
       "(function() {\n",
       "  var expanded = false;\n",
       "  var ellipsis = document.getElementById(\"ff422e7d-5f5e-4677-9a21-81a100b5c70e\");\n",
       "  ellipsis.addEventListener(\"click\", function() {\n",
       "    var rows = document.getElementsByClassName(\"2315c576-6d9a-4a35-9acd-237abc325ac8\");\n",
       "    for (var i = 0; i < rows.length; i++) {\n",
       "      var el = rows[i];\n",
       "      el.style.display = expanded ? \"none\" : \"table-row\";\n",
       "    }\n",
       "    ellipsis.innerHTML = expanded ? \"&hellip;)\" : \"&lsaquo;&lsaquo;&lsaquo;\";\n",
       "    expanded = !expanded;\n",
       "  });\n",
       "})();\n",
       "</script>\n"
      ],
      "text/plain": [
       "Column(id='2e1a05e8-7be7-4ddb-9a26-846e66ad4fa0', ...)"
      ]
     },
     "execution_count": 10,
     "metadata": {},
     "output_type": "execute_result"
    }
   ],
   "source": [
    "with dg.ProgressBar(), dg.ResourceProfiler(dt=0.1) as rprof, dg.Profiler() as prof:\n",
    "    dag = (\n",
    "        dd\n",
    "        .read_csv(datasets['train_1'], blocksize=10*MEGABYTES)\n",
    "        .sum()\n",
    "    )\n",
    "    \n",
    "    result = dag.compute()\n",
    "    \n",
    "dg.visualize([rprof, prof])"
   ]
  },
  {
   "cell_type": "code",
   "execution_count": 11,
   "metadata": {},
   "outputs": [
    {
     "data": {
      "text/plain": [
       "['Page', '2015-07-01', '2015-07-02', '2015-07-03', '2015-07-04']"
      ]
     },
     "execution_count": 11,
     "metadata": {},
     "output_type": "execute_result"
    }
   ],
   "source": [
    "headers = (\n",
    "    open(datasets['train_1'], 'r') # open file for reading\n",
    "    .readline()                    # get first line only\n",
    "    .strip()                       # remove trailing \\n\n",
    "    .replace('\"', '')              # removes quotes\n",
    "    .split(',')                    # casts string to list on ','\n",
    ")\n",
    "\n",
    "headers[:5]"
   ]
  },
  {
   "cell_type": "code",
   "execution_count": 12,
   "metadata": {},
   "outputs": [
    {
     "name": "stdout",
     "output_type": "stream",
     "text": [
      "[########################################] | 100% Completed | 11.4s\n"
     ]
    },
    {
     "data": {
      "text/html": [
       "\n",
       "<div class=\"bk-root\">\n",
       "    <div class=\"bk-plotdiv\" id=\"3f93c972-c421-4db5-8882-b8baa33beea3\"></div>\n",
       "</div>"
      ]
     },
     "metadata": {},
     "output_type": "display_data"
    },
    {
     "data": {
      "application/javascript": [
       "(function(root) {\n",
       "  function embed_document(root) {\n",
       "    \n",
       "  var docs_json = {\"34b990b8-d54b-407b-a521-f3802cb5d8f2\":{\"roots\":{\"references\":[{\"attributes\":{\"axis_label\":\"Time (s)\",\"axis_line_color\":{\"value\":null},\"formatter\":{\"id\":\"6fc5800a-9777-4c47-a0e0-be6aca49dcdb\",\"type\":\"BasicTickFormatter\"},\"major_tick_line_color\":{\"value\":null},\"plot\":{\"id\":\"b40abb72-088e-4b70-aa19-246d80a6ca42\",\"subtype\":\"Figure\",\"type\":\"Plot\"},\"ticker\":{\"id\":\"1ea7bab9-20a8-48a5-9bf4-33f383214704\",\"type\":\"BasicTicker\"}},\"id\":\"3da94886-8ceb-469f-ae4f-3e6e743e4a05\",\"type\":\"LinearAxis\"},{\"attributes\":{},\"id\":\"aa1793c8-abcc-4aba-ad6d-6913f98ebd39\",\"type\":\"BasicTicker\"},{\"attributes\":{\"grid_line_color\":{\"value\":null},\"plot\":{\"id\":\"b40abb72-088e-4b70-aa19-246d80a6ca42\",\"subtype\":\"Figure\",\"type\":\"Plot\"},\"ticker\":{\"id\":\"1ea7bab9-20a8-48a5-9bf4-33f383214704\",\"type\":\"BasicTicker\"}},\"id\":\"ab52057d-e65a-4b3e-b97d-86c9ffa49713\",\"type\":\"Grid\"},{\"attributes\":{},\"id\":\"73edb81b-c8f0-4fb3-891f-f065ccba001a\",\"type\":\"BasicTickFormatter\"},{\"attributes\":{\"axis_label\":\"% CPU\",\"formatter\":{\"id\":\"e0bbaf96-372a-4e38-8fc0-3b50e4e11193\",\"type\":\"BasicTickFormatter\"},\"plot\":{\"id\":\"92c45f54-c016-4a33-9a1d-fe3e4a460ab7\",\"subtype\":\"Figure\",\"type\":\"Plot\"},\"ticker\":{\"id\":\"0ee4d424-ef0f-4210-a113-c7abd4ba1047\",\"type\":\"BasicTicker\"}},\"id\":\"983c3b0b-7128-41d8-a0f0-0b7406d328d0\",\"type\":\"LinearAxis\"},{\"attributes\":{\"below\":[{\"id\":\"b8aa3dfb-6a9f-4ece-b5de-5eaf14a25626\",\"type\":\"LinearAxis\"}],\"extra_y_ranges\":{\"memory\":{\"id\":\"00255164-f274-49b8-b0ce-3ba7734940e8\",\"type\":\"Range1d\"}},\"left\":[{\"id\":\"983c3b0b-7128-41d8-a0f0-0b7406d328d0\",\"type\":\"LinearAxis\"}],\"min_border_bottom\":20,\"min_border_left\":75,\"min_border_right\":75,\"plot_height\":270,\"plot_width\":800,\"renderers\":[{\"id\":\"b8aa3dfb-6a9f-4ece-b5de-5eaf14a25626\",\"type\":\"LinearAxis\"},{\"id\":\"6b8f9445-4659-4002-9d8e-73569df4be8b\",\"type\":\"Grid\"},{\"id\":\"983c3b0b-7128-41d8-a0f0-0b7406d328d0\",\"type\":\"LinearAxis\"},{\"id\":\"a855eb8c-8fba-4fe3-bf18-c560945c09e8\",\"type\":\"Grid\"},{\"id\":\"d1cc6359-c97c-4f7f-8a70-99ce30ca087d\",\"type\":\"Legend\"},{\"id\":\"05ed6249-9431-4e29-af45-d41440441eb6\",\"type\":\"GlyphRenderer\"},{\"id\":\"a3f54fe5-8fed-42f7-a359-04acd08a4ee1\",\"type\":\"GlyphRenderer\"},{\"id\":\"1e4ffc1e-529b-43fb-8a2e-2f58aed6683c\",\"type\":\"LinearAxis\"}],\"right\":[{\"id\":\"1e4ffc1e-529b-43fb-8a2e-2f58aed6683c\",\"type\":\"LinearAxis\"}],\"title\":{\"id\":\"4731399b-2bfb-4c92-a5e8-fcfbdfe3171f\",\"type\":\"Title\"},\"toolbar\":{\"id\":\"67448e59-7ad9-44eb-97d5-0c995e508140\",\"type\":\"Toolbar\"},\"toolbar_location\":null,\"x_range\":{\"id\":\"d6a9094c-2067-4aa4-a003-b56e2ac09507\",\"type\":\"Range1d\"},\"x_scale\":{\"id\":\"5855ef7d-4ab8-461e-a1a7-ae5b6233a270\",\"type\":\"LinearScale\"},\"y_range\":{\"id\":\"8085c039-9609-41fa-b8c1-e1282ce96cd7\",\"type\":\"Range1d\"},\"y_scale\":{\"id\":\"19a0a52f-272b-4a0c-8d6a-4b5358f8c824\",\"type\":\"LinearScale\"}},\"id\":\"92c45f54-c016-4a33-9a1d-fe3e4a460ab7\",\"subtype\":\"Figure\",\"type\":\"Plot\"},{\"attributes\":{},\"id\":\"10ad8a97-1a29-47fc-b3ab-07be1610a22f\",\"type\":\"LinearScale\"},{\"attributes\":{},\"id\":\"15361b2f-1665-4f3b-8318-aa9cfa616dc9\",\"type\":\"CategoricalScale\"},{\"attributes\":{},\"id\":\"67523149-e42c-436f-af00-7f4c143614f6\",\"type\":\"SaveTool\"},{\"attributes\":{\"plot\":null,\"text\":\"Profile Results\"},\"id\":\"4731399b-2bfb-4c92-a5e8-fcfbdfe3171f\",\"type\":\"Title\"},{\"attributes\":{\"callback\":null,\"factors\":[\"0\",\"1\",\"2\",\"3\"]},\"id\":\"5887489a-9213-480c-a415-7d56a9ab43dc\",\"type\":\"FactorRange\"},{\"attributes\":{},\"id\":\"302077ca-f2a2-4443-885f-7d3216f6df68\",\"type\":\"SaveTool\"},{\"attributes\":{\"callback\":null,\"column_names\":[\"x\",\"y\"],\"data\":{\"x\":[0.0,0.10061429299821611,0.20913303800625727,0.3106349890003912,0.41133637800521683,0.5120665559952613,0.6131989270070335,0.7140618279954651,0.8147461019980256,0.9154259350034408,1.0161142720025964,1.1176924360042904,1.218379897007253,1.3190772469970398,1.419754845002899,1.5204017460055184,1.6210631650028517,1.7217591759981588,1.8224383939959807,1.9231042339961277,2.0237939299986465,2.1244332530040992,2.2250883990054717,2.325801038008649,2.426544528003433,2.5272479330014903,2.6279300400055945,2.728619779998553,2.8292783700017026,2.92999897399568,3.030667134007672,3.1313243080076063,3.232029571008752,3.3327591819979716,3.4356688130064867,3.5363041249947855,3.6369798320083646,3.7385730060050264,3.8392678210075246,3.939984666008968,4.040672311995877,4.141395990009187,4.242154895007843,4.342961346002994,4.444014886001241,4.544752810004866,4.645502651997958,4.746274557008292,4.847038692998467,4.947823876995244,5.048637756000971,5.149411881997366,5.25049726900761,5.3512411679985235,5.452024551006616,5.552814787006355,5.65350961900549,5.754262832997483,5.855027979006991,5.956416453002021,6.057517583001754,6.158791770008975,6.259596250005416,6.360339342994848,6.461090969998622,6.561867379001342,6.662623053998686,6.763374835005379,6.864122911007144,6.96489892200043,7.0656521409982815,7.166450164004345,7.267186691999086,7.367917220995878,7.468670164002106,7.569457218996831,7.670211992008262,7.770946083008312,7.871704397999565,7.9724317920045,8.073192095995182,8.17394842900103,8.274885139006074,8.375619737998932,8.476405941008125,8.577187336995848,8.677947543008486,8.778696972003672,8.8794519110088,8.980192618997535,9.080919227999402,9.181689799996093,9.282453820997034,9.38321125600487,9.483937876007985,9.58465694199549,9.685376366003766,9.786101884004893,9.887066217997926,9.987880139000481,10.089402234007139,10.191271239003981,10.292039848995046,10.392794315004721,10.49350963899633,10.594270914007211,10.695033158001024,10.795778412008076,10.896532355007366,10.997260785006802,11.098024506994989,11.198802138998872,11.299364467005944,11.399973015999421,11.50064690799627],\"y\":[3830.980608,3831.291904,11445.334016,11445.334016,11448.233984,11449.524224,11449.524224,11449.524224,11449.524224,11449.524224,11449.524224,11449.524224,11449.524224,11449.524224,11449.524224,11449.524224,11450.822656,11450.822656,11450.822656,11450.822656,11451.150336,11451.478016,11451.805696,11451.805696,11451.805696,11451.805696,11451.805696,11451.805696,11451.805696,11451.805696,11451.805696,11451.805696,11451.805696,11451.805696,11451.805696,11451.805696,11451.805696,11451.805696,11451.805696,11451.805696,11451.805696,11451.805696,11451.805696,11451.805696,11451.805696,11451.805696,11451.805696,11451.805696,11451.805696,11451.805696,11451.805696,11451.805696,11451.805696,11451.805696,11451.805696,11451.805696,11451.805696,11451.805696,11451.805696,11451.805696,11451.805696,11451.805696,11451.805696,11451.805696,11451.805696,11451.805696,11451.805696,11451.805696,11451.805696,11451.805696,11451.805696,11451.805696,11451.805696,11451.805696,11451.805696,11451.805696,11451.805696,11451.805696,11451.805696,11451.805696,11451.805696,11451.805696,11451.805696,11451.805696,11451.805696,11451.805696,11451.805696,11451.805696,11451.805696,11451.805696,11451.805696,11451.805696,11451.805696,11451.805696,11451.805696,11451.805696,11451.805696,11451.805696,11451.805696,11451.805696,11451.805696,11451.805696,11451.805696,11451.805696,11451.805696,11451.805696,11451.805696,11451.805696,11451.805696,11451.805696,11451.805696,11451.805696,11451.805696,11451.805696,11451.805696]}},\"id\":\"8d35ad2c-4c88-49b3-8800-f6ae88a62a9e\",\"type\":\"ColumnDataSource\"},{\"attributes\":{\"data_source\":{\"id\":\"da3ceab4-e6a6-4120-ac2c-d0cb6374244b\",\"type\":\"ColumnDataSource\"},\"glyph\":{\"id\":\"392cd0d6-53ed-4f40-9a12-ae3a7a640887\",\"type\":\"Line\"},\"hover_glyph\":null,\"muted_glyph\":null,\"nonselection_glyph\":{\"id\":\"53ff1fbd-3d03-4a77-8776-b02c649878cc\",\"type\":\"Line\"},\"selection_glyph\":null,\"view\":{\"id\":\"a6401d9a-cb5c-402b-bbe0-7c17b74948dc\",\"type\":\"CDSView\"}},\"id\":\"05ed6249-9431-4e29-af45-d41440441eb6\",\"type\":\"GlyphRenderer\"},{\"attributes\":{\"active_drag\":\"auto\",\"active_inspect\":\"auto\",\"active_scroll\":\"auto\",\"active_tap\":\"auto\",\"tools\":[{\"id\":\"42a3f38f-6495-49b3-8371-5ec3ec4eb391\",\"type\":\"HoverTool\"},{\"id\":\"67523149-e42c-436f-af00-7f4c143614f6\",\"type\":\"SaveTool\"},{\"id\":\"5a8447b7-7220-45b8-b499-b2b7a1ca12e8\",\"type\":\"ResetTool\"},{\"id\":\"905f0f45-2e0f-4547-9930-dc36e2f59fa4\",\"type\":\"WheelZoomTool\"},{\"id\":\"4226390c-1164-4911-8300-3299818216bc\",\"type\":\"PanTool\"}]},\"id\":\"beffa325-10f3-4030-8a8a-b500a87cef76\",\"type\":\"Toolbar\"},{\"attributes\":{},\"id\":\"5a8447b7-7220-45b8-b499-b2b7a1ca12e8\",\"type\":\"ResetTool\"},{\"attributes\":{\"active_drag\":\"auto\",\"active_inspect\":\"auto\",\"active_scroll\":\"auto\",\"active_tap\":\"auto\",\"tools\":[{\"id\":\"302077ca-f2a2-4443-885f-7d3216f6df68\",\"type\":\"SaveTool\"},{\"id\":\"339a4794-05e7-4ba3-8a22-589d2dec6539\",\"type\":\"ResetTool\"},{\"id\":\"15f57802-1bb7-4327-9a7f-3502f2350128\",\"type\":\"WheelZoomTool\"},{\"id\":\"7dc19e57-9dc3-4517-a50c-c698d38b7a69\",\"type\":\"PanTool\"}]},\"id\":\"67448e59-7ad9-44eb-97d5-0c995e508140\",\"type\":\"Toolbar\"},{\"attributes\":{\"callback\":null,\"point_policy\":\"follow_mouse\",\"tooltips\":\"\\n    <div>\\n        <span style=\\\"font-size: 14px; font-weight: bold;\\\">Key:</span>&nbsp;\\n        <span style=\\\"font-size: 10px; font-family: Monaco, monospace;\\\">@key</span>\\n    </div>\\n    <div>\\n        <span style=\\\"font-size: 14px; font-weight: bold;\\\">Task:</span>&nbsp;\\n        <span style=\\\"font-size: 10px; font-family: Monaco, monospace;\\\">@function</span>\\n    </div>\\n    \"},\"id\":\"42a3f38f-6495-49b3-8371-5ec3ec4eb391\",\"type\":\"HoverTool\"},{\"attributes\":{},\"id\":\"7b85c835-c5e8-4fdf-9b32-5d22510cc397\",\"type\":\"CategoricalTicker\"},{\"attributes\":{},\"id\":\"339a4794-05e7-4ba3-8a22-589d2dec6539\",\"type\":\"ResetTool\"},{\"attributes\":{\"axis_label\":\"Worker ID\",\"axis_line_color\":{\"value\":null},\"formatter\":{\"id\":\"dee2383d-7f81-45fa-a8ba-5fcb7b9c19aa\",\"type\":\"CategoricalTickFormatter\"},\"major_tick_line_color\":{\"value\":null},\"plot\":{\"id\":\"b40abb72-088e-4b70-aa19-246d80a6ca42\",\"subtype\":\"Figure\",\"type\":\"Plot\"},\"ticker\":{\"id\":\"7b85c835-c5e8-4fdf-9b32-5d22510cc397\",\"type\":\"CategoricalTicker\"}},\"id\":\"09f17bb1-fc7e-43e1-867c-53253ab8d5e9\",\"type\":\"CategoricalAxis\"},{\"attributes\":{\"dimension\":1,\"plot\":{\"id\":\"92c45f54-c016-4a33-9a1d-fe3e4a460ab7\",\"subtype\":\"Figure\",\"type\":\"Plot\"},\"ticker\":{\"id\":\"0ee4d424-ef0f-4210-a113-c7abd4ba1047\",\"type\":\"BasicTicker\"}},\"id\":\"a855eb8c-8fba-4fe3-bf18-c560945c09e8\",\"type\":\"Grid\"},{\"attributes\":{},\"id\":\"1ea7bab9-20a8-48a5-9bf4-33f383214704\",\"type\":\"BasicTicker\"},{\"attributes\":{\"axis_label\":null,\"formatter\":{\"id\":\"73edb81b-c8f0-4fb3-891f-f065ccba001a\",\"type\":\"BasicTickFormatter\"},\"plot\":{\"id\":\"92c45f54-c016-4a33-9a1d-fe3e4a460ab7\",\"subtype\":\"Figure\",\"type\":\"Plot\"},\"ticker\":{\"id\":\"aa1793c8-abcc-4aba-ad6d-6913f98ebd39\",\"type\":\"BasicTicker\"}},\"id\":\"b8aa3dfb-6a9f-4ece-b5de-5eaf14a25626\",\"type\":\"LinearAxis\"},{\"attributes\":{\"callback\":null,\"column_names\":[\"width\",\"x\",\"y\",\"function\",\"color\",\"key\"],\"data\":{\"color\":[\"#FDE724\",\"#FDE724\",\"#FDE724\",\"#FDE724\",\"#440154\",\"#FDE724\",\"#440154\",\"#FDE724\",\"#440154\",\"#FDE724\",\"#440154\",\"#FDE724\",\"#440154\",\"#FDE724\",\"#440154\",\"#FDE724\",\"#440154\",\"#FDE724\",\"#440154\",\"#30678D\",\"#FDE724\",\"#440154\",\"#FDE724\",\"#440154\",\"#FDE724\",\"#440154\",\"#FDE724\",\"#440154\",\"#FDE724\",\"#440154\",\"#440154\",\"#FDE724\",\"#FDE724\",\"#440154\",\"#FDE724\",\"#440154\",\"#30678D\",\"#FDE724\",\"#440154\",\"#FDE724\",\"#440154\",\"#FDE724\",\"#440154\",\"#FDE724\",\"#440154\",\"#FDE724\",\"#440154\",\"#FDE724\",\"#440154\",\"#FDE724\",\"#440154\",\"#FDE724\",\"#440154\",\"#440154\",\"#30678D\",\"#440154\",\"#440154\",\"#35B778\",\"#30678D\"],\"function\":[\"empty_safe_apply(*, map_chunk(...), *)\",\"empty_safe_apply(*, map_chunk(...), *)\",\"empty_safe_apply(*, map_chunk(...), *)\",\"empty_safe_apply(*, map_chunk(...), *)\",\"_\",\"empty_safe_apply(*, map_chunk(...), *)\",\"_\",\"empty_safe_apply(*, map_chunk(...), *)\",\"_\",\"empty_safe_apply(*, map_chunk(...), *)\",\"_\",\"empty_safe_apply(*, map_chunk(...), *)\",\"_\",\"empty_safe_apply(*, map_chunk(...), *)\",\"_\",\"empty_safe_apply(*, map_chunk(...), *)\",\"_\",\"empty_safe_apply(*, map_chunk(...), *)\",\"_\",\"empty_safe_aggregate(*, [_, _, _, ...], *)\",\"empty_safe_apply(*, map_chunk(...), *)\",\"_\",\"empty_safe_apply(*, map_chunk(...), *)\",\"_\",\"empty_safe_apply(*, map_chunk(...), *)\",\"_\",\"empty_safe_apply(*, map_chunk(...), *)\",\"_\",\"empty_safe_apply(*, map_chunk(...), *)\",\"_\",\"_\",\"empty_safe_apply(*, map_chunk(...), *)\",\"empty_safe_apply(*, map_chunk(...), *)\",\"_\",\"empty_safe_apply(*, map_chunk(...), *)\",\"_\",\"empty_safe_aggregate(*, [_, _, _, ...], *)\",\"empty_safe_apply(*, map_chunk(...), *)\",\"_\",\"empty_safe_apply(*, map_chunk(...), *)\",\"_\",\"empty_safe_apply(*, map_chunk(...), *)\",\"_\",\"empty_safe_apply(*, map_chunk(...), *)\",\"_\",\"empty_safe_apply(*, map_chunk(...), *)\",\"_\",\"empty_safe_apply(*, map_chunk(...), *)\",\"_\",\"empty_safe_apply(*, map_chunk(...), *)\",\"_\",\"empty_safe_apply(*, map_chunk(...), *)\",\"_\",\"_\",\"empty_safe_aggregate(*, [_, _, _, ...], *)\",\"_\",\"_\",\"empty_safe_aggregate(*, [_, _, _], *)\",\"empty_safe_aggregate(*, [_, _, _, ...], *)\"],\"key\":[\"('bag-from-delayed-decode-filter-lambda-map-lambda-map-split-map-strip-read-block-sum-part-sum-part-5a8b6e96eda91d919bb79f78c177fa66', 23)\",\"('bag-from-delayed-decode-filter-lambda-map-lambda-map-split-map-strip-read-block-sum-part-sum-part-5a8b6e96eda91d919bb79f78c177fa66', 22)\",\"('bag-from-delayed-decode-filter-lambda-map-lambda-map-split-map-strip-read-block-sum-part-sum-part-5a8b6e96eda91d919bb79f78c177fa66', 21)\",\"('bag-from-delayed-decode-filter-lambda-map-lambda-map-split-map-strip-read-block-sum-part-sum-part-5a8b6e96eda91d919bb79f78c177fa66', 20)\",\"('sum-part-5a8b6e96eda91d919bb79f78c177fa66', 22)\",\"('bag-from-delayed-decode-filter-lambda-map-lambda-map-split-map-strip-read-block-sum-part-sum-part-5a8b6e96eda91d919bb79f78c177fa66', 19)\",\"('sum-part-5a8b6e96eda91d919bb79f78c177fa66', 21)\",\"('bag-from-delayed-decode-filter-lambda-map-lambda-map-split-map-strip-read-block-sum-part-sum-part-5a8b6e96eda91d919bb79f78c177fa66', 18)\",\"('sum-part-5a8b6e96eda91d919bb79f78c177fa66', 23)\",\"('bag-from-delayed-decode-filter-lambda-map-lambda-map-split-map-strip-read-block-sum-part-sum-part-5a8b6e96eda91d919bb79f78c177fa66', 17)\",\"('sum-part-5a8b6e96eda91d919bb79f78c177fa66', 20)\",\"('bag-from-delayed-decode-filter-lambda-map-lambda-map-split-map-strip-read-block-sum-part-sum-part-5a8b6e96eda91d919bb79f78c177fa66', 16)\",\"('sum-part-5a8b6e96eda91d919bb79f78c177fa66', 19)\",\"('bag-from-delayed-decode-filter-lambda-map-lambda-map-split-map-strip-read-block-sum-part-sum-part-5a8b6e96eda91d919bb79f78c177fa66', 15)\",\"('sum-part-5a8b6e96eda91d919bb79f78c177fa66', 17)\",\"('bag-from-delayed-decode-filter-lambda-map-lambda-map-split-map-strip-read-block-sum-part-sum-part-5a8b6e96eda91d919bb79f78c177fa66', 14)\",\"('sum-part-5a8b6e96eda91d919bb79f78c177fa66', 18)\",\"('bag-from-delayed-decode-filter-lambda-map-lambda-map-split-map-strip-read-block-sum-part-sum-part-5a8b6e96eda91d919bb79f78c177fa66', 13)\",\"('sum-part-5a8b6e96eda91d919bb79f78c177fa66', 16)\",\"('sum-aggregate-5a8b6e96eda91d919bb79f78c177fa660', 2)\",\"('bag-from-delayed-decode-filter-lambda-map-lambda-map-split-map-strip-read-block-sum-part-sum-part-5a8b6e96eda91d919bb79f78c177fa66', 12)\",\"('sum-part-5a8b6e96eda91d919bb79f78c177fa66', 15)\",\"('bag-from-delayed-decode-filter-lambda-map-lambda-map-split-map-strip-read-block-sum-part-sum-part-5a8b6e96eda91d919bb79f78c177fa66', 11)\",\"('sum-part-5a8b6e96eda91d919bb79f78c177fa66', 13)\",\"('bag-from-delayed-decode-filter-lambda-map-lambda-map-split-map-strip-read-block-sum-part-sum-part-5a8b6e96eda91d919bb79f78c177fa66', 10)\",\"('sum-part-5a8b6e96eda91d919bb79f78c177fa66', 14)\",\"('bag-from-delayed-decode-filter-lambda-map-lambda-map-split-map-strip-read-block-sum-part-sum-part-5a8b6e96eda91d919bb79f78c177fa66', 9)\",\"('sum-part-5a8b6e96eda91d919bb79f78c177fa66', 12)\",\"('bag-from-delayed-decode-filter-lambda-map-lambda-map-split-map-strip-read-block-sum-part-sum-part-5a8b6e96eda91d919bb79f78c177fa66', 8)\",\"('sum-part-5a8b6e96eda91d919bb79f78c177fa66', 10)\",\"('sum-part-5a8b6e96eda91d919bb79f78c177fa66', 9)\",\"('bag-from-delayed-decode-filter-lambda-map-lambda-map-split-map-strip-read-block-sum-part-sum-part-5a8b6e96eda91d919bb79f78c177fa66', 7)\",\"('bag-from-delayed-decode-filter-lambda-map-lambda-map-split-map-strip-read-block-sum-part-sum-part-5a8b6e96eda91d919bb79f78c177fa66', 6)\",\"('sum-part-5a8b6e96eda91d919bb79f78c177fa66', 11)\",\"('bag-from-delayed-decode-filter-lambda-map-lambda-map-split-map-strip-read-block-sum-part-sum-part-5a8b6e96eda91d919bb79f78c177fa66', 5)\",\"('sum-part-5a8b6e96eda91d919bb79f78c177fa66', 8)\",\"('sum-aggregate-5a8b6e96eda91d919bb79f78c177fa660', 1)\",\"('bag-from-delayed-decode-filter-lambda-map-lambda-map-split-map-strip-read-block-sum-part-sum-part-5a8b6e96eda91d919bb79f78c177fa66', 4)\",\"('sum-part-5a8b6e96eda91d919bb79f78c177fa66', 7)\",\"('bag-from-delayed-decode-filter-lambda-map-lambda-map-split-map-strip-read-block-sum-part-sum-part-5a8b6e96eda91d919bb79f78c177fa66', 3)\",\"('sum-part-5a8b6e96eda91d919bb79f78c177fa66', 6)\",\"('bag-from-delayed-decode-filter-lambda-map-lambda-map-split-map-strip-read-block-sum-part-sum-part-5a8b6e96eda91d919bb79f78c177fa66', 2)\",\"('sum-part-5a8b6e96eda91d919bb79f78c177fa66', 5)\",\"('bag-from-delayed-decode-filter-lambda-map-lambda-map-split-map-strip-read-block-sum-part-sum-part-5a8b6e96eda91d919bb79f78c177fa66', 1)\",\"('sum-part-5a8b6e96eda91d919bb79f78c177fa66', 4)\",\"('bag-from-delayed-decode-filter-lambda-map-lambda-map-split-map-strip-read-block-sum-part-sum-part-5a8b6e96eda91d919bb79f78c177fa66', 0)\",\"('sum-part-5a8b6e96eda91d919bb79f78c177fa66', 1)\",\"('bag-from-delayed-decode-filter-lambda-map-lambda-map-split-map-strip-read-block-sum-part-sum-part-5a8b6e96eda91d919bb79f78c177fa66', 26)\",\"('sum-part-5a8b6e96eda91d919bb79f78c177fa66', 2)\",\"('bag-from-delayed-decode-filter-lambda-map-lambda-map-split-map-strip-read-block-sum-part-sum-part-5a8b6e96eda91d919bb79f78c177fa66', 25)\",\"('sum-part-5a8b6e96eda91d919bb79f78c177fa66', 3)\",\"('bag-from-delayed-decode-filter-lambda-map-lambda-map-split-map-strip-read-block-sum-part-sum-part-5a8b6e96eda91d919bb79f78c177fa66', 24)\",\"('sum-part-5a8b6e96eda91d919bb79f78c177fa66', 26)\",\"('sum-part-5a8b6e96eda91d919bb79f78c177fa66', 0)\",\"('sum-aggregate-5a8b6e96eda91d919bb79f78c177fa660', 0)\",\"('sum-part-5a8b6e96eda91d919bb79f78c177fa66', 25)\",\"('sum-part-5a8b6e96eda91d919bb79f78c177fa66', 24)\",\"('sum-aggregate-5a8b6e96eda91d919bb79f78c177fa660', 3)\",\"sum-aggregate-5a8b6e96eda91d919bb79f78c177fa66\"],\"width\":[1.933916097987094,1.435686461001751,1.829622115008533,2.0100490350014297,0.0011108300095656887,1.3134454489918426,0.0010559649963397533,1.2613259030040354,0.0010742879967438057,1.1074948150053388,0.0010869669931707904,1.2591250750119798,0.0010010039986809716,1.5122648479882628,0.001573478992213495,1.4124145450041397,0.006275020990869962,1.2193807220028248,0.0010820650059031323,0.002087760003632866,1.472238293994451,0.001189882998005487,1.9193349209963344,0.0011590110079851002,1.6507069729996147,0.0011676480062305927,1.5298161980026634,0.010143993000383489,2.318310767004732,0.0017417269991710782,0.007786377012962475,1.526996754007996,1.737025864989846,0.0011818999919341877,1.5479557609942276,0.001224425999680534,0.005187678005313501,1.5296755260060309,0.0014379639906110242,2.185245644999668,0.0013660940021509305,1.8454217569960747,0.001414154001395218,1.5254979729943443,0.001222645994857885,2.18381264799973,0.0012951440003234893,1.2826493270113133,0.006584665999980643,1.4268440269952407,0.001227497006766498,1.6590272719913628,0.0011480769899208099,0.0012688660062849522,0.002356130993575789,0.0009522890031803399,0.000945643987506628,0.0010872080019908026,0.0010367419890826568],\"x\":[0.966958048986271,0.724371237505693,0.9317793344962411,1.034756135486532,1.4427759549871553,2.1000584854918998,1.8471242804953363,2.478319255489623,1.9344591319968458,2.488748158502858,2.0403297414886765,2.670439871493727,2.757287427986739,3.5139251539949328,3.0432890284864698,3.7502935534866992,3.1121289985021576,3.7249631219892763,3.300550141488202,3.3021393439848907,4.039307058992563,4.270658851484768,5.230926337491837,4.335239147490938,5.16117722549825,4.457091274991399,5.222588120988803,4.780504804482916,5.944740194492624,5.9874086984928,5.991395430493867,6.751783813000657,6.8638095794885885,6.191191905003507,6.965766079491004,7.104514456994366,7.1077257029974135,7.875166649988387,7.516008023987524,8.609355755499564,7.733012649987359,8.656411993491929,7.740456750994781,8.503920053495676,8.640622092003468,9.733145559992408,9.267323116990156,9.90930116949312,9.582422551990021,10.299145141500048,9.702598980496987,10.532731746992795,10.551206491494668,10.825692917991546,10.827510300499853,11.0130479704967,11.362722980993567,11.363742602989078,11.364808474987512],\"y\":[2,4,3,1,4,4,3,3,2,2,1,1,4,4,2,2,3,3,1,1,1,4,4,3,3,2,2,1,1,3,2,2,3,4,4,1,1,1,2,2,3,3,4,4,1,1,4,4,3,3,2,2,4,4,4,4,1,3,4]}},\"id\":\"c0fbfeeb-6729-4993-ac6d-9bdb0825cd47\",\"type\":\"ColumnDataSource\"},{\"attributes\":{\"callback\":null,\"end\":11.50064690799627},\"id\":\"d6a9094c-2067-4aa4-a003-b56e2ac09507\",\"type\":\"Range1d\"},{\"attributes\":{\"dimension\":1,\"grid_line_color\":{\"value\":null},\"plot\":{\"id\":\"b40abb72-088e-4b70-aa19-246d80a6ca42\",\"subtype\":\"Figure\",\"type\":\"Plot\"},\"ticker\":{\"id\":\"7b85c835-c5e8-4fdf-9b32-5d22510cc397\",\"type\":\"CategoricalTicker\"}},\"id\":\"175098eb-d71b-490c-ad24-9fa729da71ec\",\"type\":\"Grid\"},{\"attributes\":{},\"id\":\"997ee80f-a839-4699-bf11-8103d95c0de2\",\"type\":\"BasicTicker\"},{\"attributes\":{\"below\":[{\"id\":\"3da94886-8ceb-469f-ae4f-3e6e743e4a05\",\"type\":\"LinearAxis\"}],\"left\":[{\"id\":\"09f17bb1-fc7e-43e1-867c-53253ab8d5e9\",\"type\":\"CategoricalAxis\"}],\"min_border_left\":75,\"min_border_right\":75,\"min_border_top\":20,\"plot_height\":270,\"plot_width\":800,\"renderers\":[{\"id\":\"3da94886-8ceb-469f-ae4f-3e6e743e4a05\",\"type\":\"LinearAxis\"},{\"id\":\"ab52057d-e65a-4b3e-b97d-86c9ffa49713\",\"type\":\"Grid\"},{\"id\":\"09f17bb1-fc7e-43e1-867c-53253ab8d5e9\",\"type\":\"CategoricalAxis\"},{\"id\":\"175098eb-d71b-490c-ad24-9fa729da71ec\",\"type\":\"Grid\"},{\"id\":\"8361fc7f-fa53-4ce8-9f95-f8c09b83b11a\",\"type\":\"GlyphRenderer\"}],\"title\":null,\"toolbar\":{\"id\":\"beffa325-10f3-4030-8a8a-b500a87cef76\",\"type\":\"Toolbar\"},\"toolbar_location\":null,\"x_range\":{\"id\":\"d6a9094c-2067-4aa4-a003-b56e2ac09507\",\"type\":\"Range1d\"},\"x_scale\":{\"id\":\"10ad8a97-1a29-47fc-b3ab-07be1610a22f\",\"type\":\"LinearScale\"},\"y_range\":{\"id\":\"5887489a-9213-480c-a415-7d56a9ab43dc\",\"type\":\"FactorRange\"},\"y_scale\":{\"id\":\"15361b2f-1665-4f3b-8318-aa9cfa616dc9\",\"type\":\"CategoricalScale\"}},\"id\":\"b40abb72-088e-4b70-aa19-246d80a6ca42\",\"subtype\":\"Figure\",\"type\":\"Plot\"},{\"attributes\":{\"source\":{\"id\":\"da3ceab4-e6a6-4120-ac2c-d0cb6374244b\",\"type\":\"ColumnDataSource\"}},\"id\":\"a6401d9a-cb5c-402b-bbe0-7c17b74948dc\",\"type\":\"CDSView\"},{\"attributes\":{\"toolbar\":{\"id\":\"166af716-6403-4c6c-ac21-736340620ea3\",\"type\":\"ProxyToolbar\"},\"toolbar_location\":\"above\"},\"id\":\"dc980082-9f6b-4e75-8d9d-d913659a92c0\",\"type\":\"ToolbarBox\"},{\"attributes\":{\"plot\":{\"id\":\"92c45f54-c016-4a33-9a1d-fe3e4a460ab7\",\"subtype\":\"Figure\",\"type\":\"Plot\"},\"ticker\":{\"id\":\"aa1793c8-abcc-4aba-ad6d-6913f98ebd39\",\"type\":\"BasicTicker\"}},\"id\":\"6b8f9445-4659-4002-9d8e-73569df4be8b\",\"type\":\"Grid\"},{\"attributes\":{\"children\":[{\"id\":\"b40abb72-088e-4b70-aa19-246d80a6ca42\",\"subtype\":\"Figure\",\"type\":\"Plot\"}]},\"id\":\"273ce390-44aa-49d7-ae2b-003233a33549\",\"type\":\"Row\"},{\"attributes\":{\"children\":[{\"id\":\"0bca700b-214f-49d9-aadb-66e2d6a3bce2\",\"type\":\"Row\"},{\"id\":\"273ce390-44aa-49d7-ae2b-003233a33549\",\"type\":\"Row\"}]},\"id\":\"8f4a1a50-044c-46d2-a9c9-80735f22bf13\",\"type\":\"Column\"},{\"attributes\":{\"callback\":null,\"column_names\":[\"x\",\"y\"],\"data\":{\"x\":[0.0,0.10061429299821611,0.20913303800625727,0.3106349890003912,0.41133637800521683,0.5120665559952613,0.6131989270070335,0.7140618279954651,0.8147461019980256,0.9154259350034408,1.0161142720025964,1.1176924360042904,1.218379897007253,1.3190772469970398,1.419754845002899,1.5204017460055184,1.6210631650028517,1.7217591759981588,1.8224383939959807,1.9231042339961277,2.0237939299986465,2.1244332530040992,2.2250883990054717,2.325801038008649,2.426544528003433,2.5272479330014903,2.6279300400055945,2.728619779998553,2.8292783700017026,2.92999897399568,3.030667134007672,3.1313243080076063,3.232029571008752,3.3327591819979716,3.4356688130064867,3.5363041249947855,3.6369798320083646,3.7385730060050264,3.8392678210075246,3.939984666008968,4.040672311995877,4.141395990009187,4.242154895007843,4.342961346002994,4.444014886001241,4.544752810004866,4.645502651997958,4.746274557008292,4.847038692998467,4.947823876995244,5.048637756000971,5.149411881997366,5.25049726900761,5.3512411679985235,5.452024551006616,5.552814787006355,5.65350961900549,5.754262832997483,5.855027979006991,5.956416453002021,6.057517583001754,6.158791770008975,6.259596250005416,6.360339342994848,6.461090969998622,6.561867379001342,6.662623053998686,6.763374835005379,6.864122911007144,6.96489892200043,7.0656521409982815,7.166450164004345,7.267186691999086,7.367917220995878,7.468670164002106,7.569457218996831,7.670211992008262,7.770946083008312,7.871704397999565,7.9724317920045,8.073192095995182,8.17394842900103,8.274885139006074,8.375619737998932,8.476405941008125,8.577187336995848,8.677947543008486,8.778696972003672,8.8794519110088,8.980192618997535,9.080919227999402,9.181689799996093,9.282453820997034,9.38321125600487,9.483937876007985,9.58465694199549,9.685376366003766,9.786101884004893,9.887066217997926,9.987880139000481,10.089402234007139,10.191271239003981,10.292039848995046,10.392794315004721,10.49350963899633,10.594270914007211,10.695033158001024,10.795778412008076,10.896532355007366,10.997260785006802,11.098024506994989,11.198802138998872,11.299364467005944,11.399973015999421,11.50064690799627],\"y\":[0.0,109.30000000000001,36.9,167.8,268.2,238.0,217.4,337.4,317.80000000000007,347.6,367.5,354.40000000000003,367.4,347.5,347.70000000000005,377.40000000000003,377.40000000000003,367.5,397.2,357.5,387.4,387.4,357.70000000000005,387.2,377.09999999999997,298.0,357.6,377.40000000000003,377.4,387.3,377.5,367.5,357.5,367.4,359.7,407.1,376.6,384.6,377.4,367.5,397.20000000000005,357.2,397.0,376.1,367.1,377.2,367.20000000000005,386.90000000000003,377.0,307.6,307.5,316.8,307.3,347.29999999999995,386.9,357.2,337.6,377.2,367.1,345.2,306.5,276.4,307.7,367.1,377.1,377.09999999999997,367.2,367.2,387.2,367.1,367.3,307.5,307.70000000000005,317.6,377.1,386.90000000000003,367.2,397.09999999999997,377.29999999999995,377.2,377.0,366.90000000000003,386.7,367.1,377.0,377.0,297.7,228.2,238.3,327.5,277.9,248.0,238.20000000000002,317.6,367.40000000000003,367.5,367.5,357.2,277.2,206.9,186.7,247.89999999999998,188.5,277.9,377.4,377.0,347.30000000000007,287.9,277.9,248.2,208.5,139.0,99.4,109.30000000000001,89.2]}},\"id\":\"da3ceab4-e6a6-4120-ac2c-d0cb6374244b\",\"type\":\"ColumnDataSource\"},{\"attributes\":{\"children\":[{\"id\":\"92c45f54-c016-4a33-9a1d-fe3e4a460ab7\",\"subtype\":\"Figure\",\"type\":\"Plot\"}]},\"id\":\"0bca700b-214f-49d9-aadb-66e2d6a3bce2\",\"type\":\"Row\"},{\"attributes\":{\"data_source\":{\"id\":\"8d35ad2c-4c88-49b3-8800-f6ae88a62a9e\",\"type\":\"ColumnDataSource\"},\"glyph\":{\"id\":\"8c739f17-c8a1-4c0d-b51a-66a47d89909f\",\"type\":\"Line\"},\"hover_glyph\":null,\"muted_glyph\":null,\"nonselection_glyph\":{\"id\":\"39144b0b-cf22-4b2b-82ad-62b43f450a45\",\"type\":\"Line\"},\"selection_glyph\":null,\"view\":{\"id\":\"f0572d02-5fde-43e6-865e-865dbbbd551f\",\"type\":\"CDSView\"},\"y_range_name\":\"memory\"},\"id\":\"a3f54fe5-8fed-42f7-a359-04acd08a4ee1\",\"type\":\"GlyphRenderer\"},{\"attributes\":{},\"id\":\"0ee4d424-ef0f-4210-a113-c7abd4ba1047\",\"type\":\"BasicTicker\"},{\"attributes\":{\"items\":[{\"id\":\"d1437b4b-e3fd-4a1e-b611-29c6e442f3c7\",\"type\":\"LegendItem\"},{\"id\":\"e5a47a28-4d71-436f-a275-4b73b589e4ec\",\"type\":\"LegendItem\"}],\"plot\":{\"id\":\"92c45f54-c016-4a33-9a1d-fe3e4a460ab7\",\"subtype\":\"Figure\",\"type\":\"Plot\"}},\"id\":\"d1cc6359-c97c-4f7f-8a70-99ce30ca087d\",\"type\":\"Legend\"},{\"attributes\":{\"line_color\":\"#440154\",\"line_width\":4,\"x\":{\"field\":\"x\"},\"y\":{\"field\":\"y\"}},\"id\":\"392cd0d6-53ed-4f40-9a12-ae3a7a640887\",\"type\":\"Line\"},{\"attributes\":{\"label\":{\"value\":\"% CPU\"},\"renderers\":[{\"id\":\"05ed6249-9431-4e29-af45-d41440441eb6\",\"type\":\"GlyphRenderer\"}]},\"id\":\"d1437b4b-e3fd-4a1e-b611-29c6e442f3c7\",\"type\":\"LegendItem\"},{\"attributes\":{},\"id\":\"19a0a52f-272b-4a0c-8d6a-4b5358f8c824\",\"type\":\"LinearScale\"},{\"attributes\":{\"line_alpha\":0.1,\"line_color\":\"#1f77b4\",\"line_width\":4,\"x\":{\"field\":\"x\"},\"y\":{\"field\":\"y\"}},\"id\":\"53ff1fbd-3d03-4a77-8776-b02c649878cc\",\"type\":\"Line\"},{\"attributes\":{\"source\":{\"id\":\"8d35ad2c-4c88-49b3-8800-f6ae88a62a9e\",\"type\":\"ColumnDataSource\"}},\"id\":\"f0572d02-5fde-43e6-865e-865dbbbd551f\",\"type\":\"CDSView\"},{\"attributes\":{\"dimensions\":\"width\"},\"id\":\"4226390c-1164-4911-8300-3299818216bc\",\"type\":\"PanTool\"},{\"attributes\":{\"dimensions\":\"width\"},\"id\":\"15f57802-1bb7-4327-9a7f-3502f2350128\",\"type\":\"WheelZoomTool\"},{\"attributes\":{\"tools\":[{\"id\":\"302077ca-f2a2-4443-885f-7d3216f6df68\",\"type\":\"SaveTool\"},{\"id\":\"339a4794-05e7-4ba3-8a22-589d2dec6539\",\"type\":\"ResetTool\"},{\"id\":\"15f57802-1bb7-4327-9a7f-3502f2350128\",\"type\":\"WheelZoomTool\"},{\"id\":\"7dc19e57-9dc3-4517-a50c-c698d38b7a69\",\"type\":\"PanTool\"},{\"id\":\"42a3f38f-6495-49b3-8371-5ec3ec4eb391\",\"type\":\"HoverTool\"},{\"id\":\"67523149-e42c-436f-af00-7f4c143614f6\",\"type\":\"SaveTool\"},{\"id\":\"5a8447b7-7220-45b8-b499-b2b7a1ca12e8\",\"type\":\"ResetTool\"},{\"id\":\"905f0f45-2e0f-4547-9930-dc36e2f59fa4\",\"type\":\"WheelZoomTool\"},{\"id\":\"4226390c-1164-4911-8300-3299818216bc\",\"type\":\"PanTool\"}]},\"id\":\"166af716-6403-4c6c-ac21-736340620ea3\",\"type\":\"ProxyToolbar\"},{\"attributes\":{\"line_color\":\"#29788E\",\"line_width\":4,\"x\":{\"field\":\"x\"},\"y\":{\"field\":\"y\"}},\"id\":\"8c739f17-c8a1-4c0d-b51a-66a47d89909f\",\"type\":\"Line\"},{\"attributes\":{\"dimensions\":\"width\"},\"id\":\"905f0f45-2e0f-4547-9930-dc36e2f59fa4\",\"type\":\"WheelZoomTool\"},{\"attributes\":{\"data_source\":{\"id\":\"c0fbfeeb-6729-4993-ac6d-9bdb0825cd47\",\"type\":\"ColumnDataSource\"},\"glyph\":{\"id\":\"9c81e5a3-ddd1-49b5-98ca-aeffbee6d34c\",\"type\":\"Rect\"},\"hover_glyph\":null,\"muted_glyph\":null,\"nonselection_glyph\":{\"id\":\"842e4dd6-e4b0-4827-9bf0-fd2bbe5271f2\",\"type\":\"Rect\"},\"selection_glyph\":null,\"view\":{\"id\":\"192c011b-62f8-4b67-9910-8e1c1bb2037a\",\"type\":\"CDSView\"}},\"id\":\"8361fc7f-fa53-4ce8-9f95-f8c09b83b11a\",\"type\":\"GlyphRenderer\"},{\"attributes\":{\"fill_alpha\":{\"value\":0.1},\"fill_color\":{\"value\":\"#1f77b4\"},\"height\":{\"units\":\"data\",\"value\":1},\"line_alpha\":{\"value\":0.1},\"line_color\":{\"value\":\"#1f77b4\"},\"width\":{\"field\":\"width\",\"units\":\"data\"},\"x\":{\"field\":\"x\"},\"y\":{\"field\":\"y\"}},\"id\":\"842e4dd6-e4b0-4827-9bf0-fd2bbe5271f2\",\"type\":\"Rect\"},{\"attributes\":{},\"id\":\"dee2383d-7f81-45fa-a8ba-5fcb7b9c19aa\",\"type\":\"CategoricalTickFormatter\"},{\"attributes\":{},\"id\":\"5855ef7d-4ab8-461e-a1a7-ae5b6233a270\",\"type\":\"LinearScale\"},{\"attributes\":{},\"id\":\"6fc5800a-9777-4c47-a0e0-be6aca49dcdb\",\"type\":\"BasicTickFormatter\"},{\"attributes\":{\"fill_color\":{\"field\":\"color\"},\"height\":{\"units\":\"data\",\"value\":1},\"line_color\":{\"value\":\"gray\"},\"width\":{\"field\":\"width\",\"units\":\"data\"},\"x\":{\"field\":\"x\"},\"y\":{\"field\":\"y\"}},\"id\":\"9c81e5a3-ddd1-49b5-98ca-aeffbee6d34c\",\"type\":\"Rect\"},{\"attributes\":{\"axis_label\":\"Memory (MB)\",\"formatter\":{\"id\":\"527ab0a9-ba0c-4119-b152-1cfce22c8330\",\"type\":\"BasicTickFormatter\"},\"plot\":{\"id\":\"92c45f54-c016-4a33-9a1d-fe3e4a460ab7\",\"subtype\":\"Figure\",\"type\":\"Plot\"},\"ticker\":{\"id\":\"997ee80f-a839-4699-bf11-8103d95c0de2\",\"type\":\"BasicTicker\"},\"y_range_name\":\"memory\"},\"id\":\"1e4ffc1e-529b-43fb-8a2e-2f58aed6683c\",\"type\":\"LinearAxis\"},{\"attributes\":{\"label\":{\"value\":\"Memory\"},\"renderers\":[{\"id\":\"a3f54fe5-8fed-42f7-a359-04acd08a4ee1\",\"type\":\"GlyphRenderer\"}]},\"id\":\"e5a47a28-4d71-436f-a275-4b73b589e4ec\",\"type\":\"LegendItem\"},{\"attributes\":{\"line_alpha\":0.1,\"line_color\":\"#1f77b4\",\"line_width\":4,\"x\":{\"field\":\"x\"},\"y\":{\"field\":\"y\"}},\"id\":\"39144b0b-cf22-4b2b-82ad-62b43f450a45\",\"type\":\"Line\"},{\"attributes\":{},\"id\":\"527ab0a9-ba0c-4119-b152-1cfce22c8330\",\"type\":\"BasicTickFormatter\"},{\"attributes\":{\"source\":{\"id\":\"c0fbfeeb-6729-4993-ac6d-9bdb0825cd47\",\"type\":\"ColumnDataSource\"}},\"id\":\"192c011b-62f8-4b67-9910-8e1c1bb2037a\",\"type\":\"CDSView\"},{\"attributes\":{\"callback\":null,\"end\":407.1},\"id\":\"8085c039-9609-41fa-b8c1-e1282ce96cd7\",\"type\":\"Range1d\"},{\"attributes\":{\"children\":[{\"id\":\"dc980082-9f6b-4e75-8d9d-d913659a92c0\",\"type\":\"ToolbarBox\"},{\"id\":\"8f4a1a50-044c-46d2-a9c9-80735f22bf13\",\"type\":\"Column\"}]},\"id\":\"716cebda-72af-46f7-a7e3-44ed4a538cd5\",\"type\":\"Column\"},{\"attributes\":{\"dimensions\":\"width\"},\"id\":\"7dc19e57-9dc3-4517-a50c-c698d38b7a69\",\"type\":\"PanTool\"},{\"attributes\":{\"callback\":null,\"end\":11451.805696,\"start\":3830.980608},\"id\":\"00255164-f274-49b8-b0ce-3ba7734940e8\",\"type\":\"Range1d\"},{\"attributes\":{},\"id\":\"e0bbaf96-372a-4e38-8fc0-3b50e4e11193\",\"type\":\"BasicTickFormatter\"}],\"root_ids\":[\"716cebda-72af-46f7-a7e3-44ed4a538cd5\"]},\"title\":\"Bokeh Application\",\"version\":\"0.12.14\"}};\n",
       "  var render_items = [{\"docid\":\"34b990b8-d54b-407b-a521-f3802cb5d8f2\",\"elementid\":\"3f93c972-c421-4db5-8882-b8baa33beea3\",\"modelid\":\"716cebda-72af-46f7-a7e3-44ed4a538cd5\"}];\n",
       "  root.Bokeh.embed.embed_items_notebook(docs_json, render_items);\n",
       "\n",
       "  }\n",
       "  if (root.Bokeh !== undefined) {\n",
       "    embed_document(root);\n",
       "  } else {\n",
       "    var attempts = 0;\n",
       "    var timer = setInterval(function(root) {\n",
       "      if (root.Bokeh !== undefined) {\n",
       "        embed_document(root);\n",
       "        clearInterval(timer);\n",
       "      }\n",
       "      attempts++;\n",
       "      if (attempts > 100) {\n",
       "        console.log(\"Bokeh: ERROR: Unable to run BokehJS code because BokehJS library is missing\")\n",
       "        clearInterval(timer);\n",
       "      }\n",
       "    }, 10, root)\n",
       "  }\n",
       "})(window);"
      ],
      "application/vnd.bokehjs_exec.v0+json": ""
     },
     "metadata": {
      "application/vnd.bokehjs_exec.v0+json": {
       "id": "716cebda-72af-46f7-a7e3-44ed4a538cd5"
      }
     },
     "output_type": "display_data"
    },
    {
     "data": {
      "text/html": [
       "<div style=\"display: table;\"><div style=\"display: table-row;\"><div style=\"display: table-cell;\"><b title=\"bokeh.models.layouts.Column\">Column</b>(</div><div style=\"display: table-cell;\">id&nbsp;=&nbsp;'716cebda-72af-46f7-a7e3-44ed4a538cd5', <span id=\"43024f2e-1de2-4c0d-8a43-44cc4fed5062\" style=\"cursor: pointer;\">&hellip;)</span></div></div><div class=\"5aa21d29-9180-498a-8b22-1cda5ed7dfea\" style=\"display: none;\"><div style=\"display: table-cell;\"></div><div style=\"display: table-cell;\">children&nbsp;=&nbsp;[ToolbarBox(id='dc980082-9f6b-4e75-8d9d-d913659a92c0', ...), Column(id='8f4a1a50-044c-46d2-a9c9-80735f22bf13', ...)],</div></div><div class=\"5aa21d29-9180-498a-8b22-1cda5ed7dfea\" style=\"display: none;\"><div style=\"display: table-cell;\"></div><div style=\"display: table-cell;\">css_classes&nbsp;=&nbsp;[],</div></div><div class=\"5aa21d29-9180-498a-8b22-1cda5ed7dfea\" style=\"display: none;\"><div style=\"display: table-cell;\"></div><div style=\"display: table-cell;\">disabled&nbsp;=&nbsp;False,</div></div><div class=\"5aa21d29-9180-498a-8b22-1cda5ed7dfea\" style=\"display: none;\"><div style=\"display: table-cell;\"></div><div style=\"display: table-cell;\">height&nbsp;=&nbsp;None,</div></div><div class=\"5aa21d29-9180-498a-8b22-1cda5ed7dfea\" style=\"display: none;\"><div style=\"display: table-cell;\"></div><div style=\"display: table-cell;\">js_event_callbacks&nbsp;=&nbsp;{},</div></div><div class=\"5aa21d29-9180-498a-8b22-1cda5ed7dfea\" style=\"display: none;\"><div style=\"display: table-cell;\"></div><div style=\"display: table-cell;\">js_property_callbacks&nbsp;=&nbsp;{},</div></div><div class=\"5aa21d29-9180-498a-8b22-1cda5ed7dfea\" style=\"display: none;\"><div style=\"display: table-cell;\"></div><div style=\"display: table-cell;\">name&nbsp;=&nbsp;None,</div></div><div class=\"5aa21d29-9180-498a-8b22-1cda5ed7dfea\" style=\"display: none;\"><div style=\"display: table-cell;\"></div><div style=\"display: table-cell;\">sizing_mode&nbsp;=&nbsp;'fixed',</div></div><div class=\"5aa21d29-9180-498a-8b22-1cda5ed7dfea\" style=\"display: none;\"><div style=\"display: table-cell;\"></div><div style=\"display: table-cell;\">subscribed_events&nbsp;=&nbsp;[],</div></div><div class=\"5aa21d29-9180-498a-8b22-1cda5ed7dfea\" style=\"display: none;\"><div style=\"display: table-cell;\"></div><div style=\"display: table-cell;\">tags&nbsp;=&nbsp;[],</div></div><div class=\"5aa21d29-9180-498a-8b22-1cda5ed7dfea\" style=\"display: none;\"><div style=\"display: table-cell;\"></div><div style=\"display: table-cell;\">width&nbsp;=&nbsp;None)</div></div></div>\n",
       "<script>\n",
       "(function() {\n",
       "  var expanded = false;\n",
       "  var ellipsis = document.getElementById(\"43024f2e-1de2-4c0d-8a43-44cc4fed5062\");\n",
       "  ellipsis.addEventListener(\"click\", function() {\n",
       "    var rows = document.getElementsByClassName(\"5aa21d29-9180-498a-8b22-1cda5ed7dfea\");\n",
       "    for (var i = 0; i < rows.length; i++) {\n",
       "      var el = rows[i];\n",
       "      el.style.display = expanded ? \"none\" : \"table-row\";\n",
       "    }\n",
       "    ellipsis.innerHTML = expanded ? \"&hellip;)\" : \"&lsaquo;&lsaquo;&lsaquo;\";\n",
       "    expanded = !expanded;\n",
       "  });\n",
       "})();\n",
       "</script>\n"
      ],
      "text/plain": [
       "Column(id='716cebda-72af-46f7-a7e3-44ed4a538cd5', ...)"
      ]
     },
     "execution_count": 12,
     "metadata": {},
     "output_type": "execute_result"
    }
   ],
   "source": [
    "with dg.ProgressBar(), dg.ResourceProfiler(dt=0.1) as rprof, dg.Profiler() as prof:\n",
    "    dag = (\n",
    "        db\n",
    "        .read_text(datasets['train_1'], blocksize=10*MEGABYTES)     # loads file in chunks of 10MB\n",
    "        .map(str.strip)                                             # removes trailing \\n\n",
    "        .map(str.split, ',')                                        # splits each line into a list \n",
    "        .filter(lambda x: x[0] != '\"Page\"')                         # filters out first line\n",
    "        .map(lambda x: x[-len(headers)+1:])                         # ignores first column (index)\n",
    "        .map(lambda x: np.array([float(y) if y else 0 for y in x])) # creates an array of floats\n",
    "        .sum()                                                      # aggregates arrays\n",
    "    )\n",
    "\n",
    "    result2 = dag.compute()\n",
    "    \n",
    "dg.visualize([rprof, prof])"
   ]
  },
  {
   "cell_type": "code",
   "execution_count": null,
   "metadata": {},
   "outputs": [],
   "source": []
  }
 ],
 "metadata": {
  "kernelspec": {
   "display_name": "daniel-severo",
   "language": "python",
   "name": "daniel-severo"
  },
  "language_info": {
   "codemirror_mode": {
    "name": "ipython",
    "version": 3
   },
   "file_extension": ".py",
   "mimetype": "text/x-python",
   "name": "python",
   "nbconvert_exporter": "python",
   "pygments_lexer": "ipython3",
   "version": "3.6.4"
  }
 },
 "nbformat": 4,
 "nbformat_minor": 2
}
