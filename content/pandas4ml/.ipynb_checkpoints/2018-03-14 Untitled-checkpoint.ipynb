{
 "cells": [
  {
   "cell_type": "markdown",
   "metadata": {},
   "source": [
    "# 1. Kaggle data\n",
    "\n",
    "Kaggle can provide us with a ton of datasets. We will be using the official kaggle api to automate our data fetching process.\n",
    "\n",
    "1. Log on to kaggle and enter the [How good is your Medium article?](https://www.kaggle.com/c/how-good-is-your-medium-article) competition.\n",
    "2. Configure the official kaggle api [following these steps](https://github.com/Kaggle/kaggle-api)."
   ]
  },
  {
   "cell_type": "markdown",
   "metadata": {},
   "source": [
    "For this tutorial we will need only 1 file.\n",
    "```bash\n",
    "kaggle competitions download -c how-good-is-your-medium-article -f train.json.gz\n",
    "\n",
    "```\n",
    "\n",
    "The reason for decompressing will become clear later.\n",
    "\n",
    "```bash\n",
    "gunzip -k ~/.kaggle/competitions/how-good-is-your-medium-article/train.json.gz\n",
    "```"
   ]
  },
  {
   "cell_type": "markdown",
   "metadata": {},
   "source": [
    "# 2. Exploration."
   ]
  },
  {
   "cell_type": "markdown",
   "metadata": {},
   "source": [
    "Despite the extension being json our data is stored as [jsonl](http://jsonlines.org/). This means that each line of `train.json` is a valid json file."
   ]
  },
  {
   "cell_type": "markdown",
   "metadata": {},
   "source": [
    "```bash\n",
    "head -n1 ~/.kaggle/competitions/how-good-is-your-medium-article/train.json | jq 'del(.content)'\n",
    "```\n",
    "```json\n",
    "{\n",
    "  \"_id\": \"https://medium.com/policy/medium-terms-of-service-9db0094a1e0f\",\n",
    "  \"_timestamp\": 1520035195.282891,\n",
    "  \"_spider\": \"medium\",\n",
    "  \"url\": \"https://medium.com/policy/medium-terms-of-service-9db0094a1e0f\",\n",
    "  \"domain\": \"medium.com\",\n",
    "  \"published\": {\n",
    "    \"$date\": \"2012-08-13T22:54:53.510Z\"\n",
    "  },\n",
    "  \"title\": \"Medium Terms of Service – Medium Policy – Medium\",\n",
    "  \"author\": {\n",
    "    \"name\": null,\n",
    "    \"url\": \"https://medium.com/@Medium\",\n",
    "    \"twitter\": \"@Medium\"\n",
    "  },\n",
    "  \"image_url\": null,\n",
    "  \"tags\": [],\n",
    "  \"link_tags\": {\n",
    "    \"canonical\": \"https://medium.com/policy/medium-terms-of-service-9db0094a1e0f\",\n",
    "    \"publisher\": \"https://plus.google.com/103654360130207659246\",\n",
    "    \"author\": \"https://medium.com/@Medium\",\n",
    "    \"search\": \"/osd.xml\",\n",
    "    \"alternate\": \"android-app://com.medium.reader/https/medium.com/p/9db0094a1e0f\",\n",
    "    \"stylesheet\": \"https://cdn-static-1.medium.com/_/fp/css/main-branding-base.Ch8g7KPCoGXbtKfJaVXo_w.css\",\n",
    "    \"icon\": \"https://cdn-static-1.medium.com/_/fp/icons/favicon-rebrand-medium.3Y6xpZ-0FSdWDnPM3hSBIA.ico\",\n",
    "    \"apple-touch-icon\": \"https://cdn-images-1.medium.com/fit/c/120/120/1*6_fgYnisCa9V21mymySIvA.png\",\n",
    "    \"mask-icon\": \"https://cdn-static-1.medium.com/_/fp/icons/monogram-mask.KPLCSFEZviQN0jQ7veN2RQ.svg\"\n",
    "  },\n",
    "  \"meta_tags\": {\n",
    "    \"viewport\": \"width=device-width, initial-scale=1\",\n",
    "    \"title\": \"Medium Terms of Service – Medium Policy – Medium\",\n",
    "    \"referrer\": \"unsafe-url\",\n",
    "    \"description\": \"These Terms of Service (“Terms”) are a contract between you and A Medium Corporation. They govern your use of Medium’s sites, services, mobile apps, products, and content (“Services”). By using…\",\n",
    "    \"theme-color\": \"#000000\",\n",
    "    \"og:title\": \"Medium Terms of Service – Medium Policy – Medium\",\n",
    "    \"og:url\": \"https://medium.com/policy/medium-terms-of-service-9db0094a1e0f\",\n",
    "    \"fb:app_id\": \"542599432471018\",\n",
    "    \"og:description\": \"These Terms of Service (“Terms”) are a contract between you and A Medium Corporation. They govern your use of Medium’s sites, services, mobile apps, products, and content (“Services”). By using…\",\n",
    "    \"twitter:description\": \"These Terms of Service (“Terms”) are a contract between you and A Medium Corporation. They govern your use of Medium’s sites, services, mobile apps, products, and content (“Services”). By using…\",\n",
    "    \"author\": \"Medium\",\n",
    "    \"og:type\": \"article\",\n",
    "    \"twitter:card\": \"summary\",\n",
    "    \"article:publisher\": \"https://www.facebook.com/medium\",\n",
    "    \"article:author\": \"https://medium.com/@Medium\",\n",
    "    \"robots\": \"index, follow\",\n",
    "    \"article:published_time\": \"2012-08-13T22:54:53.510Z\",\n",
    "    \"twitter:creator\": \"@Medium\",\n",
    "    \"twitter:site\": \"@Medium\",\n",
    "    \"og:site_name\": \"Medium\",\n",
    "    \"twitter:label1\": \"Reading time\",\n",
    "    \"twitter:data1\": \"5 min read\",\n",
    "    \"twitter:app:name:iphone\": \"Medium\",\n",
    "    \"twitter:app:id:iphone\": \"828256236\",\n",
    "    \"twitter:app:url:iphone\": \"medium://p/9db0094a1e0f\",\n",
    "    \"al:ios:app_name\": \"Medium\",\n",
    "    \"al:ios:app_store_id\": \"828256236\",\n",
    "    \"al:android:package\": \"com.medium.reader\",\n",
    "    \"al:android:app_name\": \"Medium\",\n",
    "    \"al:ios:url\": \"medium://p/9db0094a1e0f\",\n",
    "    \"al:android:url\": \"medium://p/9db0094a1e0f\",\n",
    "    \"al:web:url\": \"https://medium.com/policy/medium-terms-of-service-9db0094a1e0f\"\n",
    "  }\n",
    "}\n",
    "```"
   ]
  },
  {
   "cell_type": "markdown",
   "metadata": {},
   "source": [
    "I've ommited the `content` field due to it's huge verbosity. Our problem requires that we use the fields `published.$date` and `meta_tags.twitter:data`."
   ]
  },
  {
   "cell_type": "markdown",
   "metadata": {},
   "source": [
    "```bash\n",
    "head -n10 train.json | jq '[.published[\"$date\"], .meta_tags[\"twitter:data1\"]] | @csv' -r\n",
    "```\n",
    "```\n",
    "\"2012-08-13T22:54:53.510Z\",\"5 min read\"\n",
    "\"2015-08-03T07:44:50.331Z\",\"7 min read\"\n",
    "\"2017-02-05T13:08:17.410Z\",\"2 min read\"\n",
    "\"2017-05-06T08:16:30.776Z\",\"3 min read\"\n",
    "\"2017-06-04T14:46:25.772Z\",\"4 min read\"\n",
    "\"2017-04-02T16:21:15.171Z\",\"7 min read\"\n",
    "\"2016-08-15T04:16:02.103Z\",\"12 min read\"\n",
    "\"2015-01-14T21:31:07.568Z\",\"5 min read\"\n",
    "\"2014-02-11T04:11:54.771Z\",\"4 min read\"\n",
    "\"2015-10-25T02:58:05.551Z\",\"8 min read\"\n",
    "```"
   ]
  },
  {
   "cell_type": "markdown",
   "metadata": {},
   "source": [
    "# 3. The good, the bad and the ugly solutions"
   ]
  },
  {
   "cell_type": "code",
   "execution_count": 1,
   "metadata": {},
   "outputs": [],
   "source": [
    "%matplotlib inline"
   ]
  },
  {
   "cell_type": "code",
   "execution_count": 3,
   "metadata": {},
   "outputs": [],
   "source": [
    "import json\n",
    "import pandas as pd\n",
    "import os\n",
    "import dask.bag as db\n",
    "\n",
    "HOME = os.environ['HOME']\n",
    "train_file = f'{HOME}/.kaggle/competitions/how-good-is-your-medium-article/train.json'\n",
    "MEGABYTES = 1024**2"
   ]
  },
  {
   "cell_type": "markdown",
   "metadata": {},
   "source": [
    "## The Ugly"
   ]
  },
  {
   "cell_type": "code",
   "execution_count": 4,
   "metadata": {},
   "outputs": [
    {
     "data": {
      "text/html": [
       "<div>\n",
       "<style scoped>\n",
       "    .dataframe tbody tr th:only-of-type {\n",
       "        vertical-align: middle;\n",
       "    }\n",
       "\n",
       "    .dataframe tbody tr th {\n",
       "        vertical-align: top;\n",
       "    }\n",
       "\n",
       "    .dataframe thead th {\n",
       "        text-align: right;\n",
       "    }\n",
       "</style>\n",
       "<table border=\"1\" class=\"dataframe\">\n",
       "  <thead>\n",
       "    <tr style=\"text-align: right;\">\n",
       "      <th></th>\n",
       "      <th>published_timestamp</th>\n",
       "      <th>read_time</th>\n",
       "    </tr>\n",
       "  </thead>\n",
       "  <tbody>\n",
       "    <tr>\n",
       "      <th>0</th>\n",
       "      <td>2012-08-13T22:54:53.510Z</td>\n",
       "      <td>5 min read</td>\n",
       "    </tr>\n",
       "    <tr>\n",
       "      <th>1</th>\n",
       "      <td>2015-08-03T07:44:50.331Z</td>\n",
       "      <td>7 min read</td>\n",
       "    </tr>\n",
       "    <tr>\n",
       "      <th>2</th>\n",
       "      <td>2017-02-05T13:08:17.410Z</td>\n",
       "      <td>2 min read</td>\n",
       "    </tr>\n",
       "    <tr>\n",
       "      <th>3</th>\n",
       "      <td>2017-05-06T08:16:30.776Z</td>\n",
       "      <td>3 min read</td>\n",
       "    </tr>\n",
       "    <tr>\n",
       "      <th>4</th>\n",
       "      <td>2017-06-04T14:46:25.772Z</td>\n",
       "      <td>4 min read</td>\n",
       "    </tr>\n",
       "  </tbody>\n",
       "</table>\n",
       "</div>"
      ],
      "text/plain": [
       "        published_timestamp   read_time\n",
       "0  2012-08-13T22:54:53.510Z  5 min read\n",
       "1  2015-08-03T07:44:50.331Z  7 min read\n",
       "2  2017-02-05T13:08:17.410Z  2 min read\n",
       "3  2017-05-06T08:16:30.776Z  3 min read\n",
       "4  2017-06-04T14:46:25.772Z  4 min read"
      ]
     },
     "execution_count": 4,
     "metadata": {},
     "output_type": "execute_result"
    }
   ],
   "source": [
    "def make_datum(x):\n",
    "    return {\n",
    "        'published_timestamp': x['published']['$date'],\n",
    "        'read_time': x['meta_tags']['twitter:data1']\n",
    "    }\n",
    "\n",
    "with open(train_file, 'r') as f:    \n",
    "    ugly_df = pd.DataFrame([make_datum(json.loads(x)) for x in f])\n",
    "ugly_df.head()"
   ]
  },
  {
   "cell_type": "code",
   "execution_count": 6,
   "metadata": {},
   "outputs": [
    {
     "data": {
      "image/png": "[encoded data removed]",
      "text/plain": [
       "<Figure size 720x216 with 1 Axes>"
      ]
     },
     "metadata": {},
     "output_type": "display_data"
    }
   ],
   "source": [
    "(\n",
    "    ugly_df\n",
    "    .assign(read_time = lambda x: x['read_time'].str.split(' ').str[0])\n",
    "    .astype({\n",
    "        'published_timestamp': 'datetime64[ns]',\n",
    "        'read_time': int\n",
    "    })\n",
    "    .set_index('published_timestamp')\n",
    "    ['read_time']\n",
    "    ['2015':]\n",
    "    .groupby(lambda index: pd.to_datetime(index.strftime('%Y-%m')))\n",
    "    .sum()\n",
    "    .plot(style='o--', figsize=(10,3), title='Total Medium posts read time per month')\n",
    ");"
   ]
  },
  {
   "cell_type": "markdown",
   "metadata": {},
   "source": [
    "## The Good"
   ]
  },
  {
   "cell_type": "code",
   "execution_count": 8,
   "metadata": {},
   "outputs": [
    {
     "data": {
      "image/png": "[encoded data removed]",
      "text/plain": [
       "<Figure size 720x216 with 1 Axes>"
      ]
     },
     "metadata": {},
     "output_type": "display_data"
    }
   ],
   "source": [
    "(\n",
    "    db\n",
    "    .read_text(train_file, blocksize=10*MEGABYTES)\n",
    "    .map(json.loads)\n",
    "    .map(lambda x: {\n",
    "        'published_timestamp': x['published']['$date'],\n",
    "        'read_time': x['meta_tags']['twitter:data1'].split(' ')[0]\n",
    "    })\n",
    "    .to_dataframe({\n",
    "        'published_timestamp': 'datetime64[ns]',\n",
    "        'read_time': int\n",
    "    })\n",
    "    .compute()\n",
    "    .set_index('published_timestamp')\n",
    "    ['read_time']\n",
    "    ['2015':]\n",
    "    .groupby(lambda index: pd.to_datetime(index.strftime('%Y-%m')))\n",
    "    .sum()\n",
    "    .plot(style='o--', figsize=(10,3), title='Total Medium posts read time per month')\n",
    ");"
   ]
  }
 ],
 "metadata": {
  "kernelspec": {
   "display_name": "daniel-severo",
   "language": "python",
   "name": "daniel-severo"
  },
  "language_info": {
   "codemirror_mode": {
    "name": "ipython",
    "version": 3
   },
   "file_extension": ".py",
   "mimetype": "text/x-python",
   "name": "python",
   "nbconvert_exporter": "python",
   "pygments_lexer": "ipython3",
   "version": "3.6.4"
  }
 },
 "nbformat": 4,
 "nbformat_minor": 2
}
