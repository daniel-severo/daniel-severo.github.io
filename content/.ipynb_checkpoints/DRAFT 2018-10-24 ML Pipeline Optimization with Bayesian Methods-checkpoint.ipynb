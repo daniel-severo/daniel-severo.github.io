{
 "cells": [
  {
   "cell_type": "markdown",
   "metadata": {},
   "source": [
    "Improving the performance of an ML model via hyperparameter optimization is common amongst practitioners of the field. While objects such as `sklearn.GridSearchCV` provide easy interfaces for such tasks, commiting to `sklearn`'s API and exploration strategy is not always possible. With `skopt` we can create a more flexible framework and, most importantly, reduce our optimization time by orders of magnitude with Bayesian regression."
   ]
  },
  {
   "cell_type": "code",
   "execution_count": 1,
   "metadata": {},
   "outputs": [],
   "source": [
    "%load_ext autoreload\n",
    "%autoreload 2"
   ]
  },
  {
   "cell_type": "code",
   "execution_count": 2,
   "metadata": {},
   "outputs": [
    {
     "name": "stderr",
     "output_type": "stream",
     "text": [
      "/home/severo/miniconda3/envs/dsevero.com/lib/python3.7/site-packages/sklearn/utils/__init__.py:4: DeprecationWarning: Using or importing the ABCs from 'collections' instead of from 'collections.abc' is deprecated, and in 3.8 it will stop working\n",
      "  from collections import Sequence\n"
     ]
    },
    {
     "data": {
      "text/plain": [
       "'0.19.1'"
      ]
     },
     "execution_count": 2,
     "metadata": {},
     "output_type": "execute_result"
    }
   ],
   "source": [
    "import sklearn\n",
    "sklearn.__version__"
   ]
  },
  {
   "cell_type": "code",
   "execution_count": 3,
   "metadata": {},
   "outputs": [
    {
     "name": "stderr",
     "output_type": "stream",
     "text": [
      "/home/severo/miniconda3/envs/dsevero.com/lib/python3.7/site-packages/sklearn/ensemble/weight_boosting.py:29: DeprecationWarning: numpy.core.umath_tests is an internal NumPy module and should not be imported. It will be removed in a future NumPy release.\n",
      "  from numpy.core.umath_tests import inner1d\n"
     ]
    }
   ],
   "source": [
    "%matplotlib inline\n",
    "\n",
    "import matplotlib.pyplot as plt\n",
    "import numpy as np\n",
    "import pandas as pd\n",
    "from sklearn.datasets import make_regression\n",
    "from sklearn.pipeline import make_pipeline\n",
    "from sklearn.model_selection import GridSearchCV, ShuffleSplit\n",
    "from sklearn.preprocessing import StandardScaler\n",
    "from sklearn.decomposition import PCA\n",
    "from sklearn.tree import DecisionTreeRegressor\n",
    "import seaborn as sns\n",
    "from skopt import BayesSearchCV\n",
    "from skopt.space import Integer\n",
    "\n",
    "sns.set(style=\"darkgrid\")"
   ]
  },
  {
   "cell_type": "markdown",
   "metadata": {},
   "source": [
    "# hyper parameter example"
   ]
  },
  {
   "cell_type": "code",
   "execution_count": 4,
   "metadata": {},
   "outputs": [],
   "source": [
    "X, y = make_regression(n_samples=1000, effective_rank=25)"
   ]
  },
  {
   "cell_type": "code",
   "execution_count": 5,
   "metadata": {},
   "outputs": [],
   "source": [
    "param_grid = {\n",
    "    'decisiontreeregressor__min_samples_split': np.linspace(start=10, \n",
    "                                                            stop=200, \n",
    "                                                            num=32, \n",
    "                                                            dtype=int)\n",
    "}\n",
    "\n",
    "pipeline = make_pipeline(StandardScaler(), \n",
    "                         DecisionTreeRegressor(random_state=0))\n",
    "\n",
    "grid_opt = GridSearchCV(pipeline,\n",
    "                        param_grid,\n",
    "                        scoring='r2',\n",
    "                        cv=ShuffleSplit(n_splits=10, test_size=0.3, random_state=0),\n",
    "                        return_train_score=True,\n",
    "                        n_jobs=-1)\n",
    "\n",
    "grid_results = pd.DataFrame(grid_opt.fit(X, y).cv_results_)"
   ]
  },
  {
   "cell_type": "markdown",
   "metadata": {},
   "source": [
    "# Bayes"
   ]
  },
  {
   "cell_type": "code",
   "execution_count": 25,
   "metadata": {},
   "outputs": [
    {
     "name": "stderr",
     "output_type": "stream",
     "text": [
      "/home/severo/miniconda3/envs/dsevero.com/lib/python3.7/site-packages/skopt/optimizer/optimizer.py:399: UserWarning: The objective has been evaluated at this point before.\n",
      "  warnings.warn(\"The objective has been evaluated \"\n",
      "/home/severo/miniconda3/envs/dsevero.com/lib/python3.7/site-packages/skopt/optimizer/optimizer.py:399: UserWarning: The objective has been evaluated at this point before.\n",
      "  warnings.warn(\"The objective has been evaluated \"\n",
      "/home/severo/miniconda3/envs/dsevero.com/lib/python3.7/site-packages/skopt/optimizer/optimizer.py:399: UserWarning: The objective has been evaluated at this point before.\n",
      "  warnings.warn(\"The objective has been evaluated \"\n"
     ]
    }
   ],
   "source": [
    "search_space = {\n",
    "    'decisiontreeregressor__min_samples_split': Integer(10, 200)\n",
    "}\n",
    "\n",
    "pipeline = make_pipeline(StandardScaler(), \n",
    "                         DecisionTreeRegressor(random_state=0))\n",
    "\n",
    "bayes_opt = BayesSearchCV(pipeline,\n",
    "                    search_space,\n",
    "                    scoring='r2',\n",
    "                    cv=ShuffleSplit(n_splits=10, test_size=0.3, random_state=0),\n",
    "                    return_train_score=True,\n",
    "                    n_iter=32,\n",
    "                    n_points=8,\n",
    "                    n_jobs=-1)\n",
    "\n",
    "bayes_results = pd.DataFrame(bayes_opt.fit(X, y).cv_results_)"
   ]
  },
  {
   "cell_type": "code",
   "execution_count": 28,
   "metadata": {},
   "outputs": [
    {
     "data": {
      "text/plain": [
       "<matplotlib.legend.Legend at 0x7f3f30298b38>"
      ]
     },
     "execution_count": 28,
     "metadata": {},
     "output_type": "execute_result"
    },
    {
     "data": {
      "image/png": "[encoded data removed]",
      "text/plain": [
       "<Figure size 864x360 with 1 Axes>"
      ]
     },
     "metadata": {
      "needs_background": "light"
     },
     "output_type": "display_data"
    }
   ],
   "source": [
    "param = 'param_decisiontreeregressor__min_samples_split'\n",
    "values = 'mean_test_score'\n",
    "\n",
    "plot_options = dict(x=param, y=values, figsize=(12,5), fontsize=18)\n",
    "\n",
    "ax = (bayes_results[[values, param]]\n",
    "      .sort_values(param)\n",
    "      .plot(**plot_options, style='x'))\n",
    "\n",
    "(grid_results[[values, param]]\n",
    " .sort_values(param)\n",
    " .plot(**plot_options, ax=ax, style='.'))\n",
    "\n",
    "plt.legend(['BayesSearchCV', 'GridSearchCV'])"
   ]
  }
 ],
 "metadata": {
  "kernelspec": {
   "display_name": "dsevero.com",
   "language": "python",
   "name": "dsevero.com"
  },
  "language_info": {
   "codemirror_mode": {
    "name": "ipython",
    "version": 3
   },
   "file_extension": ".py",
   "mimetype": "text/x-python",
   "name": "python",
   "nbconvert_exporter": "python",
   "pygments_lexer": "ipython3",
   "version": "3.7.0"
  }
 },
 "nbformat": 4,
 "nbformat_minor": 2
}
